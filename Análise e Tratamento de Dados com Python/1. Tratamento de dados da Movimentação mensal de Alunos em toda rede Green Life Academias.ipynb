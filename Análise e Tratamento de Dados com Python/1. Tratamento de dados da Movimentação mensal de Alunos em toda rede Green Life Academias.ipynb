{
 "cells": [
  {
   "cell_type": "markdown",
   "id": "56c1f2eb-d924-49db-ba30-b7a30aef543d",
   "metadata": {},
   "source": [
    "# Projeto\n",
    "- Tratamento de dados e Concatenação de planilhas do movimento de alunos dentro de todas as Unidades da Green Life academais no mês de outubro de 2024"
   ]
  },
  {
   "cell_type": "markdown",
   "id": "eee56cc0-b5c0-4b0f-9acd-ed94f8c5b18c",
   "metadata": {},
   "source": [
    "### Objetivo\n",
    "- Para saber como anda o movimento das academias para Tomada de Decisões. E fazer futuras comparações mensais do movimento das 17 unidades.Foram feitas limpeza das planilhas de cada unidade. E no final a concatenação de todas as frequencias de alunos de cada academia em uma só planilha contendo todo o movimento da rede Green Life."
   ]
  },
  {
   "cell_type": "code",
   "execution_count": null,
   "id": "e7e24293-973e-4ba8-abdc-e6bef7a36fba",
   "metadata": {},
   "outputs": [],
   "source": []
  },
  {
   "cell_type": "code",
   "execution_count": null,
   "id": "edcd7fda-2306-43cf-8587-a73d14786a18",
   "metadata": {},
   "outputs": [],
   "source": []
  },
  {
   "cell_type": "markdown",
   "id": "37b03a77-b8a2-4794-a53a-edc21f0dc774",
   "metadata": {},
   "source": [
    "### Importação das Bibliotecas"
   ]
  },
  {
   "cell_type": "markdown",
   "id": "38b38210-4b2f-4b0b-8dc0-02de0f5b1a3d",
   "metadata": {},
   "source": [
    "Run ALL Cels: Quando você executa o comando \"Run All Cells\" no JupyterLab (ou no Jupyter Notebook), as células não são executadas simultaneamente. Elas são executadas em sequência, de cima para baixo."
   ]
  },
  {
   "cell_type": "markdown",
   "id": "44b73f9a-34b6-45cd-82e3-3a52ad3cf52c",
   "metadata": {},
   "source": [
    "Sim, o Pandas é inteligente o suficiente para reconhecer e concatenar colunas com o mesmo nome, mesmo que elas estejam em ordens diferentes nos DataFrames que você está tentando juntar."
   ]
  },
  {
   "cell_type": "markdown",
   "id": "ad598e91-b3df-4c18-b647-66eac08bb274",
   "metadata": {},
   "source": [
    "Se um dos DataFrames que você está concatenando possui colunas que não existem no outro, o Pandas irá preencher os valores correspondentes nessas colunas com NaN (Not a Number) para as linhas do DataFrame que não continha essas colunas."
   ]
  },
  {
   "cell_type": "code",
   "execution_count": 1,
   "id": "bbdae580-185a-498c-ad55-934b06874187",
   "metadata": {},
   "outputs": [],
   "source": [
    "import pandas as pd\n",
    "import plotly.express as px"
   ]
  },
  {
   "cell_type": "markdown",
   "id": "bec5b941-908f-41a7-8aef-63cff52e4ada",
   "metadata": {},
   "source": [
    "### Inicio: Aprender a ter acesso a cada aba do excel com o código abaixo. \n",
    "- If your Excel file has multiple sheets, you might need to specify the sheet name\n",
    "- Sempre subtraia o número de linhas puladas pelo o total de linhas do dataset"
   ]
  },
  {
   "cell_type": "markdown",
   "id": "32871820-c655-49bd-b9ab-ef1293b723f9",
   "metadata": {},
   "source": [
    "# Messejana [MES] - PREPROCESSING 1"
   ]
  },
  {
   "cell_type": "code",
   "execution_count": 2,
   "id": "2ca05092-8c0b-4cba-ad0b-0c7d165bb535",
   "metadata": {},
   "outputs": [],
   "source": [
    "data1 = pd.read_excel('Frequencia de Alunos Green Life Academias - outubro de 2024.xlsx', sheet_name='MES', skiprows=1, nrows=98)"
   ]
  },
  {
   "cell_type": "code",
   "execution_count": 3,
   "id": "b83a756f-743f-4a8d-8d6d-33cf86a1168c",
   "metadata": {},
   "outputs": [],
   "source": [
    "dataMES= data1.copy()"
   ]
  },
  {
   "cell_type": "code",
   "execution_count": 4,
   "id": "2bd1f0c5-0d6a-4e77-b073-eaf654a6243c",
   "metadata": {},
   "outputs": [
    {
     "data": {
      "text/html": [
       "<div>\n",
       "<style scoped>\n",
       "    .dataframe tbody tr th:only-of-type {\n",
       "        vertical-align: middle;\n",
       "    }\n",
       "\n",
       "    .dataframe tbody tr th {\n",
       "        vertical-align: top;\n",
       "    }\n",
       "\n",
       "    .dataframe thead th {\n",
       "        text-align: right;\n",
       "    }\n",
       "</style>\n",
       "<table border=\"1\" class=\"dataframe\">\n",
       "  <thead>\n",
       "    <tr style=\"text-align: right;\">\n",
       "      <th></th>\n",
       "      <th>Unnamed: 0</th>\n",
       "      <th>Unnamed: 1</th>\n",
       "      <th>Unnamed: 2</th>\n",
       "      <th>CATEGORIA</th>\n",
       "      <th>MODALIDADE</th>\n",
       "      <th>DIA DA SEMANA</th>\n",
       "      <th>HORÁRIO</th>\n",
       "      <th>AUX.1</th>\n",
       "      <th>TURNO</th>\n",
       "      <th>AUX 2</th>\n",
       "      <th>...</th>\n",
       "      <th>2024-10-25 00:00:00</th>\n",
       "      <th>2024-10-28 00:00:00</th>\n",
       "      <th>2024-10-29 00:00:00</th>\n",
       "      <th>2024-10-30 00:00:00</th>\n",
       "      <th>2024-10-31 00:00:00</th>\n",
       "      <th>Média alunos p/ professor</th>\n",
       "      <th>Média</th>\n",
       "      <th>Alunos/professor</th>\n",
       "      <th>Ocupação Máxima</th>\n",
       "      <th>Professor</th>\n",
       "    </tr>\n",
       "  </thead>\n",
       "  <tbody>\n",
       "    <tr>\n",
       "      <th>0</th>\n",
       "      <td>NaN</td>\n",
       "      <td>NaN</td>\n",
       "      <td>NaN</td>\n",
       "      <td>QUADRA</td>\n",
       "      <td>BEACH TENNIS - INICIANTE</td>\n",
       "      <td>seg, qua, sex</td>\n",
       "      <td>05:30:00</td>\n",
       "      <td>05:30</td>\n",
       "      <td>MANHÃ</td>\n",
       "      <td>BEACH TENNIS - INICIANTE - 05:30</td>\n",
       "      <td>...</td>\n",
       "      <td>0</td>\n",
       "      <td>0</td>\n",
       "      <td>x</td>\n",
       "      <td>3</td>\n",
       "      <td>x</td>\n",
       "      <td>13.0</td>\n",
       "      <td>0.923077</td>\n",
       "      <td>NaN</td>\n",
       "      <td>NaN</td>\n",
       "      <td>NaN</td>\n",
       "    </tr>\n",
       "    <tr>\n",
       "      <th>1</th>\n",
       "      <td>NaN</td>\n",
       "      <td>NaN</td>\n",
       "      <td>NaN</td>\n",
       "      <td>QUADRA</td>\n",
       "      <td>BEACH TENNIS - INTERMEDIÁRIO</td>\n",
       "      <td>ter, qui</td>\n",
       "      <td>05:30:00</td>\n",
       "      <td>05:30</td>\n",
       "      <td>MANHÃ</td>\n",
       "      <td>BEACH TENNIS - INTERMEDIÁRIO - 05:30</td>\n",
       "      <td>...</td>\n",
       "      <td>x</td>\n",
       "      <td>x</td>\n",
       "      <td>5</td>\n",
       "      <td>x</td>\n",
       "      <td>6</td>\n",
       "      <td>11.0</td>\n",
       "      <td>4.636364</td>\n",
       "      <td>NaN</td>\n",
       "      <td>NaN</td>\n",
       "      <td>NaN</td>\n",
       "    </tr>\n",
       "    <tr>\n",
       "      <th>2</th>\n",
       "      <td>NaN</td>\n",
       "      <td>NaN</td>\n",
       "      <td>NaN</td>\n",
       "      <td>ADULTO</td>\n",
       "      <td>GREEN BIKE</td>\n",
       "      <td>seg, qua,sex</td>\n",
       "      <td>06:00:00</td>\n",
       "      <td>06:00</td>\n",
       "      <td>MANHÃ</td>\n",
       "      <td>GREEN BIKE - 06:00</td>\n",
       "      <td>...</td>\n",
       "      <td>10</td>\n",
       "      <td>7</td>\n",
       "      <td>x</td>\n",
       "      <td>10</td>\n",
       "      <td>x</td>\n",
       "      <td>11.0</td>\n",
       "      <td>7.454545</td>\n",
       "      <td>NaN</td>\n",
       "      <td>NaN</td>\n",
       "      <td>0.0</td>\n",
       "    </tr>\n",
       "    <tr>\n",
       "      <th>3</th>\n",
       "      <td>NaN</td>\n",
       "      <td>NaN</td>\n",
       "      <td>NaN</td>\n",
       "      <td>ADULTO</td>\n",
       "      <td>CROSSFIT</td>\n",
       "      <td>seg, ter,  qua, qui, sex</td>\n",
       "      <td>06:00:00</td>\n",
       "      <td>06:00</td>\n",
       "      <td>MANHÃ</td>\n",
       "      <td>CROSSFIT - 06:00</td>\n",
       "      <td>...</td>\n",
       "      <td>x</td>\n",
       "      <td>1</td>\n",
       "      <td>3</td>\n",
       "      <td>3</td>\n",
       "      <td>4</td>\n",
       "      <td>21.0</td>\n",
       "      <td>1.904762</td>\n",
       "      <td>NaN</td>\n",
       "      <td>NaN</td>\n",
       "      <td>0.0</td>\n",
       "    </tr>\n",
       "    <tr>\n",
       "      <th>4</th>\n",
       "      <td>NaN</td>\n",
       "      <td>NaN</td>\n",
       "      <td>NaN</td>\n",
       "      <td>MUSC - C/P</td>\n",
       "      <td>A - MUSCULAÇÃO COM PERSONAL</td>\n",
       "      <td>seg, ter, qua, qui, sex</td>\n",
       "      <td>06:00:00</td>\n",
       "      <td>06:00</td>\n",
       "      <td>MANHÃ</td>\n",
       "      <td>A - MUSCULAÇÃO COM PERSONAL - 06:00</td>\n",
       "      <td>...</td>\n",
       "      <td>8</td>\n",
       "      <td>8</td>\n",
       "      <td>2</td>\n",
       "      <td>10</td>\n",
       "      <td>8</td>\n",
       "      <td>23.0</td>\n",
       "      <td>6.608696</td>\n",
       "      <td>NaN</td>\n",
       "      <td>NaN</td>\n",
       "      <td>NaN</td>\n",
       "    </tr>\n",
       "  </tbody>\n",
       "</table>\n",
       "<p>5 rows × 40 columns</p>\n",
       "</div>"
      ],
      "text/plain": [
       "  Unnamed: 0  Unnamed: 1  Unnamed: 2   CATEGORIA  \\\n",
       "0        NaN         NaN         NaN      QUADRA   \n",
       "1        NaN         NaN         NaN      QUADRA   \n",
       "2        NaN         NaN         NaN      ADULTO   \n",
       "3        NaN         NaN         NaN      ADULTO   \n",
       "4        NaN         NaN         NaN  MUSC - C/P   \n",
       "\n",
       "                     MODALIDADE             DIA DA SEMANA   HORÁRIO  AUX.1  \\\n",
       "0      BEACH TENNIS - INICIANTE             seg, qua, sex  05:30:00  05:30   \n",
       "1  BEACH TENNIS - INTERMEDIÁRIO                  ter, qui  05:30:00  05:30   \n",
       "2                    GREEN BIKE              seg, qua,sex  06:00:00  06:00   \n",
       "3                      CROSSFIT  seg, ter,  qua, qui, sex  06:00:00  06:00   \n",
       "4   A - MUSCULAÇÃO COM PERSONAL   seg, ter, qua, qui, sex  06:00:00  06:00   \n",
       "\n",
       "   TURNO                                 AUX 2  ... 2024-10-25 00:00:00  \\\n",
       "0  MANHÃ      BEACH TENNIS - INICIANTE - 05:30  ...                   0   \n",
       "1  MANHÃ  BEACH TENNIS - INTERMEDIÁRIO - 05:30  ...                   x   \n",
       "2  MANHÃ                    GREEN BIKE - 06:00  ...                  10   \n",
       "3  MANHÃ                      CROSSFIT - 06:00  ...                   x   \n",
       "4  MANHÃ   A - MUSCULAÇÃO COM PERSONAL - 06:00  ...                   8   \n",
       "\n",
       "  2024-10-28 00:00:00 2024-10-29 00:00:00 2024-10-30 00:00:00  \\\n",
       "0                   0                   x                   3   \n",
       "1                   x                   5                   x   \n",
       "2                   7                   x                  10   \n",
       "3                   1                   3                   3   \n",
       "4                   8                   2                  10   \n",
       "\n",
       "  2024-10-31 00:00:00 Média alunos p/ professor     Média Alunos/professor  \\\n",
       "0                   x                      13.0  0.923077              NaN   \n",
       "1                   6                      11.0  4.636364              NaN   \n",
       "2                   x                      11.0  7.454545              NaN   \n",
       "3                   4                      21.0  1.904762              NaN   \n",
       "4                   8                      23.0  6.608696              NaN   \n",
       "\n",
       "  Ocupação Máxima Professor  \n",
       "0             NaN       NaN  \n",
       "1             NaN       NaN  \n",
       "2             NaN       0.0  \n",
       "3             NaN       0.0  \n",
       "4             NaN       NaN  \n",
       "\n",
       "[5 rows x 40 columns]"
      ]
     },
     "execution_count": 4,
     "metadata": {},
     "output_type": "execute_result"
    }
   ],
   "source": [
    "dataMES.head()"
   ]
  },
  {
   "cell_type": "markdown",
   "id": "7836f40a-8ce1-42e2-8ccf-4a44be756d10",
   "metadata": {},
   "source": [
    "### 1 PASSO: Removendo colunas desnecessárias"
   ]
  },
  {
   "cell_type": "code",
   "execution_count": 5,
   "id": "1627a12f-bfb7-408e-83ca-8f5b90045a1e",
   "metadata": {},
   "outputs": [],
   "source": [
    "del dataMES['Unnamed: 0']\n",
    "del dataMES['Unnamed: 1']\n",
    "del dataMES['Unnamed: 2']"
   ]
  },
  {
   "cell_type": "code",
   "execution_count": 6,
   "id": "12714e1f-338e-4d7b-b91b-4468f687e49a",
   "metadata": {},
   "outputs": [],
   "source": [
    "del dataMES['HORÁRIO']\n",
    "del dataMES['AUX 2']\n",
    "del dataMES['AUX 3']"
   ]
  },
  {
   "cell_type": "markdown",
   "id": "11285bfb-034e-40a3-9d28-33f974a36f06",
   "metadata": {},
   "source": [
    "- PRECISAMOS RENOMEAR A COLUNA AUX1 COMO HORÁRIO"
   ]
  },
  {
   "cell_type": "code",
   "execution_count": 7,
   "id": "907333e6-a37f-4ddb-a314-f4b8c8f8a8d4",
   "metadata": {},
   "outputs": [],
   "source": [
    "dataMES.rename(columns={'AUX 1': 'HORÁRIO'}, inplace=True)"
   ]
  },
  {
   "cell_type": "markdown",
   "id": "cfac43a9-84aa-4fe9-a57c-550f2641632d",
   "metadata": {},
   "source": [
    "### 2 PASSO: Renomeando strings de datas, para que o pandas possa aceitar como colunas"
   ]
  },
  {
   "cell_type": "code",
   "execution_count": 8,
   "id": "be6878b6-bcd8-4438-8ca5-77b698baaf29",
   "metadata": {},
   "outputs": [
    {
     "name": "stdout",
     "output_type": "stream",
     "text": [
      "CATEGORIA\n",
      "MODALIDADE\n",
      "DIA DA SEMANA\n",
      "AUX.1\n",
      "TURNO\n",
      "PROFESSOR\n",
      "2024-10-01 00:00:00\n",
      "2024-10-02 00:00:00\n",
      "2024-10-03 00:00:00\n",
      "2024-10-04 00:00:00\n",
      "2024-10-07 00:00:00\n",
      "2024-10-08 00:00:00\n",
      "2024-10-09 00:00:00\n",
      "2024-10-10 00:00:00\n",
      "2024-10-11 00:00:00\n",
      "2024-10-14 00:00:00\n",
      "2024-10-15 00:00:00\n",
      "2024-10-16 00:00:00\n",
      "2024-10-17 00:00:00\n",
      "2024-10-18 00:00:00\n",
      "2024-10-21 00:00:00\n",
      "2024-10-22 00:00:00\n",
      "2024-10-23 00:00:00\n",
      "2024-10-24 00:00:00\n",
      "2024-10-25 00:00:00\n",
      "2024-10-28 00:00:00\n",
      "2024-10-29 00:00:00\n",
      "2024-10-30 00:00:00\n",
      "2024-10-31 00:00:00\n",
      "Média alunos p/ professor\n",
      "Média\n",
      "Alunos/professor\n",
      "Ocupação Máxima\n",
      "Professor\n"
     ]
    }
   ],
   "source": [
    "for i in dataMES.columns:\n",
    "    print(i)"
   ]
  },
  {
   "cell_type": "code",
   "execution_count": 9,
   "id": "ea2c3752-d787-4fd0-956b-afaf5bd820c8",
   "metadata": {},
   "outputs": [],
   "source": [
    "dataMES.columns = [\n",
    "'CATEGORIA',\n",
    "'MODALIDADE',\n",
    "'DIA DA SEMANA',\n",
    "'HORÁRIO',\n",
    "'TURNO',\n",
    "'PROFESSOR',\n",
    "'2024-10-01 00:00:00',\n",
    "'2024-10-02 00:00:00',\n",
    "'2024-10-03 00:00:00',\n",
    "'2024-10-04 00:00:00',\n",
    "'2024-10-07 00:00:00',\n",
    "'2024-10-08 00:00:00',\n",
    "'2024-10-09 00:00:00',\n",
    "'2024-10-10 00:00:00',\n",
    "'2024-10-11 00:00:00',\n",
    "'2024-10-14 00:00:00',\n",
    "'2024-10-15 00:00:00',\n",
    "'2024-10-16 00:00:00',\n",
    "'2024-10-17 00:00:00',\n",
    "'2024-10-18 00:00:00',\n",
    "'2024-10-21 00:00:00',\n",
    "'2024-10-22 00:00:00',\n",
    "'2024-10-23 00:00:00',\n",
    "'2024-10-24 00:00:00',\n",
    "'2024-10-25 00:00:00',\n",
    "'2024-10-28 00:00:00',\n",
    "'2024-10-29 00:00:00',\n",
    "'2024-10-30 00:00:00',\n",
    "'2024-10-31 00:00:00',\n",
    "'Média alunos p/ professor',\n",
    "'Média',\n",
    "'Alunos/professor',\n",
    "'Ocupação Máxima',\n",
    "'Professor']"
   ]
  },
  {
   "cell_type": "code",
   "execution_count": 10,
   "id": "ed08ad72-9d97-4acb-ba7a-80c6cfdfdeb3",
   "metadata": {},
   "outputs": [
    {
     "data": {
      "text/plain": [
       "Index(['CATEGORIA', 'MODALIDADE', 'DIA DA SEMANA', 'HORÁRIO', 'TURNO',\n",
       "       'PROFESSOR', '2024-10-01 00:00:00', '2024-10-02 00:00:00',\n",
       "       '2024-10-03 00:00:00', '2024-10-04 00:00:00', '2024-10-07 00:00:00',\n",
       "       '2024-10-08 00:00:00', '2024-10-09 00:00:00', '2024-10-10 00:00:00',\n",
       "       '2024-10-11 00:00:00', '2024-10-14 00:00:00', '2024-10-15 00:00:00',\n",
       "       '2024-10-16 00:00:00', '2024-10-17 00:00:00', '2024-10-18 00:00:00',\n",
       "       '2024-10-21 00:00:00', '2024-10-22 00:00:00', '2024-10-23 00:00:00',\n",
       "       '2024-10-24 00:00:00', '2024-10-25 00:00:00', '2024-10-28 00:00:00',\n",
       "       '2024-10-29 00:00:00', '2024-10-30 00:00:00', '2024-10-31 00:00:00',\n",
       "       'Média alunos p/ professor', 'Média', 'Alunos/professor',\n",
       "       'Ocupação Máxima', 'Professor'],\n",
       "      dtype='object')"
      ]
     },
     "execution_count": 10,
     "metadata": {},
     "output_type": "execute_result"
    }
   ],
   "source": [
    "dataMES.columns"
   ]
  },
  {
   "cell_type": "markdown",
   "id": "65aa97ef-b2a5-41c4-86ef-6e03e477d587",
   "metadata": {},
   "source": [
    "### PASSO 3: Escolhendo colunas com o nome de 'datas', para renomear pelo o tipo dia, mês e ano. e removendo os 00 de horas"
   ]
  },
  {
   "cell_type": "code",
   "execution_count": 11,
   "id": "c3c07ea8-069d-4751-a65f-a2b966a35145",
   "metadata": {},
   "outputs": [],
   "source": [
    "colunas = ['2024-10-01 00:00:00',\n",
    "'2024-10-02 00:00:00',\n",
    "'2024-10-03 00:00:00',\n",
    "'2024-10-04 00:00:00',\n",
    "'2024-10-07 00:00:00',\n",
    "'2024-10-08 00:00:00',\n",
    "'2024-10-09 00:00:00',\n",
    "'2024-10-10 00:00:00',\n",
    "'2024-10-11 00:00:00',\n",
    "'2024-10-14 00:00:00',\n",
    "'2024-10-15 00:00:00',\n",
    "'2024-10-16 00:00:00',\n",
    "'2024-10-17 00:00:00',\n",
    "'2024-10-18 00:00:00',\n",
    "'2024-10-21 00:00:00',\n",
    "'2024-10-22 00:00:00',\n",
    "'2024-10-23 00:00:00',\n",
    "'2024-10-24 00:00:00',\n",
    "'2024-10-25 00:00:00',\n",
    "'2024-10-28 00:00:00',\n",
    "'2024-10-29 00:00:00',\n",
    "'2024-10-30 00:00:00',\n",
    "'2024-10-31 00:00:00',]"
   ]
  },
  {
   "cell_type": "markdown",
   "id": "0a73144e-7a01-42a1-badc-f8dd28d19297",
   "metadata": {},
   "source": [
    "Usando o loop for para mudar remover os zeros das colunas e alterar o nome para o dia, mês e ano"
   ]
  },
  {
   "cell_type": "code",
   "execution_count": 12,
   "id": "f1a475dd-5302-48f7-87be-60e921e9f0d3",
   "metadata": {},
   "outputs": [],
   "source": [
    "novas_colunas = []"
   ]
  },
  {
   "cell_type": "code",
   "execution_count": 13,
   "id": "b46e29a0-7e6b-4402-b2b9-65b07fccdb30",
   "metadata": {},
   "outputs": [],
   "source": [
    "for columns in colunas:\n",
    "    # Remove a parte da hora\n",
    "    data_sem_hora = columns.split(' ')[0]\n",
    "    \n",
    "    # Formata para o formato DD-MM-YYYY\n",
    "    ano, mes, dia = data_sem_hora.split('-')\n",
    "    novo_nome = f'{dia}-{mes}-{ano}'\n",
    "    novas_colunas.append(novo_nome)"
   ]
  },
  {
   "cell_type": "markdown",
   "id": "c973f318-f853-49d2-9bb0-754b93844c7c",
   "metadata": {},
   "source": [
    "colunas renomeadas com sucesso!"
   ]
  },
  {
   "cell_type": "code",
   "execution_count": 14,
   "id": "10b88405-a097-4da6-8c2a-4f9875b53380",
   "metadata": {},
   "outputs": [
    {
     "data": {
      "text/plain": [
       "['01-10-2024',\n",
       " '02-10-2024',\n",
       " '03-10-2024',\n",
       " '04-10-2024',\n",
       " '07-10-2024',\n",
       " '08-10-2024',\n",
       " '09-10-2024',\n",
       " '10-10-2024',\n",
       " '11-10-2024',\n",
       " '14-10-2024',\n",
       " '15-10-2024',\n",
       " '16-10-2024',\n",
       " '17-10-2024',\n",
       " '18-10-2024',\n",
       " '21-10-2024',\n",
       " '22-10-2024',\n",
       " '23-10-2024',\n",
       " '24-10-2024',\n",
       " '25-10-2024',\n",
       " '28-10-2024',\n",
       " '29-10-2024',\n",
       " '30-10-2024',\n",
       " '31-10-2024']"
      ]
     },
     "execution_count": 14,
     "metadata": {},
     "output_type": "execute_result"
    }
   ],
   "source": [
    "novas_colunas"
   ]
  },
  {
   "cell_type": "markdown",
   "id": "0f5ee4c2-bbf6-4e9e-966b-663fa70b7ebd",
   "metadata": {},
   "source": [
    "### PASSO 4 renomeando colunas e acrescentando o novo formato "
   ]
  },
  {
   "cell_type": "markdown",
   "id": "28f60051-0722-4b06-afe2-cdbc8483e286",
   "metadata": {},
   "source": [
    "copie as colunas que escolheu para renomear, e cole o formato novo no lugar das velhas"
   ]
  },
  {
   "cell_type": "code",
   "execution_count": 15,
   "id": "e44c318d-4763-435d-a2c0-e4d8c31a94dd",
   "metadata": {},
   "outputs": [],
   "source": [
    "dataMES.columns = [\n",
    "'CATEGORIA',\n",
    "'MODALIDADE',\n",
    "'DIA DA SEMANA',\n",
    "'HORÁRIO',\n",
    "'TURNO',\n",
    "'PROFESSOR',\n",
    "'01-10-2024',\n",
    "'02-10-2024',\n",
    "'03-10-2024',\n",
    "'04-10-2024',\n",
    "'07-10-2024',\n",
    "'08-10-2024',\n",
    "'09-10-2024',\n",
    "'10-10-2024',\n",
    "'11-10-2024',\n",
    "'14-10-2024',\n",
    "'15-10-2024',\n",
    "'16-10-2024',\n",
    "'17-10-2024',\n",
    "'18-10-2024',\n",
    "'21-10-2024',\n",
    "'22-10-2024',\n",
    "'23-10-2024',\n",
    "'24-10-2024',\n",
    "'25-10-2024',\n",
    "'28-10-2024',\n",
    "'29-10-2024',\n",
    "'30-10-2024',\n",
    "'31-10-2024',\n",
    "'Média alunos p/ professor',\n",
    "'Média',\n",
    "'Alunos/professor',\n",
    "'Ocupação Máxima',\n",
    "'Professor']"
   ]
  },
  {
   "cell_type": "markdown",
   "id": "3893aa0f-7c4e-4bbb-a288-9765415016e3",
   "metadata": {},
   "source": [
    "### 5 PASSO: Usar o Loop for para substitituir os valores das frequencia de 'x' e 'X' por zero, com o método do pd.to_numeric) "
   ]
  },
  {
   "cell_type": "markdown",
   "id": "eea37cff-3ce1-488b-b24d-6313f179f4b2",
   "metadata": {},
   "source": [
    "Escolhendo apenas as colunas de datas"
   ]
  },
  {
   "cell_type": "code",
   "execution_count": 16,
   "id": "06f530ca-f2e7-448a-9aa5-569bb9d24d1f",
   "metadata": {},
   "outputs": [],
   "source": [
    "colunas = ['01-10-2024',\n",
    "'02-10-2024',\n",
    "'03-10-2024',\n",
    "'04-10-2024',\n",
    "'07-10-2024',\n",
    "'08-10-2024',\n",
    "'09-10-2024',\n",
    "'10-10-2024',\n",
    "'11-10-2024',\n",
    "'14-10-2024',\n",
    "'15-10-2024',\n",
    "'16-10-2024',\n",
    "'17-10-2024',\n",
    "'18-10-2024',\n",
    "'21-10-2024',\n",
    "'22-10-2024',\n",
    "'23-10-2024',\n",
    "'24-10-2024',\n",
    "'25-10-2024',\n",
    "'28-10-2024',\n",
    "'29-10-2024',\n",
    "'30-10-2024',\n",
    "'31-10-2024']"
   ]
  },
  {
   "cell_type": "markdown",
   "id": "81bbd04a-71c7-4e76-b537-9a6e627015c4",
   "metadata": {},
   "source": [
    "Fazendo a limpeza profunda, formatando valores para numeros, preenchendo com zeros os nulos e transformando em inteiros"
   ]
  },
  {
   "cell_type": "code",
   "execution_count": 17,
   "id": "46ad72f7-eec1-4dab-8a55-f14aeb7669c0",
   "metadata": {},
   "outputs": [],
   "source": [
    "for columns in colunas:\n",
    "    # dataMES[columns] = pd.to_numeric(dataMES[columns], errors='coerce')\n",
    "    dataMES[columns] = pd.to_numeric(dataMES[columns], errors='coerce').fillna(0).astype(int)"
   ]
  },
  {
   "cell_type": "code",
   "execution_count": 18,
   "id": "52be2d70-9eb6-4c3c-bc4f-f57b854dd753",
   "metadata": {},
   "outputs": [
    {
     "data": {
      "text/plain": [
       "Index(['CATEGORIA', 'MODALIDADE', 'DIA DA SEMANA', 'HORÁRIO', 'TURNO',\n",
       "       'PROFESSOR', '01-10-2024', '02-10-2024', '03-10-2024', '04-10-2024',\n",
       "       '07-10-2024', '08-10-2024', '09-10-2024', '10-10-2024', '11-10-2024',\n",
       "       '14-10-2024', '15-10-2024', '16-10-2024', '17-10-2024', '18-10-2024',\n",
       "       '21-10-2024', '22-10-2024', '23-10-2024', '24-10-2024', '25-10-2024',\n",
       "       '28-10-2024', '29-10-2024', '30-10-2024', '31-10-2024',\n",
       "       'Média alunos p/ professor', 'Média', 'Alunos/professor',\n",
       "       'Ocupação Máxima', 'Professor'],\n",
       "      dtype='object')"
      ]
     },
     "execution_count": 18,
     "metadata": {},
     "output_type": "execute_result"
    }
   ],
   "source": [
    "dataMES.columns"
   ]
  },
  {
   "cell_type": "markdown",
   "id": "1fe86457-3f40-446f-977a-265bdbd6adaf",
   "metadata": {},
   "source": [
    "### PASSO 6: MELT derretendo as colunas em formato de datas"
   ]
  },
  {
   "cell_type": "markdown",
   "id": "7aac0ddf-d147-4c7a-9058-53d9ad34fcf3",
   "metadata": {},
   "source": [
    "o MELT ele pega as colunas que estão na horizontal e cria uma coluna de categorias, e depois ele cria outra coluna com os valores dessas colunas que foram transformadas em dados categóricos"
   ]
  },
  {
   "cell_type": "markdown",
   "id": "038e4283-c133-4815-8a4d-bc62f3ef6158",
   "metadata": {},
   "source": [
    "#### Selecionando colunas para o MELT"
   ]
  },
  {
   "cell_type": "code",
   "execution_count": 19,
   "id": "d0921dcf-047e-4874-af98-23c5957de201",
   "metadata": {},
   "outputs": [],
   "source": [
    "colunas_para_melt = [\n",
    "    '01-10-2024',\n",
    "    '02-10-2024',\n",
    "    '03-10-2024',\n",
    "    '04-10-2024',\n",
    "    '07-10-2024',\n",
    "    '08-10-2024',\n",
    "    '09-10-2024',\n",
    "    '10-10-2024',\n",
    "    '11-10-2024',\n",
    "    '14-10-2024',\n",
    "    '15-10-2024',\n",
    "    '16-10-2024',\n",
    "    '17-10-2024',\n",
    "    '18-10-2024',\n",
    "    '21-10-2024',\n",
    "    '22-10-2024',\n",
    "    '23-10-2024',\n",
    "    '24-10-2024',\n",
    "    '25-10-2024',\n",
    "    '28-10-2024',\n",
    "    '29-10-2024',\n",
    "    '30-10-2024',\n",
    "    '31-10-2024']"
   ]
  },
  {
   "cell_type": "markdown",
   "id": "be71967a-50a6-40d7-8c1d-20e56bc1fcc8",
   "metadata": {},
   "source": [
    "#### Indentificando as colunas que Eu quero manter em meu dataframe"
   ]
  },
  {
   "cell_type": "code",
   "execution_count": 20,
   "id": "2aa99a52-67bf-4d09-93cc-de8f9c2bcb11",
   "metadata": {},
   "outputs": [],
   "source": [
    "# Identifica as colunas que você quer manter como identificadoras (id_vars)\n",
    "# São as colunas que não serão \"unpivoted\"\n",
    "id_vars_cols = [columns for columns in dataMES.columns if columns not in colunas_para_melt]"
   ]
  },
  {
   "cell_type": "markdown",
   "id": "dd9ee5ed-6fdd-435b-9828-66fe1a84657a",
   "metadata": {},
   "source": [
    "#### Realiza o melt apenas nas colunas de datas"
   ]
  },
  {
   "cell_type": "code",
   "execution_count": 21,
   "id": "ebf1862c-99cf-4bab-a825-c1e0e344c2e1",
   "metadata": {},
   "outputs": [],
   "source": [
    "dataMES_melted = pd.melt(dataMES,\n",
    "                      id_vars=id_vars_cols, #colunas que Eu deixei, que ficaram.\n",
    "                      value_vars=colunas_para_melt, #colunas que vão se transformar.\n",
    "                      var_name='Dias de Aulas', # nome da coluna categorica\n",
    "                      value_name='Frequencia de Alunos') # nome da coluna de valores"
   ]
  },
  {
   "cell_type": "code",
   "execution_count": 22,
   "id": "706863de-a48e-4457-bbdf-e8866f16097d",
   "metadata": {},
   "outputs": [
    {
     "data": {
      "text/html": [
       "<div>\n",
       "<style scoped>\n",
       "    .dataframe tbody tr th:only-of-type {\n",
       "        vertical-align: middle;\n",
       "    }\n",
       "\n",
       "    .dataframe tbody tr th {\n",
       "        vertical-align: top;\n",
       "    }\n",
       "\n",
       "    .dataframe thead th {\n",
       "        text-align: right;\n",
       "    }\n",
       "</style>\n",
       "<table border=\"1\" class=\"dataframe\">\n",
       "  <thead>\n",
       "    <tr style=\"text-align: right;\">\n",
       "      <th></th>\n",
       "      <th>CATEGORIA</th>\n",
       "      <th>MODALIDADE</th>\n",
       "      <th>DIA DA SEMANA</th>\n",
       "      <th>HORÁRIO</th>\n",
       "      <th>TURNO</th>\n",
       "      <th>PROFESSOR</th>\n",
       "      <th>Média alunos p/ professor</th>\n",
       "      <th>Média</th>\n",
       "      <th>Alunos/professor</th>\n",
       "      <th>Ocupação Máxima</th>\n",
       "      <th>Professor</th>\n",
       "      <th>Dias de Aulas</th>\n",
       "      <th>Frequencia de Alunos</th>\n",
       "    </tr>\n",
       "  </thead>\n",
       "  <tbody>\n",
       "    <tr>\n",
       "      <th>0</th>\n",
       "      <td>QUADRA</td>\n",
       "      <td>BEACH TENNIS - INICIANTE</td>\n",
       "      <td>seg, qua, sex</td>\n",
       "      <td>05:30</td>\n",
       "      <td>MANHÃ</td>\n",
       "      <td>KELY</td>\n",
       "      <td>13.0</td>\n",
       "      <td>0.923077</td>\n",
       "      <td>NaN</td>\n",
       "      <td>NaN</td>\n",
       "      <td>NaN</td>\n",
       "      <td>01-10-2024</td>\n",
       "      <td>0</td>\n",
       "    </tr>\n",
       "    <tr>\n",
       "      <th>1</th>\n",
       "      <td>QUADRA</td>\n",
       "      <td>BEACH TENNIS - INTERMEDIÁRIO</td>\n",
       "      <td>ter, qui</td>\n",
       "      <td>05:30</td>\n",
       "      <td>MANHÃ</td>\n",
       "      <td>KELY</td>\n",
       "      <td>11.0</td>\n",
       "      <td>4.636364</td>\n",
       "      <td>NaN</td>\n",
       "      <td>NaN</td>\n",
       "      <td>NaN</td>\n",
       "      <td>01-10-2024</td>\n",
       "      <td>4</td>\n",
       "    </tr>\n",
       "    <tr>\n",
       "      <th>2</th>\n",
       "      <td>ADULTO</td>\n",
       "      <td>GREEN BIKE</td>\n",
       "      <td>seg, qua,sex</td>\n",
       "      <td>06:00</td>\n",
       "      <td>MANHÃ</td>\n",
       "      <td>LINDY</td>\n",
       "      <td>11.0</td>\n",
       "      <td>7.454545</td>\n",
       "      <td>NaN</td>\n",
       "      <td>NaN</td>\n",
       "      <td>0.0</td>\n",
       "      <td>01-10-2024</td>\n",
       "      <td>0</td>\n",
       "    </tr>\n",
       "  </tbody>\n",
       "</table>\n",
       "</div>"
      ],
      "text/plain": [
       "  CATEGORIA                    MODALIDADE  DIA DA SEMANA HORÁRIO  TURNO  \\\n",
       "0    QUADRA      BEACH TENNIS - INICIANTE  seg, qua, sex   05:30  MANHÃ   \n",
       "1    QUADRA  BEACH TENNIS - INTERMEDIÁRIO       ter, qui   05:30  MANHÃ   \n",
       "2    ADULTO                    GREEN BIKE   seg, qua,sex   06:00  MANHÃ   \n",
       "\n",
       "  PROFESSOR  Média alunos p/ professor     Média  Alunos/professor  \\\n",
       "0      KELY                       13.0  0.923077               NaN   \n",
       "1      KELY                       11.0  4.636364               NaN   \n",
       "2     LINDY                       11.0  7.454545               NaN   \n",
       "\n",
       "   Ocupação Máxima  Professor Dias de Aulas  Frequencia de Alunos  \n",
       "0              NaN        NaN    01-10-2024                     0  \n",
       "1              NaN        NaN    01-10-2024                     4  \n",
       "2              NaN        0.0    01-10-2024                     0  "
      ]
     },
     "execution_count": 22,
     "metadata": {},
     "output_type": "execute_result"
    }
   ],
   "source": [
    "dataMES_melted.head(3)"
   ]
  },
  {
   "cell_type": "code",
   "execution_count": 23,
   "id": "2a280553-08b5-4ae3-a8e8-b2a3f53c88bb",
   "metadata": {},
   "outputs": [
    {
     "data": {
      "text/plain": [
       "np.int64(26782)"
      ]
     },
     "execution_count": 23,
     "metadata": {},
     "output_type": "execute_result"
    }
   ],
   "source": [
    "dataMES_melted['Frequencia de Alunos'].sum()"
   ]
  },
  {
   "cell_type": "markdown",
   "id": "519f7139-2ec7-48ac-8403-14ee3944ccf7",
   "metadata": {},
   "source": [
    "# Aldeota [ALD] - PREPROCESSING 2"
   ]
  },
  {
   "cell_type": "code",
   "execution_count": 24,
   "id": "7b5ba781-3f2c-44c3-b784-cd2522d18b8e",
   "metadata": {},
   "outputs": [],
   "source": [
    "data2 = pd.read_excel('Frequencia de Alunos Green Life Academias - outubro de 2024.xlsx', sheet_name='ALD', skiprows=1, nrows=204)"
   ]
  },
  {
   "cell_type": "code",
   "execution_count": 25,
   "id": "c1d4d70c-fdbf-4bbf-b458-6e81055f001b",
   "metadata": {},
   "outputs": [],
   "source": [
    "dataALD= data2.copy()"
   ]
  },
  {
   "cell_type": "markdown",
   "id": "60da4852-9333-408a-bb19-0b18510c9767",
   "metadata": {},
   "source": [
    "### 1 PASSO: Removendo colunas desnecessárias"
   ]
  },
  {
   "cell_type": "code",
   "execution_count": 26,
   "id": "3a28d5b1-5639-4415-b5fc-252d334da40c",
   "metadata": {},
   "outputs": [
    {
     "data": {
      "text/html": [
       "<div>\n",
       "<style scoped>\n",
       "    .dataframe tbody tr th:only-of-type {\n",
       "        vertical-align: middle;\n",
       "    }\n",
       "\n",
       "    .dataframe tbody tr th {\n",
       "        vertical-align: top;\n",
       "    }\n",
       "\n",
       "    .dataframe thead th {\n",
       "        text-align: right;\n",
       "    }\n",
       "</style>\n",
       "<table border=\"1\" class=\"dataframe\">\n",
       "  <thead>\n",
       "    <tr style=\"text-align: right;\">\n",
       "      <th></th>\n",
       "      <th></th>\n",
       "      <th>CATEGORIA</th>\n",
       "      <th>MODALIDADE</th>\n",
       "      <th>DIA DA SEMANA</th>\n",
       "      <th>HORÁRIO</th>\n",
       "      <th>TURNO</th>\n",
       "      <th>AUX 1</th>\n",
       "      <th>AUX 2</th>\n",
       "      <th>PROFESSOR</th>\n",
       "      <th>AUX 3</th>\n",
       "      <th>...</th>\n",
       "      <th>2024-10-25 00:00:00</th>\n",
       "      <th>2024-10-28 00:00:00</th>\n",
       "      <th>2024-10-29 00:00:00</th>\n",
       "      <th>2024-10-30 00:00:00</th>\n",
       "      <th>2024-10-31 00:00:00</th>\n",
       "      <th>Média alunos p/ professor</th>\n",
       "      <th>Média</th>\n",
       "      <th>Alunos/professor</th>\n",
       "      <th>Ocupação Máxima</th>\n",
       "      <th>Professor</th>\n",
       "    </tr>\n",
       "  </thead>\n",
       "  <tbody>\n",
       "    <tr>\n",
       "      <th>0</th>\n",
       "      <td>NaN</td>\n",
       "      <td>ADULTO</td>\n",
       "      <td>BEACH GYM</td>\n",
       "      <td>seg, ter, qua, qui, sex</td>\n",
       "      <td>06:00:00</td>\n",
       "      <td>06:00</td>\n",
       "      <td>MANHÃ</td>\n",
       "      <td>BEACH GYM - 06:00</td>\n",
       "      <td>ISABELLE VERMONTT</td>\n",
       "      <td>BEACH GYM - ISABELLE VERMONTT</td>\n",
       "      <td>...</td>\n",
       "      <td>0</td>\n",
       "      <td>0</td>\n",
       "      <td>2</td>\n",
       "      <td>0</td>\n",
       "      <td>2</td>\n",
       "      <td>17</td>\n",
       "      <td>1.470588</td>\n",
       "      <td>NaN</td>\n",
       "      <td>NaN</td>\n",
       "      <td>NaN</td>\n",
       "    </tr>\n",
       "    <tr>\n",
       "      <th>1</th>\n",
       "      <td>NaN</td>\n",
       "      <td>ADULTO</td>\n",
       "      <td>GREEN BIKE</td>\n",
       "      <td>seg, qua, sex</td>\n",
       "      <td>06:00:00</td>\n",
       "      <td>06:00</td>\n",
       "      <td>MANHÃ</td>\n",
       "      <td>GREEN BIKE - 06:00</td>\n",
       "      <td>GIL</td>\n",
       "      <td>GREEN BIKE - GIL</td>\n",
       "      <td>...</td>\n",
       "      <td>12</td>\n",
       "      <td>10</td>\n",
       "      <td>x</td>\n",
       "      <td>10</td>\n",
       "      <td>x</td>\n",
       "      <td>11</td>\n",
       "      <td>14.181818</td>\n",
       "      <td>NaN</td>\n",
       "      <td>NaN</td>\n",
       "      <td>0.0</td>\n",
       "    </tr>\n",
       "    <tr>\n",
       "      <th>2</th>\n",
       "      <td>NaN</td>\n",
       "      <td>QUADRA</td>\n",
       "      <td>BEACH TENIS</td>\n",
       "      <td>seg, ter, qua, qui, sex</td>\n",
       "      <td>06:00:00</td>\n",
       "      <td>06:00</td>\n",
       "      <td>MANHÃ</td>\n",
       "      <td>BEACH TENIS - 06:00</td>\n",
       "      <td>LUCAS</td>\n",
       "      <td>BEACH TENIS - LUCAS</td>\n",
       "      <td>...</td>\n",
       "      <td>4</td>\n",
       "      <td>2</td>\n",
       "      <td>8</td>\n",
       "      <td>3</td>\n",
       "      <td>8</td>\n",
       "      <td>20</td>\n",
       "      <td>5.400000</td>\n",
       "      <td>NaN</td>\n",
       "      <td>NaN</td>\n",
       "      <td>0.0</td>\n",
       "    </tr>\n",
       "  </tbody>\n",
       "</table>\n",
       "<p>3 rows × 38 columns</p>\n",
       "</div>"
      ],
      "text/plain": [
       "       CATEGORIA   MODALIDADE            DIA DA SEMANA   HORÁRIO  TURNO  \\\n",
       "0  NaN    ADULTO    BEACH GYM  seg, ter, qua, qui, sex  06:00:00  06:00   \n",
       "1  NaN    ADULTO   GREEN BIKE            seg, qua, sex  06:00:00  06:00   \n",
       "2  NaN    QUADRA  BEACH TENIS  seg, ter, qua, qui, sex  06:00:00  06:00   \n",
       "\n",
       "   AUX 1                AUX 2           PROFESSOR  \\\n",
       "0  MANHÃ    BEACH GYM - 06:00  ISABELLE VERMONTT    \n",
       "1  MANHÃ   GREEN BIKE - 06:00                 GIL   \n",
       "2  MANHÃ  BEACH TENIS - 06:00               LUCAS   \n",
       "\n",
       "                            AUX 3  ... 2024-10-25 00:00:00  \\\n",
       "0  BEACH GYM - ISABELLE VERMONTT   ...                   0   \n",
       "1                GREEN BIKE - GIL  ...                  12   \n",
       "2             BEACH TENIS - LUCAS  ...                   4   \n",
       "\n",
       "  2024-10-28 00:00:00 2024-10-29 00:00:00 2024-10-30 00:00:00  \\\n",
       "0                   0                   2                   0   \n",
       "1                  10                   x                  10   \n",
       "2                   2                   8                   3   \n",
       "\n",
       "  2024-10-31 00:00:00 Média alunos p/ professor      Média Alunos/professor  \\\n",
       "0                   2                        17   1.470588              NaN   \n",
       "1                   x                        11  14.181818              NaN   \n",
       "2                   8                        20   5.400000              NaN   \n",
       "\n",
       "  Ocupação Máxima Professor  \n",
       "0             NaN       NaN  \n",
       "1             NaN       0.0  \n",
       "2             NaN       0.0  \n",
       "\n",
       "[3 rows x 38 columns]"
      ]
     },
     "execution_count": 26,
     "metadata": {},
     "output_type": "execute_result"
    }
   ],
   "source": [
    "dataALD.head(3)"
   ]
  },
  {
   "cell_type": "code",
   "execution_count": 27,
   "id": "316786df-e223-4782-a68e-75256578ee15",
   "metadata": {},
   "outputs": [],
   "source": [
    "del dataALD[' ']\n",
    "del dataALD['HORÁRIO']\n",
    "del dataALD['AUX 2']\n",
    "del dataALD['AUX 3']"
   ]
  },
  {
   "cell_type": "markdown",
   "id": "7351ff8b-ebfd-4057-bce1-4d54a8b02f73",
   "metadata": {},
   "source": [
    "- PRECISAMOS RENOMEAR A COLUNA TURNO COMO HORARIO, DEPOIS\n",
    "- PRECISAMOS RENOMEAR A COLUNA AUX1 COMO TURNO"
   ]
  },
  {
   "cell_type": "code",
   "execution_count": 28,
   "id": "f258a846-433a-4c49-a233-d7cc500fabc1",
   "metadata": {},
   "outputs": [],
   "source": [
    "\n",
    "dataALD.rename(columns={'TURNO': 'HORÁRIO',\n",
    "                    'AUX 1': 'TURNO'}, inplace=True)"
   ]
  },
  {
   "cell_type": "code",
   "execution_count": null,
   "id": "d643a115-fd6d-4708-9c2a-8efe64399692",
   "metadata": {},
   "outputs": [],
   "source": [
    "dataALD.head(3)"
   ]
  },
  {
   "cell_type": "markdown",
   "id": "1ba73df3-656b-4f52-845c-f53635be59d7",
   "metadata": {},
   "source": [
    "### 2 PASSO: Renomeando strings de datas, para que o pandas possa aceitar como colunas"
   ]
  },
  {
   "cell_type": "code",
   "execution_count": null,
   "id": "216aa572-b472-4f00-8181-f879a9911703",
   "metadata": {},
   "outputs": [],
   "source": [
    "for columns in dataALD.columns:\n",
    "    print(columns)"
   ]
  },
  {
   "cell_type": "code",
   "execution_count": null,
   "id": "6cf63a6e-1a94-47f9-afe0-0004c2df06ad",
   "metadata": {},
   "outputs": [],
   "source": [
    "dataALD.columns = [\n",
    "'CATEGORIA',\n",
    "'MODALIDADE',\n",
    "'DIA DA SEMANA',\n",
    "'HORÁRIO',\n",
    "'TURNO',\n",
    "'PROFESSOR',\n",
    "'2024-10-01 00:00:00',\n",
    "'2024-10-02 00:00:00',\n",
    "'2024-10-03 00:00:00',\n",
    "'2024-10-04 00:00:00',\n",
    "'2024-10-07 00:00:00',\n",
    "'2024-10-08 00:00:00',\n",
    "'2024-10-09 00:00:00',\n",
    "'2024-10-10 00:00:00',\n",
    "'2024-10-11 00:00:00',\n",
    "'2024-10-14 00:00:00',\n",
    "'2024-10-15 00:00:00',\n",
    "'2024-10-16 00:00:00',\n",
    "'2024-10-17 00:00:00',\n",
    "'2024-10-18 00:00:00',\n",
    "'2024-10-21 00:00:00',\n",
    "'2024-10-22 00:00:00',\n",
    "'2024-10-23 00:00:00',\n",
    "'2024-10-24 00:00:00',\n",
    "'2024-10-25 00:00:00',\n",
    "'2024-10-28 00:00:00',\n",
    "'2024-10-29 00:00:00',\n",
    "'2024-10-30 00:00:00',\n",
    "'2024-10-31 00:00:00',\n",
    "'Média alunos p/ professor',\n",
    "'Média',\n",
    "'Alunos/professor',\n",
    "'Ocupação Máxima',\n",
    "'Professor'\n",
    "]"
   ]
  },
  {
   "cell_type": "code",
   "execution_count": null,
   "id": "3d4ff43b-3217-4ef7-8800-63478d44afb5",
   "metadata": {},
   "outputs": [],
   "source": [
    "dataALD.columns"
   ]
  },
  {
   "cell_type": "markdown",
   "id": "680518fe-8a12-4dd1-8865-4bae7f626fb0",
   "metadata": {},
   "source": [
    "### PASSO 3: Escolhendo colunas com o nome de 'datas', para renomear pelo o tipo dia, mês e ano. e removendo os 00 de horas"
   ]
  },
  {
   "cell_type": "code",
   "execution_count": null,
   "id": "11008dce-49f0-4d98-a755-83170e152783",
   "metadata": {},
   "outputs": [],
   "source": [
    "colunas = ['2024-10-01 00:00:00',\n",
    "'2024-10-02 00:00:00',\n",
    "'2024-10-03 00:00:00',\n",
    "'2024-10-04 00:00:00',\n",
    "'2024-10-07 00:00:00',\n",
    "'2024-10-08 00:00:00',\n",
    "'2024-10-09 00:00:00',\n",
    "'2024-10-10 00:00:00',\n",
    "'2024-10-11 00:00:00',\n",
    "'2024-10-14 00:00:00',\n",
    "'2024-10-15 00:00:00',\n",
    "'2024-10-16 00:00:00',\n",
    "'2024-10-17 00:00:00',\n",
    "'2024-10-18 00:00:00',\n",
    "'2024-10-21 00:00:00',\n",
    "'2024-10-22 00:00:00',\n",
    "'2024-10-23 00:00:00',\n",
    "'2024-10-24 00:00:00',\n",
    "'2024-10-25 00:00:00',\n",
    "'2024-10-28 00:00:00',\n",
    "'2024-10-29 00:00:00',\n",
    "'2024-10-30 00:00:00',\n",
    "'2024-10-31 00:00:00'\n",
    "]"
   ]
  },
  {
   "cell_type": "code",
   "execution_count": null,
   "id": "bcb6cd46-c8df-416d-892d-152d4ca9ea1a",
   "metadata": {},
   "outputs": [],
   "source": [
    "novas_colunas_ALD = []"
   ]
  },
  {
   "cell_type": "code",
   "execution_count": null,
   "id": "20479440-e6bb-429f-bda6-56460afc016b",
   "metadata": {},
   "outputs": [],
   "source": [
    "for columns in colunas:\n",
    "    # Remove a parte da hora\n",
    "    data_sem_hora = columns.split(' ')[0]\n",
    "    \n",
    "    # Formata para o formato DD-MM-YYYY\n",
    "    ano, mes, dia = data_sem_hora.split('-')\n",
    "    novo_nome = f'{dia}-{mes}-{ano}'\n",
    "    novas_colunas_ALD.append(novo_nome)"
   ]
  },
  {
   "cell_type": "markdown",
   "id": "98d93826-42b6-441b-a28a-f313b3a29e3f",
   "metadata": {},
   "source": [
    "### PASSO 4 renomeando colunas e acrescentando o novo formato "
   ]
  },
  {
   "cell_type": "markdown",
   "id": "65718a0a-8f90-4a30-a5e0-9745c335c544",
   "metadata": {},
   "source": [
    "copie as colunas que escolheu para renomear, e cole o formato novo no lugar das velhas"
   ]
  },
  {
   "cell_type": "code",
   "execution_count": null,
   "id": "0dd77089-6bf3-4f34-893f-c83793e594bf",
   "metadata": {},
   "outputs": [],
   "source": [
    "for columns in dataALD.columns:\n",
    "    print (columns)"
   ]
  },
  {
   "cell_type": "code",
   "execution_count": null,
   "id": "703ad0df-5418-433c-93a2-1e6d81df5b22",
   "metadata": {},
   "outputs": [],
   "source": [
    "dataALD.columns= [\n",
    "'CATEGORIA',\n",
    "'MODALIDADE',\n",
    "'DIA DA SEMANA',\n",
    "'HORÁRIO',\n",
    "'TURNO',\n",
    "'PROFESSOR',\n",
    "'01-10-2024',\n",
    "'02-10-2024',\n",
    "'03-10-2024',\n",
    "'04-10-2024',\n",
    "'07-10-2024',\n",
    "'08-10-2024',\n",
    "'09-10-2024',\n",
    "'10-10-2024',\n",
    "'11-10-2024',\n",
    "'14-10-2024',\n",
    "'15-10-2024',\n",
    "'16-10-2024',\n",
    "'17-10-2024',\n",
    "'18-10-2024',\n",
    "'21-10-2024',\n",
    "'22-10-2024',\n",
    "'23-10-2024',\n",
    "'24-10-2024',\n",
    "'25-10-2024',\n",
    "'28-10-2024',\n",
    "'29-10-2024',\n",
    "'30-10-2024',\n",
    "'31-10-2024',\n",
    "'Média alunos p/ professor',\n",
    "'Média',\n",
    "'Alunos/professor',\n",
    "'Ocupação Máxima',\n",
    "'Professor']"
   ]
  },
  {
   "cell_type": "code",
   "execution_count": null,
   "id": "d88c26d7-42bb-44a9-9fd5-ccb40ab1b8e2",
   "metadata": {},
   "outputs": [],
   "source": [
    "# Novas colunas\n",
    "novas_colunas_ALD"
   ]
  },
  {
   "cell_type": "markdown",
   "id": "6a1079dc-131f-4dc6-bc2d-646884631408",
   "metadata": {},
   "source": [
    "### 5 PASSO: Usar o Loop for para substitituir os valores das frequencia de 'x' e 'X' por zero, com o método do pd.to_numeric) "
   ]
  },
  {
   "cell_type": "markdown",
   "id": "9f095107-7a24-483e-bd79-8cd72b2f5092",
   "metadata": {},
   "source": [
    "Escolhendo apenas as colunas de datas"
   ]
  },
  {
   "cell_type": "code",
   "execution_count": null,
   "id": "7dde4749-160c-4a86-bc35-29c948e351fa",
   "metadata": {},
   "outputs": [],
   "source": [
    "colunas = [\n",
    "'01-10-2024',\n",
    "'02-10-2024',\n",
    "'03-10-2024',\n",
    "'04-10-2024',\n",
    "'07-10-2024',\n",
    "'08-10-2024',\n",
    "'09-10-2024',\n",
    "'10-10-2024',\n",
    "'11-10-2024',\n",
    "'14-10-2024',\n",
    "'15-10-2024',\n",
    "'16-10-2024',\n",
    "'17-10-2024',\n",
    "'18-10-2024',\n",
    "'21-10-2024',\n",
    "'22-10-2024',\n",
    "'23-10-2024',\n",
    "'24-10-2024',\n",
    "'25-10-2024',\n",
    "'28-10-2024',\n",
    "'29-10-2024',\n",
    "'30-10-2024',\n",
    "'31-10-2024'\n",
    "]"
   ]
  },
  {
   "cell_type": "markdown",
   "id": "4550d3f1-f057-4276-b5fb-a175fdcfa4df",
   "metadata": {},
   "source": [
    "Fazendo a limpeza profunda, formatando valores para numeros, preenchendo com zeros os nulos e transformando em inteiros"
   ]
  },
  {
   "cell_type": "code",
   "execution_count": null,
   "id": "0e6deba3-a691-42d1-aa5d-20e9cb7c6603",
   "metadata": {},
   "outputs": [],
   "source": [
    "for columns in colunas:\n",
    "    # dataMES[columns] = pd.to_numeric(dataMES[columns], errors='coerce')\n",
    "    dataALD[columns] = pd.to_numeric(dataALD[columns], errors='coerce').fillna(0).astype(int)"
   ]
  },
  {
   "cell_type": "markdown",
   "id": "ab16325c-9527-4c3a-b6c0-ad48e72b2986",
   "metadata": {},
   "source": [
    "### PASSO 6: MELT derretendo as colunas em formato de datas"
   ]
  },
  {
   "cell_type": "markdown",
   "id": "8c348286-80cc-4e62-a757-82ee16c427cb",
   "metadata": {},
   "source": [
    "o MELT ele pega as colunas que estão na horizontal e cria uma coluna de categorias, e depois ele cria outra coluna com os valores dessas colunas que foram transformadas em dados categóricos"
   ]
  },
  {
   "cell_type": "code",
   "execution_count": null,
   "id": "ffdaa6bc-6bf9-42f0-8f08-e56656d24939",
   "metadata": {},
   "outputs": [],
   "source": [
    "colunas_para_melt = [\n",
    "'01-10-2024',\n",
    "'02-10-2024',\n",
    "'03-10-2024',\n",
    "'04-10-2024',\n",
    "'07-10-2024',\n",
    "'08-10-2024',\n",
    "'09-10-2024',\n",
    "'10-10-2024',\n",
    "'11-10-2024',\n",
    "'14-10-2024',\n",
    "'15-10-2024',\n",
    "'16-10-2024',\n",
    "'17-10-2024',\n",
    "'18-10-2024',\n",
    "'21-10-2024',\n",
    "'22-10-2024',\n",
    "'23-10-2024',\n",
    "'24-10-2024',\n",
    "'25-10-2024',\n",
    "'28-10-2024',\n",
    "'29-10-2024',\n",
    "'30-10-2024',\n",
    "'31-10-2024'\n",
    "]"
   ]
  },
  {
   "cell_type": "markdown",
   "id": "e2fc86ae-d26c-4c17-8cea-d0fcefff0389",
   "metadata": {},
   "source": [
    "#### Indentificando as colunas que Eu quero manter em meu dataframe"
   ]
  },
  {
   "cell_type": "code",
   "execution_count": null,
   "id": "4dc5b859-05ee-48c5-ab93-9d56f8c74da2",
   "metadata": {},
   "outputs": [],
   "source": [
    "# Identifica as colunas que você quer manter como identificadoras (id_vars)\n",
    "# São as colunas que não serão \"unpivoted\"\n",
    "id_vars_cols = [columns for columns in dataALD.columns if columns not in colunas_para_melt]"
   ]
  },
  {
   "cell_type": "markdown",
   "id": "52ef1b78-5007-41ea-a76a-2cf6784af174",
   "metadata": {},
   "source": [
    "#### Realiza o melt apenas nas colunas de datas"
   ]
  },
  {
   "cell_type": "code",
   "execution_count": null,
   "id": "3b8afb4b-d3b9-4d31-963c-adc38e62b453",
   "metadata": {},
   "outputs": [],
   "source": [
    "dataALD_melted = pd.melt(dataALD,\n",
    "                      id_vars=id_vars_cols, #colunas que Eu deixei, que ficaram.\n",
    "                      value_vars=colunas_para_melt, #colunas que vão se transformar.\n",
    "                      var_name='Dias de Aulas', # nome da coluna categorica\n",
    "                      value_name='Frequencia de Alunos') # nome da coluna de valores"
   ]
  },
  {
   "cell_type": "code",
   "execution_count": null,
   "id": "c8574433-5f79-4be8-9ed2-973e9868ae2d",
   "metadata": {},
   "outputs": [],
   "source": [
    "dataALD_melted.head(3)"
   ]
  },
  {
   "cell_type": "code",
   "execution_count": null,
   "id": "fa4d12bf-b3f2-410d-907d-b176bb3f32da",
   "metadata": {},
   "outputs": [],
   "source": [
    "dataALD_melted['Frequencia de Alunos'].sum()"
   ]
  },
  {
   "cell_type": "markdown",
   "id": "dba4ed48-a96d-4397-a314-fabd709f3459",
   "metadata": {},
   "source": [
    "# Fatima [FAT] - PREPROCESSING 3"
   ]
  },
  {
   "cell_type": "code",
   "execution_count": null,
   "id": "beab34bb-5abb-4d30-a09c-e1aa2414ba35",
   "metadata": {},
   "outputs": [],
   "source": [
    "data3 = pd.read_excel('Frequencia de Alunos Green Life Academias - outubro de 2024.xlsx', sheet_name='FAT', skiprows=1, nrows=88)"
   ]
  },
  {
   "cell_type": "code",
   "execution_count": null,
   "id": "d5167ddb-052f-49a1-88f2-8491c7aaf831",
   "metadata": {},
   "outputs": [],
   "source": [
    "dataFAT = data3.copy()"
   ]
  },
  {
   "cell_type": "markdown",
   "id": "a807e7e2-2f4c-4f48-9cdb-d9bb141406c8",
   "metadata": {},
   "source": [
    "### 1 PASSO: Removendo colunas desnecessárias"
   ]
  },
  {
   "cell_type": "code",
   "execution_count": null,
   "id": "91f89634-2217-4469-a9b5-81f5c00c5106",
   "metadata": {},
   "outputs": [],
   "source": [
    "dataFAT.head(3)"
   ]
  },
  {
   "cell_type": "code",
   "execution_count": null,
   "id": "8e4ce178-6130-4adf-a4e4-96be27e36205",
   "metadata": {},
   "outputs": [],
   "source": [
    "del dataFAT['Unnamed: 0']\n",
    "del dataFAT['Unnamed: 1']\n",
    "del dataFAT['Unnamed: 2']"
   ]
  },
  {
   "cell_type": "code",
   "execution_count": null,
   "id": "b31877f4-5f03-4f0a-9871-6d577e0e5e2d",
   "metadata": {},
   "outputs": [],
   "source": [
    "del dataFAT['HORÁRIO']\n",
    "del dataFAT['AUX 2']\n",
    "del dataFAT['AUX 3']"
   ]
  },
  {
   "cell_type": "markdown",
   "id": "e17c9903-58ad-47b3-884e-be9cd4804ad9",
   "metadata": {},
   "source": [
    "- PRECISAMOS RENOMEAR A COLUNA AUX.1 COMO HORARIO"
   ]
  },
  {
   "cell_type": "code",
   "execution_count": null,
   "id": "3ce043a9-2c10-4f71-b64d-c11ffd9791d0",
   "metadata": {},
   "outputs": [],
   "source": [
    "dataFAT.rename(columns={'AUX.1': 'HORÁRIO'}, inplace=True)"
   ]
  },
  {
   "cell_type": "code",
   "execution_count": null,
   "id": "34d88247-21a1-4228-abdb-050a11d97226",
   "metadata": {},
   "outputs": [],
   "source": [
    "dataFAT.head(3)"
   ]
  },
  {
   "cell_type": "markdown",
   "id": "2ec4f9ad-bc44-4ba2-842b-726e03604a4b",
   "metadata": {},
   "source": [
    "### 2 PASSO: Renomeando strings de datas, para que o pandas possa aceitar como colunas"
   ]
  },
  {
   "cell_type": "code",
   "execution_count": null,
   "id": "e27ae539-3abd-4066-bd4d-f53ae89557f0",
   "metadata": {},
   "outputs": [],
   "source": [
    "for columns in dataFAT.columns:\n",
    "    print(columns)"
   ]
  },
  {
   "cell_type": "code",
   "execution_count": null,
   "id": "bdd39022-08de-4657-8fb0-de35f4cf76ad",
   "metadata": {},
   "outputs": [],
   "source": [
    "dataFAT.columns = [\n",
    "'CATEGORIA',\n",
    "'MODALIDADE',\n",
    "'DIA DA SEMANA',\n",
    "'HORÁRIO',\n",
    "'TURNO',\n",
    "'PROFESSOR',\n",
    "'2024-10-01 00:00:00',\n",
    "'2024-10-02 00:00:00',\n",
    "'2024-10-03 00:00:00',\n",
    "'2024-10-04 00:00:00',\n",
    "'2024-10-07 00:00:00',\n",
    "'2024-10-08 00:00:00',\n",
    "'2024-10-09 00:00:00',\n",
    "'2024-10-10 00:00:00',\n",
    "'2024-10-11 00:00:00',\n",
    "'2024-10-14 00:00:00',\n",
    "'2024-10-15 00:00:00',\n",
    "'2024-10-16 00:00:00',\n",
    "'2024-10-17 00:00:00',\n",
    "'2024-10-18 00:00:00',\n",
    "'2024-10-21 00:00:00',\n",
    "'2024-10-22 00:00:00',\n",
    "'2024-10-23 00:00:00',\n",
    "'2024-10-24 00:00:00',\n",
    "'2024-10-25 00:00:00',\n",
    "'2024-10-28 00:00:00',\n",
    "'2024-10-29 00:00:00',\n",
    "'2024-10-30 00:00:00',\n",
    "'2024-10-31 00:00:00',\n",
    "'Aulas/mês',\n",
    "'Média',\n",
    "'Alunos/professor',\n",
    "'Ocupação Máxima',\n",
    "'Professor']"
   ]
  },
  {
   "cell_type": "code",
   "execution_count": null,
   "id": "eafe6b76-c814-49b7-9d3e-e9a04d3d2746",
   "metadata": {},
   "outputs": [],
   "source": [
    "dataFAT.columns"
   ]
  },
  {
   "cell_type": "markdown",
   "id": "c3cf5782-f2dd-4e62-9abc-f15f49c07db5",
   "metadata": {},
   "source": [
    "### PASSO 3: Escolhendo colunas com o nome de 'datas', para renomear pelo o tipo dia, mês e ano. e removendo os 00 de horas"
   ]
  },
  {
   "cell_type": "code",
   "execution_count": null,
   "id": "78679603-2562-4063-a62c-5b5e9a944f19",
   "metadata": {},
   "outputs": [],
   "source": [
    "colunas = [\n",
    "'2024-10-01 00:00:00',\n",
    "'2024-10-02 00:00:00',\n",
    "'2024-10-03 00:00:00',\n",
    "'2024-10-04 00:00:00',\n",
    "'2024-10-07 00:00:00',\n",
    "'2024-10-08 00:00:00',\n",
    "'2024-10-09 00:00:00',\n",
    "'2024-10-10 00:00:00',\n",
    "'2024-10-11 00:00:00',\n",
    "'2024-10-14 00:00:00',\n",
    "'2024-10-15 00:00:00',\n",
    "'2024-10-16 00:00:00',\n",
    "'2024-10-17 00:00:00',\n",
    "'2024-10-18 00:00:00',\n",
    "'2024-10-21 00:00:00',\n",
    "'2024-10-22 00:00:00',\n",
    "'2024-10-23 00:00:00',\n",
    "'2024-10-24 00:00:00',\n",
    "'2024-10-25 00:00:00',\n",
    "'2024-10-28 00:00:00',\n",
    "'2024-10-29 00:00:00',\n",
    "'2024-10-30 00:00:00',\n",
    "'2024-10-31 00:00:00']"
   ]
  },
  {
   "cell_type": "code",
   "execution_count": null,
   "id": "02943baa-5335-4e9a-8e2a-5553ade2f5da",
   "metadata": {},
   "outputs": [],
   "source": [
    "novas_colunas_FAT = []"
   ]
  },
  {
   "cell_type": "code",
   "execution_count": null,
   "id": "18ad9d22-c269-4bbd-aa72-94d597e56b3f",
   "metadata": {},
   "outputs": [],
   "source": [
    "for columns in colunas:\n",
    "    # Remove a parte da hora\n",
    "    data_sem_hora = columns.split(' ')[0]\n",
    "    \n",
    "    # Formata para o formato DD-MM-YYYY\n",
    "    ano, mes, dia = data_sem_hora.split('-')\n",
    "    novo_nome = f'{dia}-{mes}-{ano}'\n",
    "    novas_colunas_FAT.append(novo_nome)"
   ]
  },
  {
   "cell_type": "code",
   "execution_count": null,
   "id": "1ad02430-7459-4de3-b005-943bd004cb25",
   "metadata": {},
   "outputs": [],
   "source": [
    "novas_colunas_FAT"
   ]
  },
  {
   "cell_type": "markdown",
   "id": "5ec9173d-deed-4001-aee8-6c1409d6529c",
   "metadata": {},
   "source": [
    "### PASSO 4 renomeando colunas e acrescentando o novo formato "
   ]
  },
  {
   "cell_type": "markdown",
   "id": "c5fb8ce2-ab76-44d4-9c64-234d142e050a",
   "metadata": {},
   "source": [
    "copie as colunas que escolheu para renomear, e cole o formato novo no lugar das velhas"
   ]
  },
  {
   "cell_type": "code",
   "execution_count": null,
   "id": "b6a17498-e501-4971-9373-628356d557bf",
   "metadata": {},
   "outputs": [],
   "source": [
    "for columns in dataFAT.columns:\n",
    "    print (columns)"
   ]
  },
  {
   "cell_type": "code",
   "execution_count": null,
   "id": "f452cc38-799f-4f3d-9782-ee5888394fd3",
   "metadata": {},
   "outputs": [],
   "source": [
    "# Adicionando as datas formatadas as colunas, copiando e colando"
   ]
  },
  {
   "cell_type": "code",
   "execution_count": null,
   "id": "00a4eb65-ce9d-40cf-9c23-cb92c2dbe7c9",
   "metadata": {},
   "outputs": [],
   "source": [
    "dataFAT.columns = [\n",
    "'CATEGORIA',\n",
    "'MODALIDADE',\n",
    "'DIA DA SEMANA',\n",
    "'HORÁRIO',\n",
    "'TURNO',\n",
    "'PROFESSOR',\n",
    "'01-10-2024',\n",
    "'02-10-2024',\n",
    "'03-10-2024',\n",
    "'04-10-2024',\n",
    "'07-10-2024',\n",
    "'08-10-2024',\n",
    "'09-10-2024',\n",
    "'10-10-2024',\n",
    "'11-10-2024',\n",
    "'14-10-2024',\n",
    "'15-10-2024',\n",
    "'16-10-2024',\n",
    "'17-10-2024',\n",
    "'18-10-2024',\n",
    "'21-10-2024',\n",
    "'22-10-2024',\n",
    "'23-10-2024',\n",
    "'24-10-2024',\n",
    "'25-10-2024',\n",
    "'28-10-2024',\n",
    "'29-10-2024',\n",
    "'30-10-2024',\n",
    "'31-10-2024',\n",
    "'Aulas/mês',\n",
    "'Média',\n",
    "'Alunos/professor',\n",
    "'Ocupação Máxima0',\n",
    "'Professor'\n",
    "]"
   ]
  },
  {
   "cell_type": "markdown",
   "id": "f8a2e1c9-bcfc-4970-923d-6238223902db",
   "metadata": {},
   "source": [
    "### 5 PASSO: Usar o Loop for para substitituir os valores das frequencia de 'x' e 'X' por zero, com o método do pd.to_numeric) "
   ]
  },
  {
   "cell_type": "markdown",
   "id": "3c3ff16a-cc1a-4000-bb01-cbb50857f7c0",
   "metadata": {},
   "source": [
    "Escolhendo apenas as colunas de datas"
   ]
  },
  {
   "cell_type": "code",
   "execution_count": null,
   "id": "e35400e2-bf1d-4e36-914a-24b35b67e8c4",
   "metadata": {},
   "outputs": [],
   "source": [
    "colunas = [\n",
    "'01-10-2024',\n",
    "'02-10-2024',\n",
    "'03-10-2024',\n",
    "'04-10-2024',\n",
    "'07-10-2024',\n",
    "'08-10-2024',\n",
    "'09-10-2024',\n",
    "'10-10-2024',\n",
    "'11-10-2024',\n",
    "'14-10-2024',\n",
    "'15-10-2024',\n",
    "'16-10-2024',\n",
    "'17-10-2024',\n",
    "'18-10-2024',\n",
    "'21-10-2024',\n",
    "'22-10-2024',\n",
    "'23-10-2024',\n",
    "'24-10-2024',\n",
    "'25-10-2024',\n",
    "'28-10-2024',\n",
    "'29-10-2024',\n",
    "'30-10-2024',\n",
    "'31-10-2024'\n",
    "]"
   ]
  },
  {
   "cell_type": "markdown",
   "id": "c95e679b-2873-433c-b74a-ecf7bcc03862",
   "metadata": {},
   "source": [
    "Fazendo a limpeza profunda, formatando valores para numeros, preenchendo com zeros os nulos e transformando em inteiros"
   ]
  },
  {
   "cell_type": "code",
   "execution_count": null,
   "id": "8498fe9c-8495-489c-ace8-168b96a99b58",
   "metadata": {},
   "outputs": [],
   "source": [
    "for columns in colunas:\n",
    "    # dataMES[columns] = pd.to_numeric(dataMES[columns], errors='coerce')\n",
    "    dataFAT[columns] = pd.to_numeric(dataFAT[columns], errors='coerce').fillna(0).astype(int)"
   ]
  },
  {
   "cell_type": "markdown",
   "id": "3f6054d4-a1bf-4b53-977d-f68b9a36aa98",
   "metadata": {},
   "source": [
    "### PASSO 6: MELT derretendo as colunas em formato de datas"
   ]
  },
  {
   "cell_type": "markdown",
   "id": "4d721ca5-689d-4379-96df-5549012bf2db",
   "metadata": {},
   "source": [
    "o MELT ele pega as colunas que estão na horizontal e cria uma coluna de categorias, e depois ele cria outra coluna com os valores dessas colunas que foram transformadas em dados categóricos"
   ]
  },
  {
   "cell_type": "code",
   "execution_count": null,
   "id": "276a5e63-dde1-43ee-aa5b-91222cb7d235",
   "metadata": {},
   "outputs": [],
   "source": [
    "colunas_para_melt = [\n",
    "'01-10-2024',\n",
    "'02-10-2024',\n",
    "'03-10-2024',\n",
    "'04-10-2024',\n",
    "'07-10-2024',\n",
    "'08-10-2024',\n",
    "'09-10-2024',\n",
    "'10-10-2024',\n",
    "'11-10-2024',\n",
    "'14-10-2024',\n",
    "'15-10-2024',\n",
    "'16-10-2024',\n",
    "'17-10-2024',\n",
    "'18-10-2024',\n",
    "'21-10-2024',\n",
    "'22-10-2024',\n",
    "'23-10-2024',\n",
    "'24-10-2024',\n",
    "'25-10-2024',\n",
    "'28-10-2024',\n",
    "'29-10-2024',\n",
    "'30-10-2024',\n",
    "'31-10-2024'\n",
    "]"
   ]
  },
  {
   "cell_type": "markdown",
   "id": "7570c34f-3baf-4fa9-872a-8bf3a6b6dabf",
   "metadata": {},
   "source": [
    "#### Indentificando as colunas que Eu quero manter em meu dataframe"
   ]
  },
  {
   "cell_type": "code",
   "execution_count": null,
   "id": "003631f6-ff54-4284-9a01-a1460a49c429",
   "metadata": {},
   "outputs": [],
   "source": [
    "# Identifica as colunas que você quer manter como identificadoras (id_vars)\n",
    "# São as colunas que não serão \"unpivoted\"\n",
    "id_vars_cols = [columns for columns in dataFAT.columns if columns not in colunas_para_melt]"
   ]
  },
  {
   "cell_type": "markdown",
   "id": "950f66b0-66c6-4419-ac1a-8f70d23a6720",
   "metadata": {},
   "source": [
    "#### Realiza o melt apenas nas colunas de datas"
   ]
  },
  {
   "cell_type": "code",
   "execution_count": null,
   "id": "66529be3-e617-4f88-b84e-107449f057d3",
   "metadata": {},
   "outputs": [],
   "source": [
    "dataFAT_melted = pd.melt(dataFAT,\n",
    "                      id_vars=id_vars_cols, #colunas que Eu deixei, que ficaram.\n",
    "                      value_vars=colunas_para_melt, #colunas que vão se transformar.\n",
    "                      var_name='Dias de Aulas', # nome da coluna categorica\n",
    "                      value_name='Frequencia de Alunos') # nome da coluna de valores"
   ]
  },
  {
   "cell_type": "code",
   "execution_count": null,
   "id": "e8816f24-6cb6-40a2-894e-2fed263a7a11",
   "metadata": {},
   "outputs": [],
   "source": [
    "dataFAT_melted.head(3)"
   ]
  },
  {
   "cell_type": "code",
   "execution_count": null,
   "id": "1dd408ff-bd89-4440-8f31-c68007040e3a",
   "metadata": {},
   "outputs": [],
   "source": [
    "dataFAT_melted['Frequencia de Alunos'].sum()"
   ]
  },
  {
   "cell_type": "markdown",
   "id": "85051b72-da87-4f47-b12c-2ef1ea0c6b37",
   "metadata": {},
   "source": [
    "# BOOTCAMP [BOOT] - PREPROCESSING 4"
   ]
  },
  {
   "cell_type": "code",
   "execution_count": null,
   "id": "0a7a5b25-2654-430d-a5c8-cbebfc9b3bb2",
   "metadata": {},
   "outputs": [],
   "source": [
    "data4 = pd.read_excel('Frequencia de Alunos Green Life Academias - outubro de 2024.xlsx', sheet_name='BOOTCAMP', skiprows=1, nrows=41)"
   ]
  },
  {
   "cell_type": "code",
   "execution_count": null,
   "id": "1bb1411f-17eb-4036-8c44-e88d915db23f",
   "metadata": {},
   "outputs": [],
   "source": [
    "dataBOOT = data4.copy()"
   ]
  },
  {
   "cell_type": "markdown",
   "id": "4fe1d05e-e070-4a02-bf5c-41246063dbe3",
   "metadata": {},
   "source": [
    "### 1 PASSO: Removendo colunas desnecessárias"
   ]
  },
  {
   "cell_type": "code",
   "execution_count": null,
   "id": "c6a55cb1-fd4e-4faa-a093-32b37f757f00",
   "metadata": {},
   "outputs": [],
   "source": [
    "dataBOOT.head(3)"
   ]
  },
  {
   "cell_type": "code",
   "execution_count": null,
   "id": "159fac55-3931-4580-af38-68df1115f1a3",
   "metadata": {},
   "outputs": [],
   "source": [
    "dataBOOT.iloc[0]"
   ]
  },
  {
   "cell_type": "code",
   "execution_count": null,
   "id": "372d2b81-746d-4531-bc0b-1ef10def8c27",
   "metadata": {},
   "outputs": [],
   "source": [
    "dataBOOT.iloc[-1]"
   ]
  },
  {
   "cell_type": "code",
   "execution_count": null,
   "id": "15eef118-4c45-4d20-873d-23a90b229490",
   "metadata": {},
   "outputs": [],
   "source": [
    "dataBOOT.columns"
   ]
  },
  {
   "cell_type": "code",
   "execution_count": null,
   "id": "3853a646-3dd8-4886-8612-480b805db79e",
   "metadata": {},
   "outputs": [],
   "source": [
    "del dataBOOT['Unnamed: 0']\n",
    "del dataBOOT['Unnamed: 1']\n",
    "del dataBOOT['Unnamed: 2']\n",
    "del dataBOOT['Unnamed: 39']"
   ]
  },
  {
   "cell_type": "code",
   "execution_count": null,
   "id": "f974e243-8772-4d46-9482-10d195fe583a",
   "metadata": {},
   "outputs": [],
   "source": [
    "del dataBOOT['HORÁRIO']"
   ]
  },
  {
   "cell_type": "markdown",
   "id": "bc1c8739-3fcd-4815-9299-94a8a3fde656",
   "metadata": {},
   "source": [
    "- PRECISAMOS RENOMEAR A COLUNA AUX.1 COMO HORARIO"
   ]
  },
  {
   "cell_type": "code",
   "execution_count": null,
   "id": "63901f5a-650e-48c5-a7a8-71a1468b7969",
   "metadata": {},
   "outputs": [],
   "source": [
    "dataBOOT.rename(columns={'AUX1': 'HORÁRIO'}, inplace=True)\n",
    "# Ajeitando o nome da média\n",
    "dataBOOT.rename(columns={'MÉDIA': 'Média'}, inplace=True)"
   ]
  },
  {
   "cell_type": "code",
   "execution_count": null,
   "id": "e7cd371d-e5f9-4151-960a-563afee9c10c",
   "metadata": {},
   "outputs": [],
   "source": [
    "dataBOOT.head(3)"
   ]
  },
  {
   "cell_type": "markdown",
   "id": "8d697497-a872-44f8-ad52-2e4ea5235d85",
   "metadata": {},
   "source": [
    "### 2 PASSO: Renomeando strings de datas, para que o pandas possa aceitar como colunas"
   ]
  },
  {
   "cell_type": "code",
   "execution_count": null,
   "id": "ecf137cc-4da2-46cc-a9df-721613256bc7",
   "metadata": {},
   "outputs": [],
   "source": [
    "for columns in dataBOOT.columns:\n",
    "    print(columns)"
   ]
  },
  {
   "cell_type": "code",
   "execution_count": null,
   "id": "bf6f4c82-ee41-42ac-83b0-538b37b51237",
   "metadata": {},
   "outputs": [],
   "source": [
    "dataBOOT.columns = [\n",
    "'MODALIDADE',\n",
    "'DIA DA SEMANA',\n",
    "'HORÁRIO',\n",
    "'2024-10-01 00:00:00',\n",
    "'2024-10-02 00:00:00',\n",
    "'2024-10-03 00:00:00',\n",
    "'2024-10-04 00:00:00',\n",
    "'2024-10-05 00:00:00',\n",
    "'2024-10-06 00:00:00',\n",
    "'2024-10-07 00:00:00',\n",
    "'2024-10-08 00:00:00',\n",
    "'2024-10-09 00:00:00',\n",
    "'2024-10-10 00:00:00',\n",
    "'2024-10-11 00:00:00',\n",
    "'2024-10-12 00:00:00',\n",
    "'2024-10-13 00:00:00',\n",
    "'2024-10-14 00:00:00',\n",
    "'2024-10-15 00:00:00',\n",
    "'2024-10-16 00:00:00',\n",
    "'2024-10-17 00:00:00',\n",
    "'2024-10-18 00:00:00',\n",
    "'2024-10-19 00:00:00',\n",
    "'2024-10-20 00:00:00',\n",
    "'2024-10-21 00:00:00',\n",
    "'2024-10-22 00:00:00',\n",
    "'2024-10-23 00:00:00',\n",
    "'2024-10-24 00:00:00',\n",
    "'2024-10-25 00:00:00',\n",
    "'2024-10-26 00:00:00',\n",
    "'2024-10-27 00:00:00',\n",
    "'2024-10-28 00:00:00',\n",
    "'2024-10-29 00:00:00',\n",
    "'2024-10-30 00:00:00',\n",
    "'2024-10-31 00:00:00',\n",
    "'Média'\n",
    "]"
   ]
  },
  {
   "cell_type": "code",
   "execution_count": null,
   "id": "d6f20cc4-7d9d-4eb7-99bc-444c17187757",
   "metadata": {},
   "outputs": [],
   "source": [
    "dataBOOT.columns"
   ]
  },
  {
   "cell_type": "markdown",
   "id": "ed560528-62a3-4db6-84cd-c350a4332e6e",
   "metadata": {},
   "source": [
    "### PASSO 3: Escolhendo colunas com o nome de 'datas', para renomear pelo o tipo dia, mês e ano. e removendo os 00 de horas"
   ]
  },
  {
   "cell_type": "code",
   "execution_count": null,
   "id": "af9fcd00-43c1-4e43-b365-9ce7d715d2e7",
   "metadata": {},
   "outputs": [],
   "source": [
    "colunas = [\n",
    "'2024-10-01 00:00:00',\n",
    "'2024-10-02 00:00:00',\n",
    "'2024-10-03 00:00:00',\n",
    "'2024-10-04 00:00:00',\n",
    "'2024-10-05 00:00:00',\n",
    "'2024-10-06 00:00:00',\n",
    "'2024-10-07 00:00:00',\n",
    "'2024-10-08 00:00:00',\n",
    "'2024-10-09 00:00:00',\n",
    "'2024-10-10 00:00:00',\n",
    "'2024-10-11 00:00:00',\n",
    "'2024-10-12 00:00:00',\n",
    "'2024-10-13 00:00:00',\n",
    "'2024-10-14 00:00:00',\n",
    "'2024-10-15 00:00:00',\n",
    "'2024-10-16 00:00:00',\n",
    "'2024-10-17 00:00:00',\n",
    "'2024-10-18 00:00:00',\n",
    "'2024-10-19 00:00:00',\n",
    "'2024-10-20 00:00:00',\n",
    "'2024-10-21 00:00:00',\n",
    "'2024-10-22 00:00:00',\n",
    "'2024-10-23 00:00:00',\n",
    "'2024-10-24 00:00:00',\n",
    "'2024-10-25 00:00:00',\n",
    "'2024-10-26 00:00:00',\n",
    "'2024-10-27 00:00:00',\n",
    "'2024-10-28 00:00:00',\n",
    "'2024-10-29 00:00:00',\n",
    "'2024-10-30 00:00:00',\n",
    "'2024-10-31 00:00:00',\n",
    "]"
   ]
  },
  {
   "cell_type": "code",
   "execution_count": null,
   "id": "5db1c6d8-e69d-4334-ab7b-750c00a6c21d",
   "metadata": {},
   "outputs": [],
   "source": [
    "novas_colunas_BOOT = []"
   ]
  },
  {
   "cell_type": "code",
   "execution_count": null,
   "id": "fbed4f27-151b-4977-bb9e-b36b5c03f23e",
   "metadata": {},
   "outputs": [],
   "source": [
    "for columns in colunas:\n",
    "    # Remove a parte da hora\n",
    "    data_sem_hora = columns.split(' ')[0]\n",
    "    \n",
    "    # Formata para o formato DD-MM-YYYY\n",
    "    ano, mes, dia = data_sem_hora.split('-')\n",
    "    novo_nome = f'{dia}-{mes}-{ano}'\n",
    "    novas_colunas_BOOT.append(novo_nome)"
   ]
  },
  {
   "cell_type": "code",
   "execution_count": null,
   "id": "b2768632-c1f9-46ba-a1a0-df437773d58e",
   "metadata": {},
   "outputs": [],
   "source": [
    "novas_colunas_BOOT"
   ]
  },
  {
   "cell_type": "markdown",
   "id": "e665811f-d401-4e8d-b89b-7e3cd95a8872",
   "metadata": {},
   "source": [
    "### PASSO 4 renomeando colunas e acrescentando o novo formato "
   ]
  },
  {
   "cell_type": "markdown",
   "id": "760c6290-cf06-4af9-b5a2-740257dc9301",
   "metadata": {},
   "source": [
    "copie as colunas que escolheu para renomear, e cole o formato novo no lugar das velhas"
   ]
  },
  {
   "cell_type": "code",
   "execution_count": null,
   "id": "0a2210ed-3e58-4063-91c4-d9f01f7c1007",
   "metadata": {},
   "outputs": [],
   "source": [
    "for columns in dataBOOT.columns:\n",
    "    print (columns)"
   ]
  },
  {
   "cell_type": "code",
   "execution_count": null,
   "id": "be1ebadc-0f8a-41ad-9e90-e7a0b896bede",
   "metadata": {},
   "outputs": [],
   "source": [
    "# Adicionando as datas formatadas as colunas, copiando e colando"
   ]
  },
  {
   "cell_type": "code",
   "execution_count": null,
   "id": "ef3a67fe-82d7-4ce5-8c19-8e5e41f5b491",
   "metadata": {},
   "outputs": [],
   "source": [
    "dataBOOT.columns = [\n",
    "'MODALIDADE',\n",
    "'DIA DA SEMANA',\n",
    "'HORÁRIO',\n",
    "'01-10-2024',\n",
    "'02-10-2024',\n",
    "'03-10-2024',\n",
    "'04-10-2024',\n",
    "'05-10-2024',\n",
    "'06-10-2024',\n",
    "'07-10-2024',\n",
    "'08-10-2024',\n",
    "'09-10-2024',\n",
    "'10-10-2024',\n",
    "'11-10-2024',\n",
    "'12-10-2024',\n",
    "'13-10-2024',\n",
    "'14-10-2024',\n",
    "'15-10-2024',\n",
    "'16-10-2024',\n",
    "'17-10-2024',\n",
    "'18-10-2024',\n",
    "'19-10-2024',\n",
    "'20-10-2024',\n",
    "'21-10-2024',\n",
    "'22-10-2024',\n",
    "'23-10-2024',\n",
    "'24-10-2024',\n",
    "'25-10-2024',\n",
    "'26-10-2024',\n",
    "'27-10-2024',\n",
    "'28-10-2024',\n",
    "'29-10-2024',\n",
    "'30-10-2024',\n",
    "'31-10-2024',\n",
    "'Média'\n",
    "]"
   ]
  },
  {
   "cell_type": "markdown",
   "id": "b5a66cdd-e093-4b07-9775-a5e4f78fd519",
   "metadata": {},
   "source": [
    "### 5 PASSO: Usar o Loop for para substitituir os valores das frequencia de 'x' e 'X' por zero, com o método do pd.to_numeric) "
   ]
  },
  {
   "cell_type": "markdown",
   "id": "1304da5b-8409-4334-b0c3-180fcc913863",
   "metadata": {},
   "source": [
    "Escolhendo apenas as colunas de datas"
   ]
  },
  {
   "cell_type": "code",
   "execution_count": null,
   "id": "83ba2480-97af-4fda-b20f-2aeb48dc5629",
   "metadata": {},
   "outputs": [],
   "source": [
    "colunas = [\n",
    "'01-10-2024',\n",
    "'02-10-2024',\n",
    "'03-10-2024',\n",
    "'04-10-2024',\n",
    "'05-10-2024',\n",
    "'06-10-2024',\n",
    "'07-10-2024',\n",
    "'08-10-2024',\n",
    "'09-10-2024',\n",
    "'10-10-2024',\n",
    "'11-10-2024',\n",
    "'12-10-2024',\n",
    "'13-10-2024',\n",
    "'14-10-2024',\n",
    "'15-10-2024',\n",
    "'16-10-2024',\n",
    "'17-10-2024',\n",
    "'18-10-2024',\n",
    "'19-10-2024',\n",
    "'20-10-2024',\n",
    "'21-10-2024',\n",
    "'22-10-2024',\n",
    "'23-10-2024',\n",
    "'24-10-2024',\n",
    "'25-10-2024',\n",
    "'26-10-2024',\n",
    "'27-10-2024',\n",
    "'28-10-2024',\n",
    "'29-10-2024',\n",
    "'30-10-2024',\n",
    "'31-10-2024',\n",
    "]"
   ]
  },
  {
   "cell_type": "markdown",
   "id": "34938ccc-210e-4b91-ac9d-02e14317ff90",
   "metadata": {},
   "source": [
    "Fazendo a limpeza profunda, formatando valores para numeros, preenchendo com zeros os nulos e transformando em inteiros"
   ]
  },
  {
   "cell_type": "code",
   "execution_count": null,
   "id": "f10e274e-d16c-42aa-bf29-2638b5991a08",
   "metadata": {},
   "outputs": [],
   "source": [
    "for columns in colunas:\n",
    "    # dataMES[columns] = pd.to_numeric(dataMES[columns], errors='coerce')\n",
    "    dataBOOT[columns] = pd.to_numeric(dataBOOT[columns], errors='coerce').fillna(0).astype(int)"
   ]
  },
  {
   "cell_type": "markdown",
   "id": "1df55daf-ebe5-4e53-9806-fd745cd49b05",
   "metadata": {},
   "source": [
    "### PASSO 6: MELT derretendo as colunas em formato de datas"
   ]
  },
  {
   "cell_type": "markdown",
   "id": "16db611e-21a4-4707-b0a9-72041d1da079",
   "metadata": {},
   "source": [
    "o MELT ele pega as colunas que estão na horizontal e cria uma coluna de categorias, e depois ele cria outra coluna com os valores dessas colunas que foram transformadas em dados categóricos"
   ]
  },
  {
   "cell_type": "code",
   "execution_count": null,
   "id": "5a21b2fe-4170-4697-9abd-71463e51e838",
   "metadata": {},
   "outputs": [],
   "source": [
    "colunas_para_melt = [\n",
    "'01-10-2024',\n",
    "'02-10-2024',\n",
    "'03-10-2024',\n",
    "'04-10-2024',\n",
    "'05-10-2024',\n",
    "'06-10-2024',\n",
    "'07-10-2024',\n",
    "'08-10-2024',\n",
    "'09-10-2024',\n",
    "'10-10-2024',\n",
    "'11-10-2024',\n",
    "'12-10-2024',\n",
    "'13-10-2024',\n",
    "'14-10-2024',\n",
    "'15-10-2024',\n",
    "'16-10-2024',\n",
    "'17-10-2024',\n",
    "'18-10-2024',\n",
    "'19-10-2024',\n",
    "'20-10-2024',\n",
    "'21-10-2024',\n",
    "'22-10-2024',\n",
    "'23-10-2024',\n",
    "'24-10-2024',\n",
    "'25-10-2024',\n",
    "'26-10-2024',\n",
    "'27-10-2024',\n",
    "'28-10-2024',\n",
    "'29-10-2024',\n",
    "'30-10-2024',\n",
    "'31-10-2024',\n",
    "] "
   ]
  },
  {
   "cell_type": "markdown",
   "id": "d8a0bd47-ae08-42ea-b16c-87aa92b6479a",
   "metadata": {},
   "source": [
    "#### Indentificando as colunas que Eu quero manter em meu dataframe"
   ]
  },
  {
   "cell_type": "code",
   "execution_count": null,
   "id": "8d2fa714-665d-4285-88ae-85c55c1ca630",
   "metadata": {},
   "outputs": [],
   "source": [
    "# Identifica as colunas que você quer manter como identificadoras (id_vars)\n",
    "# São as colunas que não serão \"unpivoted\"\n",
    "id_vars_cols = [columns for columns in dataBOOT.columns if columns not in colunas_para_melt]"
   ]
  },
  {
   "cell_type": "markdown",
   "id": "6c2f7046-76dc-4ea0-a497-363d24d35c82",
   "metadata": {},
   "source": [
    "#### Realiza o melt apenas nas colunas de datas"
   ]
  },
  {
   "cell_type": "code",
   "execution_count": null,
   "id": "37461d57-a8ac-4e50-b265-91d355a39e91",
   "metadata": {},
   "outputs": [],
   "source": [
    "dataBOOT_melted = pd.melt(dataBOOT,\n",
    "                      id_vars=id_vars_cols, #colunas que Eu deixei, que ficaram.\n",
    "                      value_vars=colunas_para_melt, #colunas que vão se transformar.\n",
    "                      var_name='Dias de Aulas', # nome da coluna categorica\n",
    "                      value_name='Frequencia de Alunos') # nome da coluna de valores"
   ]
  },
  {
   "cell_type": "code",
   "execution_count": null,
   "id": "969c3727-b466-420f-92b0-c0db73b5b8ef",
   "metadata": {},
   "outputs": [],
   "source": [
    "dataBOOT_melted.head(3)"
   ]
  },
  {
   "cell_type": "code",
   "execution_count": null,
   "id": "e6e40198-bc1c-43e0-8f16-bc514f65797f",
   "metadata": {},
   "outputs": [],
   "source": [
    "dataBOOT_melted['Frequencia de Alunos'].sum()"
   ]
  },
  {
   "cell_type": "markdown",
   "id": "f29a8d4b-9302-4e2b-9505-4bc75a33f773",
   "metadata": {},
   "source": [
    "### Adicionando colunas Faltantes"
   ]
  },
  {
   "cell_type": "markdown",
   "id": "8f4e4e38-02fe-45ae-b5b8-ca3e8c433538",
   "metadata": {},
   "source": [
    "Adicionando uma colunas condicional para o TURNO no BOOTCAMPE"
   ]
  },
  {
   "cell_type": "code",
   "execution_count": null,
   "id": "dfb861f1-13fc-49af-b205-4d48944bcb81",
   "metadata": {},
   "outputs": [],
   "source": [
    "# Aplica a lógica condicional para criar a coluna 'TURNO' usando .loc e comparação de strings\n",
    "dataBOOT_melted.loc[dataBOOT_melted['HORÁRIO'] <= '12:30', 'TURNO'] = 'MANHÃ'\n",
    "dataBOOT_melted.loc[dataBOOT_melted['HORÁRIO'] > '12:30', 'TURNO'] = 'NOITE'"
   ]
  },
  {
   "cell_type": "code",
   "execution_count": null,
   "id": "20d9973a-37bd-494c-b724-f99cdf695b37",
   "metadata": {},
   "outputs": [],
   "source": [
    "# Adicionando a coluna de PROFESSOR\n",
    "dataBOOT_melted['PROFESSOR'] = 'SEM NOME'"
   ]
  },
  {
   "cell_type": "code",
   "execution_count": null,
   "id": "204a3059-0663-4a0a-8f24-32a75170f41e",
   "metadata": {},
   "outputs": [],
   "source": [
    "dataBOOT_melted.head(2)"
   ]
  },
  {
   "cell_type": "markdown",
   "id": "df45b2f8-49e7-475b-a4cd-a5853fd14525",
   "metadata": {},
   "source": [
    "# CAMBEBA [CAMB] - PREPROCESSING 5"
   ]
  },
  {
   "cell_type": "code",
   "execution_count": null,
   "id": "25c130d7-a0f1-4e1e-a56d-16e61d127512",
   "metadata": {},
   "outputs": [],
   "source": [
    "data5 = pd.read_excel('Frequencia de Alunos Green Life Academias - outubro de 2024.xlsx', sheet_name='CAMB', skiprows=1, nrows=88)"
   ]
  },
  {
   "cell_type": "code",
   "execution_count": null,
   "id": "ea6d66a4-f9d4-40c4-9273-e1d7c353e1db",
   "metadata": {},
   "outputs": [],
   "source": [
    "dataCAMB = data5.copy()"
   ]
  },
  {
   "cell_type": "markdown",
   "id": "53fab99f-9b9c-45aa-993b-f628959d0a60",
   "metadata": {},
   "source": [
    "### 1 PASSO: Removendo colunas desnecessárias"
   ]
  },
  {
   "cell_type": "code",
   "execution_count": null,
   "id": "58fdb748-2f18-4d23-aa12-0628becc8332",
   "metadata": {},
   "outputs": [],
   "source": [
    "dataCAMB.tail()"
   ]
  },
  {
   "cell_type": "code",
   "execution_count": null,
   "id": "703b5c45-2997-436a-a410-262341f45f6f",
   "metadata": {},
   "outputs": [],
   "source": [
    "# verificando a series de index pra saber a ultima linha\n",
    "dataCAMB.iloc[-2]"
   ]
  },
  {
   "cell_type": "code",
   "execution_count": null,
   "id": "16ac072a-5c2c-4484-b644-f95929345975",
   "metadata": {},
   "outputs": [],
   "source": [
    "# selecionando colunas para o drop\n",
    "dropColumns = ['Unnamed: 0', 'Unnamed: 1', 'Unnamed: 2', 'HORÁRIO', 'AUX 2', 'AUX 3',\n",
    "           'Unnamed: 40', 'Unnamed: 41', 'Unnamed: 42', 'Unnamed: 43', 'Unnamed: 44', 'Unnamed: 45', 'Unnamed: 46', 'Unnamed: 47']"
   ]
  },
  {
   "cell_type": "code",
   "execution_count": null,
   "id": "4c93f0fc-4e34-49e1-b7c2-356ccc1715be",
   "metadata": {},
   "outputs": [],
   "source": [
    "dataCAMB.drop(columns= dropColumns, inplace=True)"
   ]
  },
  {
   "cell_type": "markdown",
   "id": "111f646c-9a9c-486d-a471-5b7222777a78",
   "metadata": {},
   "source": [
    "- PRECISAMOS RENOMEAR A COLUNA AUX.1 COMO HORARIO"
   ]
  },
  {
   "cell_type": "code",
   "execution_count": null,
   "id": "5474bcc1-c951-4221-a13c-b3601760a190",
   "metadata": {},
   "outputs": [],
   "source": [
    "dataCAMB.rename(columns={'AUX.1': 'HORÁRIO'}, inplace=True)"
   ]
  },
  {
   "cell_type": "code",
   "execution_count": null,
   "id": "c2ba9093-285b-434f-8053-da5aa78ad533",
   "metadata": {},
   "outputs": [],
   "source": [
    "dataCAMB"
   ]
  },
  {
   "cell_type": "markdown",
   "id": "94ec032a-4d7c-449e-be0a-bc22c7d74f5f",
   "metadata": {},
   "source": [
    "### 2 PASSO: Renomeando strings de datas, para que o pandas possa aceitar como colunas"
   ]
  },
  {
   "cell_type": "code",
   "execution_count": null,
   "id": "a743675e-3291-4b5a-95fb-281191c53814",
   "metadata": {},
   "outputs": [],
   "source": [
    "for columns in dataCAMB.columns:\n",
    "    print(columns)"
   ]
  },
  {
   "cell_type": "code",
   "execution_count": null,
   "id": "0fd94681-fc02-4f16-a102-82b536bd6ba5",
   "metadata": {},
   "outputs": [],
   "source": [
    "dataCAMB.columns = [\n",
    "'CATEGORIA',\n",
    "'MODALIDADE',\n",
    "'DIA DA SEMANA',\n",
    "'HORÁRIO',\n",
    "'TURNO',\n",
    "'PROFESSOR',\n",
    "'2024-10-01 00:00:00',\n",
    "'2024-10-02 00:00:00',\n",
    "'2024-10-03 00:00:00',\n",
    "'2024-10-04 00:00:00',\n",
    "'2024-10-07 00:00:00',\n",
    "'2024-10-08 00:00:00',\n",
    "'2024-10-09 00:00:00',\n",
    "'2024-10-10 00:00:00',\n",
    "'2024-10-11 00:00:00',\n",
    "'2024-10-14 00:00:00',\n",
    "'2024-10-15 00:00:00',\n",
    "'2024-10-16 00:00:00',\n",
    "'2024-10-17 00:00:00',\n",
    "'2024-10-18 00:00:00',\n",
    "'2024-10-21 00:00:00',\n",
    "'2024-10-22 00:00:00',\n",
    "'2024-10-23 00:00:00',\n",
    "'2024-10-24 00:00:00',\n",
    "'2024-10-25 00:00:00',\n",
    "'2024-10-28 00:00:00',\n",
    "'2024-10-29 00:00:00',\n",
    "'2024-10-30 00:00:00',\n",
    "'2024-10-31 00:00:00',\n",
    "'Média alunos p/ professor',\n",
    "'Média',\n",
    "'Alunos/professor',\n",
    "'Ocupação Máxima',\n",
    "'Professor']"
   ]
  },
  {
   "cell_type": "code",
   "execution_count": null,
   "id": "1cec6606-b1fe-4b04-ab84-f28440eff685",
   "metadata": {},
   "outputs": [],
   "source": [
    "dataCAMB.columns"
   ]
  },
  {
   "cell_type": "markdown",
   "id": "c7f89d6d-81bd-4341-a95f-bcb5feddbb30",
   "metadata": {},
   "source": [
    "### PASSO 3: Escolhendo colunas com o nome de 'datas', para renomear pelo o tipo dia, mês e ano. e removendo os 00 de horas"
   ]
  },
  {
   "cell_type": "code",
   "execution_count": null,
   "id": "70a61dee-a19c-4f83-a75a-0dc407719814",
   "metadata": {},
   "outputs": [],
   "source": [
    "colunas = [\n",
    "'2024-10-01 00:00:00',\n",
    "'2024-10-02 00:00:00',\n",
    "'2024-10-03 00:00:00',\n",
    "'2024-10-04 00:00:00',\n",
    "'2024-10-07 00:00:00',\n",
    "'2024-10-08 00:00:00',\n",
    "'2024-10-09 00:00:00',\n",
    "'2024-10-10 00:00:00',\n",
    "'2024-10-11 00:00:00',\n",
    "'2024-10-14 00:00:00',\n",
    "'2024-10-15 00:00:00',\n",
    "'2024-10-16 00:00:00',\n",
    "'2024-10-17 00:00:00',\n",
    "'2024-10-18 00:00:00',\n",
    "'2024-10-21 00:00:00',\n",
    "'2024-10-22 00:00:00',\n",
    "'2024-10-23 00:00:00',\n",
    "'2024-10-24 00:00:00',\n",
    "'2024-10-25 00:00:00',\n",
    "'2024-10-28 00:00:00',\n",
    "'2024-10-29 00:00:00',\n",
    "'2024-10-30 00:00:00',\n",
    "'2024-10-31 00:00:00',\n",
    "]"
   ]
  },
  {
   "cell_type": "code",
   "execution_count": null,
   "id": "44f41f87-0991-45b1-890b-8fd61041d9d1",
   "metadata": {},
   "outputs": [],
   "source": [
    "novas_colunas_CAMB = []"
   ]
  },
  {
   "cell_type": "code",
   "execution_count": null,
   "id": "4a147306-4de3-4647-8788-db1ffa0fed74",
   "metadata": {},
   "outputs": [],
   "source": [
    "for columns in colunas:\n",
    "    # Remove a parte da hora\n",
    "    data_sem_hora = columns.split(' ')[0]\n",
    "    \n",
    "    # Formata para o formato DD-MM-YYYY\n",
    "    ano, mes, dia = data_sem_hora.split('-')\n",
    "    novo_nome = f'{dia}-{mes}-{ano}'\n",
    "    novas_colunas_CAMB.append(novo_nome)"
   ]
  },
  {
   "cell_type": "code",
   "execution_count": null,
   "id": "c792dfb8-109d-47c5-b02f-ba8aef4325a3",
   "metadata": {},
   "outputs": [],
   "source": [
    "novas_colunas_CAMB"
   ]
  },
  {
   "cell_type": "markdown",
   "id": "5624e154-221d-44c5-bfd6-1981b2a095f1",
   "metadata": {},
   "source": [
    "### PASSO 4 renomeando colunas e acrescentando o novo formato "
   ]
  },
  {
   "cell_type": "markdown",
   "id": "cb0b0a65-5f98-4a79-8d1f-70a7d921c521",
   "metadata": {},
   "source": [
    "copie as colunas que escolheu para renomear, e cole o formato novo no lugar das velhas"
   ]
  },
  {
   "cell_type": "code",
   "execution_count": null,
   "id": "1cd5d63f-674a-4aa1-8a7b-9e7e27a212b6",
   "metadata": {},
   "outputs": [],
   "source": [
    "for columns in dataCAMB.columns:\n",
    "    print (columns)"
   ]
  },
  {
   "cell_type": "code",
   "execution_count": null,
   "id": "393d290e-0c83-4c0e-814b-1e58c16aacbd",
   "metadata": {},
   "outputs": [],
   "source": [
    "# Adicionando as datas formatadas as colunas, copiando e colando"
   ]
  },
  {
   "cell_type": "code",
   "execution_count": null,
   "id": "0a200933-2e84-4012-8571-29987b0056c5",
   "metadata": {},
   "outputs": [],
   "source": [
    "dataCAMB.columns = [\n",
    "'CATEGORIA',\n",
    "'MODALIDADE',\n",
    "'DIA DA SEMANA',\n",
    "'HORÁRIO',\n",
    "'TURNO',\n",
    "'PROFESSOR',\n",
    "'01-10-2024',\n",
    "'02-10-2024',\n",
    "'03-10-2024',\n",
    "'04-10-2024',\n",
    "'07-10-2024',\n",
    "'08-10-2024',\n",
    "'09-10-2024',\n",
    "'10-10-2024',\n",
    "'11-10-2024',\n",
    "'14-10-2024',\n",
    "'15-10-2024',\n",
    "'16-10-2024',\n",
    "'17-10-2024',\n",
    "'18-10-2024',\n",
    "'21-10-2024',\n",
    "'22-10-2024',\n",
    "'23-10-2024',\n",
    "'24-10-2024',\n",
    "'25-10-2024',\n",
    "'28-10-2024',\n",
    "'29-10-2024',\n",
    "'30-10-2024',\n",
    "'31-10-2024',    \n",
    "'Média alunos p/ professor',\n",
    "'Média',\n",
    "'Alunos/professor',\n",
    "'Ocupação Máxima',\n",
    "'Professor'\n",
    "]"
   ]
  },
  {
   "cell_type": "markdown",
   "id": "96db1918-47ac-4396-94b7-5d79bc40c716",
   "metadata": {},
   "source": [
    "### 5 PASSO: Usar o Loop for para substitituir os valores das frequencia de 'x' e 'X' por zero, com o método do pd.to_numeric) "
   ]
  },
  {
   "cell_type": "markdown",
   "id": "a4f0fd38-1ca2-431a-a169-ae618cfc23ec",
   "metadata": {},
   "source": [
    "Escolhendo apenas as colunas de datas"
   ]
  },
  {
   "cell_type": "code",
   "execution_count": null,
   "id": "5eb4b0e1-288d-49d7-9754-2e4603c58023",
   "metadata": {},
   "outputs": [],
   "source": [
    "colunas = [\n",
    "'01-10-2024',\n",
    "'02-10-2024',\n",
    "'03-10-2024',\n",
    "'04-10-2024',\n",
    "'07-10-2024',\n",
    "'08-10-2024',\n",
    "'09-10-2024',\n",
    "'10-10-2024',\n",
    "'11-10-2024',\n",
    "'14-10-2024',\n",
    "'15-10-2024',\n",
    "'16-10-2024',\n",
    "'17-10-2024',\n",
    "'18-10-2024',\n",
    "'21-10-2024',\n",
    "'22-10-2024',\n",
    "'23-10-2024',\n",
    "'24-10-2024',\n",
    "'25-10-2024',\n",
    "'28-10-2024',\n",
    "'29-10-2024',\n",
    "'30-10-2024',\n",
    "'31-10-2024',    \n",
    "]"
   ]
  },
  {
   "cell_type": "markdown",
   "id": "53303d86-7866-494d-9bee-3c9808447224",
   "metadata": {},
   "source": [
    "Fazendo a limpeza profunda, formatando valores para numeros, preenchendo com zeros os nulos e transformando em inteiros"
   ]
  },
  {
   "cell_type": "code",
   "execution_count": null,
   "id": "988f493f-634a-4b04-8c1a-9d414b31ce6f",
   "metadata": {},
   "outputs": [],
   "source": [
    "for columns in colunas:\n",
    "    # dataMES[columns] = pd.to_numeric(dataMES[columns], errors='coerce')\n",
    "    dataCAMB[columns] = pd.to_numeric(dataCAMB[columns], errors='coerce').fillna(0).astype(int)"
   ]
  },
  {
   "cell_type": "markdown",
   "id": "708835c9-74fd-40ea-a16a-4d7e4ddd6853",
   "metadata": {},
   "source": [
    "### PASSO 6: MELT derretendo as colunas em formato de datas"
   ]
  },
  {
   "cell_type": "markdown",
   "id": "6e9cc97e-34dc-46b6-bab0-7c7af71b2694",
   "metadata": {},
   "source": [
    "o MELT ele pega as colunas que estão na horizontal e cria uma coluna de categorias, e depois ele cria outra coluna com os valores dessas colunas que foram transformadas em dados categóricos"
   ]
  },
  {
   "cell_type": "code",
   "execution_count": null,
   "id": "f72b212d-18ec-4464-b52d-22b88e1f1874",
   "metadata": {},
   "outputs": [],
   "source": [
    "colunas_para_melt = [\n",
    "'01-10-2024',\n",
    "'02-10-2024',\n",
    "'03-10-2024',\n",
    "'04-10-2024',\n",
    "'07-10-2024',\n",
    "'08-10-2024',\n",
    "'09-10-2024',\n",
    "'10-10-2024',\n",
    "'11-10-2024',\n",
    "'14-10-2024',\n",
    "'15-10-2024',\n",
    "'16-10-2024',\n",
    "'17-10-2024',\n",
    "'18-10-2024',\n",
    "'21-10-2024',\n",
    "'22-10-2024',\n",
    "'23-10-2024',\n",
    "'24-10-2024',\n",
    "'25-10-2024',\n",
    "'28-10-2024',\n",
    "'29-10-2024',\n",
    "'30-10-2024',\n",
    "'31-10-2024',\n",
    "]"
   ]
  },
  {
   "cell_type": "markdown",
   "id": "ecba9fc4-962d-4353-a10b-873cc709ff1c",
   "metadata": {},
   "source": [
    "#### Indentificando as colunas que Eu quero manter em meu dataframe"
   ]
  },
  {
   "cell_type": "code",
   "execution_count": null,
   "id": "5b7b0d1e-5b51-45d8-8977-f00f05e3f4dd",
   "metadata": {},
   "outputs": [],
   "source": [
    "# Identifica as colunas que você quer manter como identificadoras (id_vars)\n",
    "# São as colunas que não serão \"unpivoted\"\n",
    "id_vars_cols = [columns for columns in dataCAMB.columns if columns not in colunas_para_melt]"
   ]
  },
  {
   "cell_type": "markdown",
   "id": "31d27408-2fe6-4450-959a-4b65812246c9",
   "metadata": {},
   "source": [
    "#### Realiza o melt apenas nas colunas de datas"
   ]
  },
  {
   "cell_type": "code",
   "execution_count": null,
   "id": "dfc300f0-d2ff-408c-b205-8cf5c3468ee2",
   "metadata": {},
   "outputs": [],
   "source": [
    "dataCAMB_melted = pd.melt(dataCAMB,\n",
    "                      id_vars=id_vars_cols, #colunas que Eu deixei, que ficaram.\n",
    "                      value_vars=colunas_para_melt, #colunas que vão se transformar.\n",
    "                      var_name='Dias de Aulas', # nome da coluna categorica\n",
    "                      value_name='Frequencia de Alunos') # nome da coluna de valores"
   ]
  },
  {
   "cell_type": "code",
   "execution_count": null,
   "id": "62e11cc5-5c55-4fea-b621-428eb8b93c48",
   "metadata": {},
   "outputs": [],
   "source": [
    "dataCAMB_melted.head(3)"
   ]
  },
  {
   "cell_type": "code",
   "execution_count": null,
   "id": "6df2065c-d761-4d36-8835-1418e234f30c",
   "metadata": {},
   "outputs": [],
   "source": [
    "dataCAMB_melted['Frequencia de Alunos'].sum()"
   ]
  },
  {
   "cell_type": "markdown",
   "id": "87d85787-bbaa-4fdc-b017-c3469f98253e",
   "metadata": {},
   "source": [
    "# EUSEBIO [EUS] - PREPROCESSING 6"
   ]
  },
  {
   "cell_type": "code",
   "execution_count": null,
   "id": "11ac01a9-3a94-4056-9f27-6f32c43dea03",
   "metadata": {},
   "outputs": [],
   "source": [
    "data6 = pd.read_excel('Frequencia de Alunos Green Life Academias - outubro de 2024.xlsx', sheet_name='EUS', skiprows=1, nrows=100)"
   ]
  },
  {
   "cell_type": "code",
   "execution_count": null,
   "id": "d27ba71e-fd79-44b4-9148-7c6517b8fd82",
   "metadata": {},
   "outputs": [],
   "source": [
    "dataEUS = data6.copy()"
   ]
  },
  {
   "cell_type": "markdown",
   "id": "efae5397-f5f2-4d7c-a4dc-baab74a1e43a",
   "metadata": {},
   "source": [
    "### 1 PASSO: Removendo colunas desnecessárias"
   ]
  },
  {
   "cell_type": "code",
   "execution_count": null,
   "id": "72c3a116-90bc-454c-aaec-08a897fc4e31",
   "metadata": {},
   "outputs": [],
   "source": [
    "dataEUS.tail(3)"
   ]
  },
  {
   "cell_type": "code",
   "execution_count": null,
   "id": "557ffebc-07d5-4a5b-a806-85ef4c5fff45",
   "metadata": {},
   "outputs": [],
   "source": [
    "dataEUS.iloc[97]"
   ]
  },
  {
   "cell_type": "code",
   "execution_count": null,
   "id": "4df8bf4e-d156-487b-a36e-9ec51c858f23",
   "metadata": {},
   "outputs": [],
   "source": [
    "dataEUS.columns"
   ]
  },
  {
   "cell_type": "code",
   "execution_count": null,
   "id": "7914ac8c-d922-435f-81f4-db6c18927e7b",
   "metadata": {},
   "outputs": [],
   "source": [
    "dataEUS[['Unnamed: 0', 'Unnamed: 1', 'Unnamed: 2', 'HORÁRIO', 'AUX 2', 'AUX 3']].head(3)"
   ]
  },
  {
   "cell_type": "code",
   "execution_count": null,
   "id": "28f54317-be52-4a0a-b99b-110560ff04dc",
   "metadata": {},
   "outputs": [],
   "source": [
    "dropColumns = ['Unnamed: 0', 'Unnamed: 1', 'Unnamed: 2', 'HORÁRIO', 'AUX 2', 'AUX 3']"
   ]
  },
  {
   "cell_type": "code",
   "execution_count": null,
   "id": "4243755b-f3fa-4712-8072-b4e59dca4367",
   "metadata": {},
   "outputs": [],
   "source": [
    "dataEUS.drop(columns=dropColumns, inplace=True)"
   ]
  },
  {
   "cell_type": "markdown",
   "id": "12c86ca0-1f8e-4cff-9f4e-af7a0d31636c",
   "metadata": {},
   "source": [
    "- PRECISAMOS RENOMEAR A COLUNA AUX.1 COMO HORARIO"
   ]
  },
  {
   "cell_type": "code",
   "execution_count": null,
   "id": "5b7a2f11-f16b-4635-babd-c481fb71e823",
   "metadata": {},
   "outputs": [],
   "source": [
    "dataEUS.rename(columns={'AUX.1': 'HORÁRIO'}, inplace=True)"
   ]
  },
  {
   "cell_type": "code",
   "execution_count": null,
   "id": "d072e6f3-8456-4243-8485-5756074bf37d",
   "metadata": {},
   "outputs": [],
   "source": [
    "dataEUS.head(3)"
   ]
  },
  {
   "cell_type": "markdown",
   "id": "99cc950d-b611-4fe7-8c56-3c61894df8fd",
   "metadata": {},
   "source": [
    "### 2 PASSO: Renomeando strings de datas, para que o pandas possa aceitar como colunas"
   ]
  },
  {
   "cell_type": "code",
   "execution_count": null,
   "id": "77024e6e-a061-4fb1-938b-0cacb5885b76",
   "metadata": {},
   "outputs": [],
   "source": [
    "for columns in dataEUS.columns:\n",
    "    print(columns)"
   ]
  },
  {
   "cell_type": "code",
   "execution_count": null,
   "id": "53772efa-e03f-4a2e-90e4-4c42cd1a0647",
   "metadata": {},
   "outputs": [],
   "source": [
    "dataEUS.columns = [\n",
    "'CATEGORIA',\n",
    "'MODALIDADE',\n",
    "'DIA DA SEMANA',\n",
    "'HORÁRIO',\n",
    "'TURNO',\n",
    "'PROFESSOR',\n",
    "'2024-10-01 00:00:00',\n",
    "'2024-10-02 00:00:00',\n",
    "'2024-10-03 00:00:00',\n",
    "'2024-10-04 00:00:00',\n",
    "'2024-10-07 00:00:00',\n",
    "'2024-10-08 00:00:00',\n",
    "'2024-10-09 00:00:00',\n",
    "'2024-10-10 00:00:00',\n",
    "'2024-10-11 00:00:00',\n",
    "'2024-10-14 00:00:00',\n",
    "'2024-10-15 00:00:00',\n",
    "'2024-10-16 00:00:00',\n",
    "'2024-10-17 00:00:00',\n",
    "'2024-10-18 00:00:00',\n",
    "'2024-10-21 00:00:00',\n",
    "'2024-10-22 00:00:00',\n",
    "'2024-10-23 00:00:00',\n",
    "'2024-10-24 00:00:00',\n",
    "'2024-10-25 00:00:00',\n",
    "'2024-10-28 00:00:00',\n",
    "'2024-10-29 00:00:00',\n",
    "'2024-10-30 00:00:00',\n",
    "'2024-10-31 00:00:00',\n",
    "'Média alunos p/ professor',\n",
    "'Média',\n",
    "'Alunos/professor',\n",
    "'Ocupação Máxima',\n",
    "'Professor',\n",
    "]"
   ]
  },
  {
   "cell_type": "code",
   "execution_count": null,
   "id": "cced19a1-0dc3-4a97-a012-1d22535dffc0",
   "metadata": {},
   "outputs": [],
   "source": [
    "dataEUS.columns"
   ]
  },
  {
   "cell_type": "markdown",
   "id": "cf40e3b9-8005-4fad-bb16-f611d120ecf5",
   "metadata": {},
   "source": [
    "### PASSO 3: Escolhendo colunas com o nome de 'datas', para renomear pelo o tipo dia, mês e ano. e removendo os 00 de horas"
   ]
  },
  {
   "cell_type": "code",
   "execution_count": null,
   "id": "b0e94cb3-5f25-444d-a926-6f0302739eda",
   "metadata": {},
   "outputs": [],
   "source": [
    "colunas = [\n",
    "'2024-10-01 00:00:00',\n",
    "'2024-10-02 00:00:00',\n",
    "'2024-10-03 00:00:00',\n",
    "'2024-10-04 00:00:00',\n",
    "'2024-10-07 00:00:00',\n",
    "'2024-10-08 00:00:00',\n",
    "'2024-10-09 00:00:00',\n",
    "'2024-10-10 00:00:00',\n",
    "'2024-10-11 00:00:00',\n",
    "'2024-10-14 00:00:00',\n",
    "'2024-10-15 00:00:00',\n",
    "'2024-10-16 00:00:00',\n",
    "'2024-10-17 00:00:00',\n",
    "'2024-10-18 00:00:00',\n",
    "'2024-10-21 00:00:00',\n",
    "'2024-10-22 00:00:00',\n",
    "'2024-10-23 00:00:00',\n",
    "'2024-10-24 00:00:00',\n",
    "'2024-10-25 00:00:00',\n",
    "'2024-10-28 00:00:00',\n",
    "'2024-10-29 00:00:00',\n",
    "'2024-10-30 00:00:00',\n",
    "'2024-10-31 00:00:00',\n",
    "]"
   ]
  },
  {
   "cell_type": "code",
   "execution_count": null,
   "id": "7b7343b5-8b3d-43a1-a942-9558448938ed",
   "metadata": {},
   "outputs": [],
   "source": [
    "novas_colunas_EUS = []"
   ]
  },
  {
   "cell_type": "code",
   "execution_count": null,
   "id": "e53a61e3-3b7e-48f6-91b6-a672ff695608",
   "metadata": {},
   "outputs": [],
   "source": [
    "for columns in colunas:\n",
    "    # Remove a parte da hora\n",
    "    data_sem_hora = columns.split(' ')[0]\n",
    "    \n",
    "    # Formata para o formato DD-MM-YYYY\n",
    "    ano, mes, dia = data_sem_hora.split('-')\n",
    "    novo_nome = f'{dia}-{mes}-{ano}'\n",
    "    novas_colunas_EUS.append(novo_nome)"
   ]
  },
  {
   "cell_type": "code",
   "execution_count": null,
   "id": "0b5c50eb-d19f-43df-9fd4-7e385553eec7",
   "metadata": {},
   "outputs": [],
   "source": [
    "novas_colunas_EUS"
   ]
  },
  {
   "cell_type": "markdown",
   "id": "a3b285a9-cc05-46a8-9bbb-4e31f5cf9e2b",
   "metadata": {},
   "source": [
    "### PASSO 4 renomeando colunas e acrescentando o novo formato "
   ]
  },
  {
   "cell_type": "markdown",
   "id": "e9f0f8ce-47fd-4b09-a61f-c8ed53ab74e6",
   "metadata": {},
   "source": [
    "copie as colunas que escolheu para renomear, e cole o formato novo no lugar das velhas"
   ]
  },
  {
   "cell_type": "code",
   "execution_count": null,
   "id": "c25bc84e-9608-455c-bb66-11de5b017a16",
   "metadata": {},
   "outputs": [],
   "source": [
    "# Adicionando as datas formatadas as colunas, copiando e colando"
   ]
  },
  {
   "cell_type": "code",
   "execution_count": null,
   "id": "fdf91e1f-8659-4dcc-a9e3-164fda4abbda",
   "metadata": {},
   "outputs": [],
   "source": [
    "for columns in dataEUS.columns:\n",
    "    print (columns)"
   ]
  },
  {
   "cell_type": "code",
   "execution_count": null,
   "id": "e9d5557e-0d72-417c-82f4-5744f645e525",
   "metadata": {},
   "outputs": [],
   "source": [
    "dataEUS.columns = [\n",
    "'CATEGORIA',\n",
    "'MODALIDADE',\n",
    "'DIA DA SEMANA',\n",
    "'HORÁRIO',\n",
    "'TURNO',\n",
    "'PROFESSOR',\n",
    "'01-10-2024',\n",
    "'02-10-2024',\n",
    "'03-10-2024',\n",
    "'04-10-2024',\n",
    "'07-10-2024',\n",
    "'08-10-2024',\n",
    "'09-10-2024',\n",
    "'10-10-2024',\n",
    "'11-10-2024',\n",
    "'14-10-2024',\n",
    "'15-10-2024',\n",
    "'16-10-2024',\n",
    "'17-10-2024',\n",
    "'18-10-2024',\n",
    "'21-10-2024',\n",
    "'22-10-2024',\n",
    "'23-10-2024',\n",
    "'24-10-2024',\n",
    "'25-10-2024',\n",
    "'28-10-2024',\n",
    "'29-10-2024',\n",
    "'30-10-2024',\n",
    "'31-10-2024',\n",
    "'Média alunos p/ professor',\n",
    "'Média',\n",
    "'Alunos/professor',\n",
    "'Ocupação Máxima',\n",
    "'Professor'\n",
    "]"
   ]
  },
  {
   "cell_type": "markdown",
   "id": "5f566854-af4a-432f-8329-7f0bdc50adf5",
   "metadata": {},
   "source": [
    "### 5 PASSO: Usar o Loop for para substitituir os valores das frequencia de 'x' e 'X' por zero, com o método do pd.to_numeric) "
   ]
  },
  {
   "cell_type": "markdown",
   "id": "1bd4592b-bae0-4b0f-a0f0-f805078074a0",
   "metadata": {},
   "source": [
    "Escolhendo apenas as colunas de datas"
   ]
  },
  {
   "cell_type": "code",
   "execution_count": null,
   "id": "938457d4-a736-44f7-aa97-cea7bb574665",
   "metadata": {},
   "outputs": [],
   "source": [
    "colunas = [\n",
    "'01-10-2024',\n",
    "'02-10-2024',\n",
    "'03-10-2024',\n",
    "'04-10-2024',\n",
    "'07-10-2024',\n",
    "'08-10-2024',\n",
    "'09-10-2024',\n",
    "'10-10-2024',\n",
    "'11-10-2024',\n",
    "'14-10-2024',\n",
    "'15-10-2024',\n",
    "'16-10-2024',\n",
    "'17-10-2024',\n",
    "'18-10-2024',\n",
    "'21-10-2024',\n",
    "'22-10-2024',\n",
    "'23-10-2024',\n",
    "'24-10-2024',\n",
    "'25-10-2024',\n",
    "'28-10-2024',\n",
    "'29-10-2024',\n",
    "'30-10-2024',\n",
    "'31-10-2024',   \n",
    "]"
   ]
  },
  {
   "cell_type": "markdown",
   "id": "fd677226-00db-4e03-b1de-a05767afe9ec",
   "metadata": {},
   "source": [
    "Fazendo a limpeza profunda, formatando valores para numeros, preenchendo com zeros os nulos e transformando em inteiros"
   ]
  },
  {
   "cell_type": "code",
   "execution_count": null,
   "id": "c85dbb00-0fa2-4228-8043-f9c511880e52",
   "metadata": {},
   "outputs": [],
   "source": [
    "for columns in colunas:\n",
    "    # dataMES[columns] = pd.to_numeric(dataMES[columns], errors='coerce')\n",
    "    dataEUS[columns] = pd.to_numeric(dataEUS[columns], errors='coerce').fillna(0).astype(int)"
   ]
  },
  {
   "cell_type": "markdown",
   "id": "a6866763-c7f0-4342-998b-6849b492e134",
   "metadata": {},
   "source": [
    "### PASSO 6: MELT derretendo as colunas em formato de datas"
   ]
  },
  {
   "cell_type": "markdown",
   "id": "b4c0906c-6bfa-4722-bc87-e4de3646f73f",
   "metadata": {},
   "source": [
    "o MELT ele pega as colunas que estão na horizontal e cria uma coluna de categorias, e depois ele cria outra coluna com os valores dessas colunas que foram transformadas em dados categóricos"
   ]
  },
  {
   "cell_type": "code",
   "execution_count": null,
   "id": "7796d794-158a-4de6-8da8-15889f529c03",
   "metadata": {},
   "outputs": [],
   "source": [
    "colunas_para_melt = [\n",
    "'01-10-2024',\n",
    "'02-10-2024',\n",
    "'03-10-2024',\n",
    "'04-10-2024',\n",
    "'07-10-2024',\n",
    "'08-10-2024',\n",
    "'09-10-2024',\n",
    "'10-10-2024',\n",
    "'11-10-2024',\n",
    "'14-10-2024',\n",
    "'15-10-2024',\n",
    "'16-10-2024',\n",
    "'17-10-2024',\n",
    "'18-10-2024',\n",
    "'21-10-2024',\n",
    "'22-10-2024',\n",
    "'23-10-2024',\n",
    "'24-10-2024',\n",
    "'25-10-2024',\n",
    "'28-10-2024',\n",
    "'29-10-2024',\n",
    "'30-10-2024',\n",
    "'31-10-2024', \n",
    "]"
   ]
  },
  {
   "cell_type": "markdown",
   "id": "013df1b5-c6c5-4d40-973f-f7bac02ceb8c",
   "metadata": {},
   "source": [
    "#### Indentificando as colunas que Eu quero manter em meu dataframe"
   ]
  },
  {
   "cell_type": "code",
   "execution_count": null,
   "id": "7076e282-f6d1-4ee4-ad0e-35ec9ebd9f9a",
   "metadata": {},
   "outputs": [],
   "source": [
    "# Identifica as colunas que você quer manter como identificadoras (id_vars)\n",
    "# São as colunas que não serão \"unpivoted\"\n",
    "id_vars_cols = [columns for columns in dataEUS.columns if columns not in colunas_para_melt]"
   ]
  },
  {
   "cell_type": "code",
   "execution_count": null,
   "id": "1a5e5d91-0830-4e2f-942f-9b81e00829a9",
   "metadata": {},
   "outputs": [],
   "source": [
    "dataEUS_melted = pd.melt(dataEUS,\n",
    "                      id_vars=id_vars_cols, #colunas que Eu deixei, que ficaram.\n",
    "                      value_vars=colunas_para_melt, #colunas que vão se transformar.\n",
    "                      var_name='Dias de Aulas', # nome da coluna categorica\n",
    "                      value_name='Frequencia de Alunos') # nome da coluna de valores"
   ]
  },
  {
   "cell_type": "code",
   "execution_count": null,
   "id": "4a6acde6-e45f-4c4e-8fca-9858a6b3ef19",
   "metadata": {},
   "outputs": [],
   "source": [
    "dataEUS_melted.head(3)"
   ]
  },
  {
   "cell_type": "code",
   "execution_count": null,
   "id": "f84ccd53-f581-46a6-b9a9-9cd8909f5766",
   "metadata": {},
   "outputs": [],
   "source": [
    "dataEUS_melted['Frequencia de Alunos'].sum()"
   ]
  },
  {
   "cell_type": "markdown",
   "id": "69f46955-95b7-48a8-ba79-9f81ef427161",
   "metadata": {},
   "source": [
    "# GUARARÁPES [GUA] - PREPROCESSING 7"
   ]
  },
  {
   "cell_type": "code",
   "execution_count": null,
   "id": "9a2daf45-ff16-4aef-8292-1c3597c9b6b0",
   "metadata": {},
   "outputs": [],
   "source": [
    "data7 = pd.read_excel('Frequencia de Alunos Green Life Academias - outubro de 2024.xlsx', sheet_name='GUA', skiprows=1, nrows=165)"
   ]
  },
  {
   "cell_type": "code",
   "execution_count": null,
   "id": "9c96e6f4-c9d6-41c8-9f99-fb40a0fd16f3",
   "metadata": {},
   "outputs": [],
   "source": [
    "dataGUA = data7.copy()"
   ]
  },
  {
   "cell_type": "markdown",
   "id": "d41d649c-a822-4fb4-bb49-ebf2f86425a1",
   "metadata": {},
   "source": [
    "### 1 PASSO: Removendo colunas desnecessárias"
   ]
  },
  {
   "cell_type": "code",
   "execution_count": null,
   "id": "9026dc42-754b-45aa-b2ae-c938558de2cd",
   "metadata": {},
   "outputs": [],
   "source": [
    "dataGUA.tail(3)"
   ]
  },
  {
   "cell_type": "code",
   "execution_count": null,
   "id": "83cb35ea-44df-4558-9af5-f5ac1079106e",
   "metadata": {},
   "outputs": [],
   "source": [
    "dataGUA.iloc[-1]"
   ]
  },
  {
   "cell_type": "code",
   "execution_count": null,
   "id": "042737c0-5a5f-40f9-b05d-759a0de36870",
   "metadata": {},
   "outputs": [],
   "source": [
    "dataGUA[[' ', 'Unnamed: 1', 'Unnamed: 2', 'AUX 2', 'AUX 3']].head(2)"
   ]
  },
  {
   "cell_type": "code",
   "execution_count": null,
   "id": "2fdd30dc-5410-420f-a364-30245445b4ba",
   "metadata": {},
   "outputs": [],
   "source": [
    "dropColuns = [' ', 'Unnamed: 1', 'Unnamed: 2', 'AUX 2', 'AUX 3', 'HORÁRIO']"
   ]
  },
  {
   "cell_type": "code",
   "execution_count": null,
   "id": "869b90d3-53e2-4003-8f25-69b7cacb35c3",
   "metadata": {},
   "outputs": [],
   "source": [
    "dataGUA.drop(columns=dropColuns, inplace=True)"
   ]
  },
  {
   "cell_type": "markdown",
   "id": "cb1c40ac-8fe8-4729-9452-94edbb4e0add",
   "metadata": {},
   "source": [
    "- PRECISAMOS RENOMEAR A COLUNA AUX.1 COMO HORARIO"
   ]
  },
  {
   "cell_type": "code",
   "execution_count": null,
   "id": "e291ff6b-4ef3-4db6-99a9-43228532343b",
   "metadata": {},
   "outputs": [],
   "source": [
    "dataGUA.rename(columns={'AUX.1': 'HORÁRIO'}, inplace=True)"
   ]
  },
  {
   "cell_type": "code",
   "execution_count": null,
   "id": "b9ba64d2-9ad5-41ac-8c89-cb63004aeeb9",
   "metadata": {},
   "outputs": [],
   "source": [
    "dataGUA.head(2)"
   ]
  },
  {
   "cell_type": "markdown",
   "id": "2fb99fb0-cd6a-47af-bc0b-4c0999d42fde",
   "metadata": {},
   "source": [
    "### 2 PASSO: Renomeando strings de datas, para que o pandas possa aceitar como colunas"
   ]
  },
  {
   "cell_type": "code",
   "execution_count": null,
   "id": "353b1fc3-a219-4275-8c1d-128ec3d00ff5",
   "metadata": {},
   "outputs": [],
   "source": [
    "for columns in dataGUA.columns:\n",
    "    print(columns)"
   ]
  },
  {
   "cell_type": "code",
   "execution_count": null,
   "id": "6828a99b-aeee-4768-9ca6-a8a5d3a21a39",
   "metadata": {},
   "outputs": [],
   "source": [
    "dataGUA.columns = [\n",
    "'CATEGORIA',\n",
    "'MODALIDADE',\n",
    "'DIA DA SEMANA',\n",
    "'HORÁRIO',\n",
    "'TURNO',\n",
    "'PROFESSOR',\n",
    "'2024-10-01 00:00:00',\n",
    "'2024-10-02 00:00:00',\n",
    "'2024-10-03 00:00:00',\n",
    "'2024-10-04 00:00:00',\n",
    "'2024-10-07 00:00:00',\n",
    "'2024-10-08 00:00:00',\n",
    "'2024-10-09 00:00:00',\n",
    "'2024-10-10 00:00:00',\n",
    "'2024-10-11 00:00:00',\n",
    "'2024-10-14 00:00:00',\n",
    "'2024-10-15 00:00:00',\n",
    "'2024-10-16 00:00:00',\n",
    "'2024-10-17 00:00:00',\n",
    "'2024-10-18 00:00:00',\n",
    "'2024-10-21 00:00:00',\n",
    "'2024-10-22 00:00:00',\n",
    "'2024-10-23 00:00:00',\n",
    "'2024-10-24 00:00:00',\n",
    "'2024-10-25 00:00:00',\n",
    "'2024-10-28 00:00:00',\n",
    "'2024-10-29 00:00:00',\n",
    "'2024-10-30 00:00:00',\n",
    "'2024-10-31 00:00:00',\n",
    "'Média alunos p/ professor',\n",
    "'Média',\n",
    "'Alunos/professor',\n",
    "'Ocupação Máxima',\n",
    "'Professor',\n",
    "]"
   ]
  },
  {
   "cell_type": "code",
   "execution_count": null,
   "id": "514806e3-4a6a-4893-8fd2-fb8e237f7251",
   "metadata": {},
   "outputs": [],
   "source": [
    "dataGUA.columns"
   ]
  },
  {
   "cell_type": "markdown",
   "id": "4747c28b-c3cb-43ab-a8e5-d6a0b68e5cc6",
   "metadata": {},
   "source": [
    "### PASSO 3: Escolhendo colunas com o nome de 'datas', para renomear pelo o tipo dia, mês e ano. e removendo os 00 de horas"
   ]
  },
  {
   "cell_type": "code",
   "execution_count": null,
   "id": "a12de310-f3fd-4ff4-a082-b9b6c133c87f",
   "metadata": {},
   "outputs": [],
   "source": [
    "colunas = [\n",
    "'2024-10-01 00:00:00',\n",
    "'2024-10-02 00:00:00',\n",
    "'2024-10-03 00:00:00',\n",
    "'2024-10-04 00:00:00',\n",
    "'2024-10-07 00:00:00',\n",
    "'2024-10-08 00:00:00',\n",
    "'2024-10-09 00:00:00',\n",
    "'2024-10-10 00:00:00',\n",
    "'2024-10-11 00:00:00',\n",
    "'2024-10-14 00:00:00',\n",
    "'2024-10-15 00:00:00',\n",
    "'2024-10-16 00:00:00',\n",
    "'2024-10-17 00:00:00',\n",
    "'2024-10-18 00:00:00',\n",
    "'2024-10-21 00:00:00',\n",
    "'2024-10-22 00:00:00',\n",
    "'2024-10-23 00:00:00',\n",
    "'2024-10-24 00:00:00',\n",
    "'2024-10-25 00:00:00',\n",
    "'2024-10-28 00:00:00',\n",
    "'2024-10-29 00:00:00',\n",
    "'2024-10-30 00:00:00',\n",
    "'2024-10-31 00:00:00',\n",
    "]"
   ]
  },
  {
   "cell_type": "code",
   "execution_count": null,
   "id": "75e6351f-0208-40fc-b681-69dc3140b053",
   "metadata": {},
   "outputs": [],
   "source": [
    "novas_colunas_GUA = []"
   ]
  },
  {
   "cell_type": "code",
   "execution_count": null,
   "id": "bb33cf96-eb5e-4a66-99ab-849244a65b71",
   "metadata": {},
   "outputs": [],
   "source": [
    "for columns in colunas:\n",
    "    # Remove a parte da hora\n",
    "    data_sem_hora = columns.split(' ')[0]\n",
    "    \n",
    "    # Formata para o formato DD-MM-YYYY\n",
    "    ano, mes, dia = data_sem_hora.split('-')\n",
    "    novo_nome = f'{dia}-{mes}-{ano}'\n",
    "    novas_colunas_GUA.append(novo_nome)"
   ]
  },
  {
   "cell_type": "code",
   "execution_count": null,
   "id": "4e591f02-69ed-4467-8c40-d9bbe1093f32",
   "metadata": {},
   "outputs": [],
   "source": [
    "novas_colunas_GUA"
   ]
  },
  {
   "cell_type": "markdown",
   "id": "255d7f5a-3972-4b6b-9dcd-b2a7ad231438",
   "metadata": {},
   "source": [
    "### PASSO 4 renomeando colunas e acrescentando o novo formato "
   ]
  },
  {
   "cell_type": "markdown",
   "id": "eafc71f4-f836-4318-9a50-a5ef6b313826",
   "metadata": {},
   "source": [
    "copie as colunas que escolheu para renomear, e cole o formato novo no lugar das velhas"
   ]
  },
  {
   "cell_type": "code",
   "execution_count": null,
   "id": "6038f1fc-a11b-4cdc-b92b-37171f843552",
   "metadata": {},
   "outputs": [],
   "source": [
    "# Adicionando as datas formatadas as colunas, copiando e colando"
   ]
  },
  {
   "cell_type": "code",
   "execution_count": null,
   "id": "53378b8c-0c57-481d-8b65-58c726877e4d",
   "metadata": {},
   "outputs": [],
   "source": [
    "for columns in dataGUA.columns:\n",
    "    print (columns)"
   ]
  },
  {
   "cell_type": "code",
   "execution_count": null,
   "id": "b0db46a6-9630-4804-94bc-c1237b02d81a",
   "metadata": {},
   "outputs": [],
   "source": [
    "dataGUA.columns = [\n",
    "'CATEGORIA',\n",
    "'MODALIDADE',\n",
    "'DIA DA SEMANA',\n",
    "'HORÁRIO',\n",
    "'TURNO',\n",
    "'PROFESSOR',\n",
    "'01-10-2024',\n",
    "'02-10-2024',\n",
    "'03-10-2024',\n",
    "'04-10-2024',\n",
    "'07-10-2024',\n",
    "'08-10-2024',\n",
    "'09-10-2024',\n",
    "'10-10-2024',\n",
    "'11-10-2024',\n",
    "'14-10-2024',\n",
    "'15-10-2024',\n",
    "'16-10-2024',\n",
    "'17-10-2024',\n",
    "'18-10-2024',\n",
    "'21-10-2024',\n",
    "'22-10-2024',\n",
    "'23-10-2024',\n",
    "'24-10-2024',\n",
    "'25-10-2024',\n",
    "'28-10-2024',\n",
    "'29-10-2024',\n",
    "'30-10-2024',\n",
    "'31-10-2024',\n",
    "'Média alunos p/ professor',\n",
    "'Média',\n",
    "'Alunos/professor',\n",
    "'Ocupação Máxima',\n",
    "'Professor',\n",
    "]"
   ]
  },
  {
   "cell_type": "markdown",
   "id": "2b05aae9-72ba-44be-a967-436c6628b121",
   "metadata": {},
   "source": [
    "### 5 PASSO: Usar o Loop for para substitituir os valores das frequencia de 'x' e 'X' por zero, com o método do pd.to_numeric) "
   ]
  },
  {
   "cell_type": "code",
   "execution_count": null,
   "id": "d7845f1a-c71f-4d77-ade5-2acf9e119d8d",
   "metadata": {},
   "outputs": [],
   "source": [
    "colunas = [\n",
    "'01-10-2024',\n",
    "'02-10-2024',\n",
    "'03-10-2024',\n",
    "'04-10-2024',\n",
    "'07-10-2024',\n",
    "'08-10-2024',\n",
    "'09-10-2024',\n",
    "'10-10-2024',\n",
    "'11-10-2024',\n",
    "'14-10-2024',\n",
    "'15-10-2024',\n",
    "'16-10-2024',\n",
    "'17-10-2024',\n",
    "'18-10-2024',\n",
    "'21-10-2024',\n",
    "'22-10-2024',\n",
    "'23-10-2024',\n",
    "'24-10-2024',\n",
    "'25-10-2024',\n",
    "'28-10-2024',\n",
    "'29-10-2024',\n",
    "'30-10-2024',\n",
    "'31-10-2024',\n",
    "]"
   ]
  },
  {
   "cell_type": "markdown",
   "id": "2e88a9ff-c784-4d38-bd39-fba9740641a9",
   "metadata": {},
   "source": [
    "Fazendo a limpeza profunda, formatando valores para numeros, preenchendo com zeros os nulos e transformando em inteiros"
   ]
  },
  {
   "cell_type": "code",
   "execution_count": null,
   "id": "b97b9bc8-cc39-49ba-92ab-3d18a91e7dd1",
   "metadata": {},
   "outputs": [],
   "source": [
    "for columns in colunas:\n",
    "    # dataMES[columns] = pd.to_numeric(dataMES[columns], errors='coerce')\n",
    "    dataGUA[columns] = pd.to_numeric(dataGUA[columns], errors='coerce').fillna(0).astype(int)"
   ]
  },
  {
   "cell_type": "markdown",
   "id": "6163db65-1a12-44d7-a4c6-fef111e45d08",
   "metadata": {},
   "source": [
    "### PASSO 6: MELT derretendo as colunas em formato de datas"
   ]
  },
  {
   "cell_type": "markdown",
   "id": "da634d18-47c0-40db-8263-892cb2a57e64",
   "metadata": {},
   "source": [
    "o MELT ele pega as colunas que estão na horizontal e cria uma coluna de categorias, e depois ele cria outra coluna com os valores dessas colunas que foram transformadas em dados categóricos"
   ]
  },
  {
   "cell_type": "code",
   "execution_count": null,
   "id": "2694d505-6e05-415b-8485-193f07bf6566",
   "metadata": {},
   "outputs": [],
   "source": [
    "colunas_para_melt = [\n",
    "'01-10-2024',\n",
    "'02-10-2024',\n",
    "'03-10-2024',\n",
    "'04-10-2024',\n",
    "'07-10-2024',\n",
    "'08-10-2024',\n",
    "'09-10-2024',\n",
    "'10-10-2024',\n",
    "'11-10-2024',\n",
    "'14-10-2024',\n",
    "'15-10-2024',\n",
    "'16-10-2024',\n",
    "'17-10-2024',\n",
    "'18-10-2024',\n",
    "'21-10-2024',\n",
    "'22-10-2024',\n",
    "'23-10-2024',\n",
    "'24-10-2024',\n",
    "'25-10-2024',\n",
    "'28-10-2024',\n",
    "'29-10-2024',\n",
    "'30-10-2024',\n",
    "'31-10-2024', \n",
    "]"
   ]
  },
  {
   "cell_type": "markdown",
   "id": "c8b3efd9-7ae6-47bd-a36f-d02966062c7c",
   "metadata": {},
   "source": [
    "#### Indentificando as colunas que Eu quero manter em meu dataframe"
   ]
  },
  {
   "cell_type": "code",
   "execution_count": null,
   "id": "92f1e827-38c4-4f28-8e04-a862386f3079",
   "metadata": {},
   "outputs": [],
   "source": [
    "# Identifica as colunas que você quer manter como identificadoras (id_vars)\n",
    "# São as colunas que não serão \"unpivoted\"\n",
    "id_vars_cols = [columns for columns in dataGUA.columns if columns not in colunas_para_melt]"
   ]
  },
  {
   "cell_type": "code",
   "execution_count": null,
   "id": "9d980ebb-cecb-44a0-a2ff-565f9c546d84",
   "metadata": {},
   "outputs": [],
   "source": [
    "dataGUA_melted = pd.melt(dataGUA,\n",
    "                      id_vars=id_vars_cols, #colunas que Eu deixei, que ficaram.\n",
    "                      value_vars=colunas_para_melt, #colunas que vão se transformar.\n",
    "                      var_name='Dias de Aulas', # nome da coluna categorica\n",
    "                      value_name='Frequencia de Alunos') # nome da coluna de valores"
   ]
  },
  {
   "cell_type": "code",
   "execution_count": null,
   "id": "0bbc0acf-4749-40ea-ba93-ff2795505dc0",
   "metadata": {},
   "outputs": [],
   "source": [
    "dataGUA_melted.head(3)"
   ]
  },
  {
   "cell_type": "code",
   "execution_count": null,
   "id": "399f3a1a-9ee1-470d-8ccf-d87122c731e7",
   "metadata": {},
   "outputs": [],
   "source": [
    "dataGUA_melted['Frequencia de Alunos'].sum()"
   ]
  },
  {
   "cell_type": "code",
   "execution_count": null,
   "id": "7ebfdaf1-dbb5-4aa2-9970-539cb25c5127",
   "metadata": {},
   "outputs": [],
   "source": [
    "# Aplica a lógica condicional para criar a coluna 'TURNO' usando .loc e comparação de strings\n",
    "dataGUA_melted.loc[dataGUA_melted['HORÁRIO'] <= '12:30', 'TURNO'] = 'MANHÃ'\n",
    "dataGUA_melted.loc[dataGUA_melted['HORÁRIO'] > '12:30', 'TURNO'] = 'NOITE'"
   ]
  },
  {
   "cell_type": "code",
   "execution_count": null,
   "id": "daec9347-4502-49d5-9ece-fd45a3f85ba8",
   "metadata": {},
   "outputs": [],
   "source": [
    "dataGUA_melted.head(2)"
   ]
  },
  {
   "cell_type": "markdown",
   "id": "ccfe4952-c415-4663-b15d-39cdfdcb855a",
   "metadata": {},
   "source": [
    "# KENNEDY [KEN] - PREPROCESSING 8"
   ]
  },
  {
   "cell_type": "code",
   "execution_count": null,
   "id": "1d30ece4-d895-4593-b7c5-f45cfeab39ad",
   "metadata": {},
   "outputs": [],
   "source": [
    "data8 = pd.read_excel('Frequencia de Alunos Green Life Academias - outubro de 2024.xlsx', sheet_name='KEN', skiprows=1, nrows=99)"
   ]
  },
  {
   "cell_type": "code",
   "execution_count": null,
   "id": "73c53335-0b0c-4840-b759-02a36f21b727",
   "metadata": {},
   "outputs": [],
   "source": [
    "dataKEN = data8.copy()"
   ]
  },
  {
   "cell_type": "markdown",
   "id": "02c90be0-bec6-45d8-9372-9d571b43c897",
   "metadata": {},
   "source": [
    "### 1 PASSO: Removendo colunas desnecessárias"
   ]
  },
  {
   "cell_type": "code",
   "execution_count": null,
   "id": "7cd641da-5a53-48b1-bbe1-7532df529a89",
   "metadata": {},
   "outputs": [],
   "source": [
    "dataKEN.tail(3)"
   ]
  },
  {
   "cell_type": "code",
   "execution_count": null,
   "id": "35df1dc0-7cc9-4916-b1dd-a4e0465bd980",
   "metadata": {},
   "outputs": [],
   "source": [
    "dataKEN.iloc[-1]"
   ]
  },
  {
   "cell_type": "code",
   "execution_count": null,
   "id": "7c8a3ace-161b-44d9-8f5d-44ed69e20c14",
   "metadata": {},
   "outputs": [],
   "source": [
    "dropColumns = ['Unnamed: 0', 'Unnamed: 1','Unnamed: 2', 'HORÁRIO', 'AUX 2', 'AUX 3',\n",
    "              'Unnamed: 40', 'Unnamed: 41', 'Unnamed: 42', 'Unnamed: 43', 'Unnamed: 44', 'Unnamed: 45', 'Unnamed: 46','Unnamed: 47']    "
   ]
  },
  {
   "cell_type": "code",
   "execution_count": null,
   "id": "b607583c-cb77-4697-bc77-d140832f7fea",
   "metadata": {},
   "outputs": [],
   "source": [
    "dataKEN.drop(columns=dropColumns, inplace=True)"
   ]
  },
  {
   "cell_type": "markdown",
   "id": "7a1bc7fc-6608-4116-90a2-234d0b1d87e1",
   "metadata": {},
   "source": [
    "- PRECISAMOS RENOMEAR A COLUNA AUX.1 COMO HORARIO"
   ]
  },
  {
   "cell_type": "code",
   "execution_count": null,
   "id": "e1dbeb4e-ce04-40bd-b40d-d4dbe66544d0",
   "metadata": {},
   "outputs": [],
   "source": [
    "dataKEN.rename(columns={'AUX.1': 'HORÁRIO'}, inplace=True)"
   ]
  },
  {
   "cell_type": "code",
   "execution_count": null,
   "id": "383c6048-98f1-40cd-8621-25214b809dc2",
   "metadata": {},
   "outputs": [],
   "source": [
    "dataKEN.head(2)"
   ]
  },
  {
   "cell_type": "markdown",
   "id": "92c91215-39cf-454a-80e8-c16c4c85939d",
   "metadata": {},
   "source": [
    "### 2 PASSO: Renomeando strings de datas, para que o pandas possa aceitar como colunas"
   ]
  },
  {
   "cell_type": "code",
   "execution_count": null,
   "id": "3fed63cc-1bab-4f0c-9da8-38dec90f0057",
   "metadata": {},
   "outputs": [],
   "source": [
    "for columns in dataKEN.columns:\n",
    "    print(columns)"
   ]
  },
  {
   "cell_type": "code",
   "execution_count": null,
   "id": "249fd77d-4bf2-459e-8275-d463845f866f",
   "metadata": {},
   "outputs": [],
   "source": [
    "dataKEN.columns = [\n",
    "'CATEGORIA',\n",
    "'MODALIDADE',\n",
    "'DIA DA SEMANA',\n",
    "'HORÁRIO',\n",
    "'TURNO',\n",
    "'PROFESSOR',\n",
    "'2024-10-01 00:00:00',\n",
    "'2024-10-02 00:00:00',\n",
    "'2024-10-03 00:00:00',\n",
    "'2024-10-04 00:00:00',\n",
    "'2024-10-07 00:00:00',\n",
    "'2024-10-08 00:00:00',\n",
    "'2024-10-09 00:00:00',\n",
    "'2024-10-10 00:00:00',\n",
    "'2024-10-11 00:00:00',\n",
    "'2024-10-14 00:00:00',\n",
    "'2024-10-15 00:00:00',\n",
    "'2024-10-16 00:00:00',\n",
    "'2024-10-17 00:00:00',\n",
    "'2024-10-18 00:00:00',\n",
    "'2024-10-21 00:00:00',\n",
    "'2024-10-22 00:00:00',\n",
    "'2024-10-23 00:00:00',\n",
    "'2024-10-24 00:00:00',\n",
    "'2024-10-25 00:00:00',\n",
    "'2024-10-28 00:00:00',\n",
    "'2024-10-29 00:00:00',\n",
    "'2024-10-30 00:00:00',\n",
    "'2024-10-31 00:00:00',\n",
    "'Aulas/mês',\n",
    "'Média',\n",
    "'Alunos/professor',\n",
    "'Ocupação Máxima',\n",
    "'Professor',\n",
    "]"
   ]
  },
  {
   "cell_type": "code",
   "execution_count": null,
   "id": "9bf4df5e-e0f3-45c6-9fda-1846b00da13d",
   "metadata": {},
   "outputs": [],
   "source": [
    "dataKEN.columns"
   ]
  },
  {
   "cell_type": "markdown",
   "id": "3a8f6dc6-5b12-4eb4-bdf6-565851b0a624",
   "metadata": {},
   "source": [
    "### PASSO 3: Escolhendo colunas com o nome de 'datas', para renomear pelo o tipo dia, mês e ano. e removendo os 00 de horas"
   ]
  },
  {
   "cell_type": "code",
   "execution_count": null,
   "id": "91cb8d17-3918-483f-aab2-2e93d30c4303",
   "metadata": {},
   "outputs": [],
   "source": [
    "colunas = [\n",
    "'2024-10-01 00:00:00',\n",
    "'2024-10-02 00:00:00',\n",
    "'2024-10-03 00:00:00',\n",
    "'2024-10-04 00:00:00',\n",
    "'2024-10-07 00:00:00',\n",
    "'2024-10-08 00:00:00',\n",
    "'2024-10-09 00:00:00',\n",
    "'2024-10-10 00:00:00',\n",
    "'2024-10-11 00:00:00',\n",
    "'2024-10-14 00:00:00',\n",
    "'2024-10-15 00:00:00',\n",
    "'2024-10-16 00:00:00',\n",
    "'2024-10-17 00:00:00',\n",
    "'2024-10-18 00:00:00',\n",
    "'2024-10-21 00:00:00',\n",
    "'2024-10-22 00:00:00',\n",
    "'2024-10-23 00:00:00',\n",
    "'2024-10-24 00:00:00',\n",
    "'2024-10-25 00:00:00',\n",
    "'2024-10-28 00:00:00',\n",
    "'2024-10-29 00:00:00',\n",
    "'2024-10-30 00:00:00',\n",
    "'2024-10-31 00:00:00',\n",
    "]   "
   ]
  },
  {
   "cell_type": "code",
   "execution_count": null,
   "id": "33ff7f4a-2f44-4360-bf1e-65a55468ad4e",
   "metadata": {},
   "outputs": [],
   "source": [
    "novas_colunas_KEN = []"
   ]
  },
  {
   "cell_type": "code",
   "execution_count": null,
   "id": "74247604-cdf1-4e6a-8b45-58888fab054e",
   "metadata": {},
   "outputs": [],
   "source": [
    "for columns in colunas:\n",
    "    # Remove a parte da hora\n",
    "    data_sem_hora = columns.split(' ')[0]\n",
    "    \n",
    "    # Formata para o formato DD-MM-YYYY\n",
    "    ano, mes, dia = data_sem_hora.split('-')\n",
    "    novo_nome = f'{dia}-{mes}-{ano}'\n",
    "    novas_colunas_KEN.append(novo_nome)"
   ]
  },
  {
   "cell_type": "code",
   "execution_count": null,
   "id": "7f650718-7e2c-4375-9965-1c40f8eb3faa",
   "metadata": {},
   "outputs": [],
   "source": [
    "novas_colunas_KEN"
   ]
  },
  {
   "cell_type": "markdown",
   "id": "5bbe2776-8ebd-4587-afaa-d89301cef612",
   "metadata": {},
   "source": [
    "### PASSO 4 renomeando colunas e acrescentando o novo formato "
   ]
  },
  {
   "cell_type": "markdown",
   "id": "17ef14be-b003-4aab-b4dd-58db6f2b4e7e",
   "metadata": {},
   "source": [
    "copie as colunas que escolheu para renomear, e cole o formato novo no lugar das velhas"
   ]
  },
  {
   "cell_type": "code",
   "execution_count": null,
   "id": "d116071a-bebb-485c-af94-29ec20017be7",
   "metadata": {},
   "outputs": [],
   "source": [
    "# Adicionando as datas formatadas as colunas, copiando e colando"
   ]
  },
  {
   "cell_type": "code",
   "execution_count": null,
   "id": "8a5b9f01-df4d-4595-b2e9-19c863e267a9",
   "metadata": {},
   "outputs": [],
   "source": [
    "for columns in dataKEN.columns:\n",
    "    print (columns)"
   ]
  },
  {
   "cell_type": "code",
   "execution_count": null,
   "id": "dd0e51ff-09e2-4da4-81ab-d872284dc2f5",
   "metadata": {},
   "outputs": [],
   "source": [
    "dataKEN.columns =[\n",
    "'CATEGORIA',\n",
    "'MODALIDADE',\n",
    "'DIA DA SEMANA',\n",
    "'HORÁRIO',\n",
    "'TURNO',\n",
    "'PROFESSOR',\n",
    "'01-10-2024',\n",
    "'02-10-2024',\n",
    "'03-10-2024',\n",
    "'04-10-2024',\n",
    "'07-10-2024',\n",
    "'08-10-2024',\n",
    "'09-10-2024',\n",
    "'10-10-2024',\n",
    "'11-10-2024',\n",
    "'14-10-2024',\n",
    "'15-10-2024',\n",
    "'16-10-2024',\n",
    "'17-10-2024',\n",
    "'18-10-2024',\n",
    "'21-10-2024',\n",
    "'22-10-2024',\n",
    "'23-10-2024',\n",
    "'24-10-2024',\n",
    "'25-10-2024',\n",
    "'28-10-2024',\n",
    "'29-10-2024',\n",
    "'30-10-2024',\n",
    "'31-10-2024',\n",
    "'Aulas/mês',\n",
    "'Média',\n",
    "'Alunos/professor',\n",
    "'Ocupação Máxima',\n",
    "'Professor'\n",
    "]"
   ]
  },
  {
   "cell_type": "markdown",
   "id": "88ada582-d271-4c3f-9c22-07b10db4c2b3",
   "metadata": {},
   "source": [
    "### 5 PASSO: Usar o Loop for para substitituir os valores das frequencia de 'x' e 'X' por zero, com o método do pd.to_numeric) "
   ]
  },
  {
   "cell_type": "code",
   "execution_count": null,
   "id": "32fd90e8-f096-4810-a73d-7a473407089d",
   "metadata": {},
   "outputs": [],
   "source": [
    "colunas = [\n",
    "'01-10-2024',\n",
    "'02-10-2024',\n",
    "'03-10-2024',\n",
    "'04-10-2024',\n",
    "'07-10-2024',\n",
    "'08-10-2024',\n",
    "'09-10-2024',\n",
    "'10-10-2024',\n",
    "'11-10-2024',\n",
    "'14-10-2024',\n",
    "'15-10-2024',\n",
    "'16-10-2024',\n",
    "'17-10-2024',\n",
    "'18-10-2024',\n",
    "'21-10-2024',\n",
    "'22-10-2024',\n",
    "'23-10-2024',\n",
    "'24-10-2024',\n",
    "'25-10-2024',\n",
    "'28-10-2024',\n",
    "'29-10-2024',\n",
    "'30-10-2024',\n",
    "'31-10-2024'\n",
    "]"
   ]
  },
  {
   "cell_type": "markdown",
   "id": "639f85cb-131b-4eae-820f-34435e514bb4",
   "metadata": {},
   "source": [
    "Fazendo a limpeza profunda, formatando valores para numeros, preenchendo com zeros os nulos e transformando em inteiros"
   ]
  },
  {
   "cell_type": "code",
   "execution_count": null,
   "id": "c18e3578-8b2d-40f0-9023-81d34d3e1559",
   "metadata": {},
   "outputs": [],
   "source": [
    "for columns in colunas:\n",
    "    # dataMES[columns] = pd.to_numeric(dataMES[columns], errors='coerce')\n",
    "    dataKEN[columns] = pd.to_numeric(dataKEN[columns], errors='coerce').fillna(0).astype(int)"
   ]
  },
  {
   "cell_type": "markdown",
   "id": "469ac1a0-9343-4a0d-ab0d-48f0a8da86ed",
   "metadata": {},
   "source": [
    "### PASSO 6: MELT derretendo as colunas em formato de datas"
   ]
  },
  {
   "cell_type": "markdown",
   "id": "18c1d767-b667-4238-b0e0-f150d00011ad",
   "metadata": {},
   "source": [
    "o MELT ele pega as colunas que estão na horizontal e cria uma coluna de categorias, e depois ele cria outra coluna com os valores dessas colunas que foram transformadas em dados categóricos"
   ]
  },
  {
   "cell_type": "code",
   "execution_count": null,
   "id": "7e00057c-8c89-447f-9026-a869aa1c7292",
   "metadata": {},
   "outputs": [],
   "source": [
    "colunas_para_melt = [\n",
    "'01-10-2024',\n",
    "'02-10-2024',\n",
    "'03-10-2024',\n",
    "'04-10-2024',\n",
    "'07-10-2024',\n",
    "'08-10-2024',\n",
    "'09-10-2024',\n",
    "'10-10-2024',\n",
    "'11-10-2024',\n",
    "'14-10-2024',\n",
    "'15-10-2024',\n",
    "'16-10-2024',\n",
    "'17-10-2024',\n",
    "'18-10-2024',\n",
    "'21-10-2024',\n",
    "'22-10-2024',\n",
    "'23-10-2024',\n",
    "'24-10-2024',\n",
    "'25-10-2024',\n",
    "'28-10-2024',\n",
    "'29-10-2024',\n",
    "'30-10-2024',\n",
    "'31-10-2024'\n",
    "]"
   ]
  },
  {
   "cell_type": "markdown",
   "id": "7b43f1f9-5715-492b-9e4c-d1ab083c3ffe",
   "metadata": {},
   "source": [
    "#### Indentificando as colunas que Eu quero manter em meu dataframe"
   ]
  },
  {
   "cell_type": "code",
   "execution_count": null,
   "id": "fef0cfa9-0bd2-4937-97a4-f13d2b3bd868",
   "metadata": {},
   "outputs": [],
   "source": [
    "# Identifica as colunas que você quer manter como identificadoras (id_vars)\n",
    "# São as colunas que não serão \"unpivoted\"\n",
    "id_vars_cols = [columns for columns in dataKEN.columns if columns not in colunas_para_melt]"
   ]
  },
  {
   "cell_type": "code",
   "execution_count": null,
   "id": "9968f605-4b4d-4495-80ec-31c91290f859",
   "metadata": {},
   "outputs": [],
   "source": [
    "dataKEN_melted = pd.melt(dataKEN,\n",
    "                      id_vars=id_vars_cols, #colunas que Eu deixei, que ficaram.\n",
    "                      value_vars=colunas_para_melt, #colunas que vão se transformar.\n",
    "                      var_name='Dias de Aulas', # nome da coluna categorica\n",
    "                      value_name='Frequencia de Alunos') # nome da coluna de valores"
   ]
  },
  {
   "cell_type": "code",
   "execution_count": null,
   "id": "2924027a-d0d3-4211-9d62-51d5386e6540",
   "metadata": {},
   "outputs": [],
   "source": [
    "dataKEN_melted.head(2)"
   ]
  },
  {
   "cell_type": "code",
   "execution_count": null,
   "id": "9e8e13b2-1400-43c6-a09f-a26d2c84234b",
   "metadata": {},
   "outputs": [],
   "source": [
    "dataKEN_melted['Frequencia de Alunos'].sum()"
   ]
  },
  {
   "cell_type": "markdown",
   "id": "39fffdf1-ae18-4f08-848b-178da1110f5e",
   "metadata": {},
   "source": [
    "# MARANGUAPE [MPE] - PREPROCESSING 9"
   ]
  },
  {
   "cell_type": "code",
   "execution_count": null,
   "id": "428af907-4a34-4987-bca0-4d5f16d74ed7",
   "metadata": {},
   "outputs": [],
   "source": [
    "data9 = pd.read_excel('Frequencia de Alunos Green Life Academias - outubro de 2024.xlsx', sheet_name='MPE', skiprows=1, nrows=77)"
   ]
  },
  {
   "cell_type": "code",
   "execution_count": null,
   "id": "9dad8a1b-d7b2-49f3-ae9e-68a93b0ae130",
   "metadata": {},
   "outputs": [],
   "source": [
    "dataMPE = data9.copy()"
   ]
  },
  {
   "cell_type": "markdown",
   "id": "68be9f0b-7998-488c-bfbf-e194fc077e78",
   "metadata": {},
   "source": [
    "### 1 PASSO: Removendo colunas desnecessárias"
   ]
  },
  {
   "cell_type": "code",
   "execution_count": null,
   "id": "ccd297e8-2587-4e1a-8691-bb5f6979234a",
   "metadata": {},
   "outputs": [],
   "source": [
    "dataMPE.tail(3)"
   ]
  },
  {
   "cell_type": "code",
   "execution_count": null,
   "id": "9979f4b7-70a9-410f-89e7-efd581ebccb8",
   "metadata": {},
   "outputs": [],
   "source": [
    "dataMPE.iloc[-1]"
   ]
  },
  {
   "cell_type": "code",
   "execution_count": null,
   "id": "b6d718d8-1f46-420f-be35-6124df358c65",
   "metadata": {},
   "outputs": [],
   "source": [
    "dataMPE.columns"
   ]
  },
  {
   "cell_type": "code",
   "execution_count": null,
   "id": "7fd5911a-c3ae-431e-bf5c-508822caf54b",
   "metadata": {},
   "outputs": [],
   "source": [
    "dropColumns = ['Unnamed: 0', 'Unnamed: 1', 'Unnamed: 2', 'AUX 2', 'AUX 3', 'HORÁRIO']"
   ]
  },
  {
   "cell_type": "code",
   "execution_count": null,
   "id": "24455c72-d3bc-4ffb-b112-752981cf4b49",
   "metadata": {},
   "outputs": [],
   "source": [
    "dataMPE.drop(columns=dropColumns, inplace=True)"
   ]
  },
  {
   "cell_type": "markdown",
   "id": "835ef168-0c4b-4d52-859a-c97ad8fbff3b",
   "metadata": {},
   "source": [
    "- PRECISAMOS RENOMEAR A COLUNA AUX.1 COMO HORARIO"
   ]
  },
  {
   "cell_type": "code",
   "execution_count": null,
   "id": "c1cd8fbe-db66-424c-97b9-e1eeefa9314d",
   "metadata": {},
   "outputs": [],
   "source": [
    "dataMPE.rename(columns={'AUX.1': 'HORÁRIO'}, inplace=True)"
   ]
  },
  {
   "cell_type": "code",
   "execution_count": null,
   "id": "06911d51-15b3-49c2-8e01-4329bd6adf96",
   "metadata": {},
   "outputs": [],
   "source": [
    "dataMPE.head(2)"
   ]
  },
  {
   "cell_type": "markdown",
   "id": "c12388bb-1510-4603-9f4e-574d88970c00",
   "metadata": {},
   "source": [
    "### 2 PASSO: Renomeando strings de datas, para que o pandas possa aceitar como colunas"
   ]
  },
  {
   "cell_type": "code",
   "execution_count": null,
   "id": "234eda33-d6e3-47b0-9e5e-4001f475225a",
   "metadata": {},
   "outputs": [],
   "source": [
    "for columns in dataMPE.columns:\n",
    "    print(columns)"
   ]
  },
  {
   "cell_type": "code",
   "execution_count": null,
   "id": "cccf6cc2-305e-4b78-bc30-baeed98eeaa5",
   "metadata": {},
   "outputs": [],
   "source": [
    "dataMPE.columns = [\n",
    "'CATEGORIA',\n",
    "'MODALIDADE',\n",
    "'DIA DA SEMANA',\n",
    "'HORÁRIO',\n",
    "'TURNO',\n",
    "'PROFESSOR',\n",
    "'2024-10-01 00:00:00',\n",
    "'2024-10-02 00:00:00',\n",
    "'2024-10-03 00:00:00',\n",
    "'2024-10-04 00:00:00',\n",
    "'2024-10-07 00:00:00',\n",
    "'2024-10-08 00:00:00',\n",
    "'2024-10-09 00:00:00',\n",
    "'2024-10-10 00:00:00',\n",
    "'2024-10-11 00:00:00',\n",
    "'2024-10-14 00:00:00',\n",
    "'2024-10-15 00:00:00',\n",
    "'2024-10-16 00:00:00',\n",
    "'2024-10-17 00:00:00',\n",
    "'2024-10-18 00:00:00',\n",
    "'2024-10-21 00:00:00',\n",
    "'2024-10-22 00:00:00',\n",
    "'2024-10-23 00:00:00',\n",
    "'2024-10-24 00:00:00',\n",
    "'2024-10-25 00:00:00',\n",
    "'2024-10-28 00:00:00',\n",
    "'2024-10-29 00:00:00',\n",
    "'2024-10-30 00:00:00',\n",
    "'2024-10-31 00:00:00',\n",
    "'Aulas/mês',\n",
    "'Média',\n",
    "'Alunos/professor',\n",
    "'Ocupação Máxima',\n",
    "'Professor'\n",
    "]"
   ]
  },
  {
   "cell_type": "code",
   "execution_count": null,
   "id": "c9c1bfa5-9166-4ebb-a2c8-64a151a38c8d",
   "metadata": {},
   "outputs": [],
   "source": [
    "dataMPE.columns"
   ]
  },
  {
   "cell_type": "markdown",
   "id": "30025253-12e9-4a7a-a48e-651362421250",
   "metadata": {},
   "source": [
    "### PASSO 3: Escolhendo colunas com o nome de 'datas', para renomear pelo o tipo dia, mês e ano. e removendo os 00 de horas"
   ]
  },
  {
   "cell_type": "code",
   "execution_count": null,
   "id": "252aa052-419b-4c65-b0d9-864ce3c662a6",
   "metadata": {},
   "outputs": [],
   "source": [
    "colunas = [\n",
    "'2024-10-01 00:00:00',\n",
    "'2024-10-02 00:00:00',\n",
    "'2024-10-03 00:00:00',\n",
    "'2024-10-04 00:00:00',\n",
    "'2024-10-07 00:00:00',\n",
    "'2024-10-08 00:00:00',\n",
    "'2024-10-09 00:00:00',\n",
    "'2024-10-10 00:00:00',\n",
    "'2024-10-11 00:00:00',\n",
    "'2024-10-14 00:00:00',\n",
    "'2024-10-15 00:00:00',\n",
    "'2024-10-16 00:00:00',\n",
    "'2024-10-17 00:00:00',\n",
    "'2024-10-18 00:00:00',\n",
    "'2024-10-21 00:00:00',\n",
    "'2024-10-22 00:00:00',\n",
    "'2024-10-23 00:00:00',\n",
    "'2024-10-24 00:00:00',\n",
    "'2024-10-25 00:00:00',\n",
    "'2024-10-28 00:00:00',\n",
    "'2024-10-29 00:00:00',\n",
    "'2024-10-30 00:00:00',\n",
    "'2024-10-31 00:00:00',\n",
    "]"
   ]
  },
  {
   "cell_type": "code",
   "execution_count": null,
   "id": "0c17aba7-685f-4508-8761-c625adeb4fcf",
   "metadata": {},
   "outputs": [],
   "source": [
    "novas_colunas_MPE = []"
   ]
  },
  {
   "cell_type": "code",
   "execution_count": null,
   "id": "0ed67f71-c4d7-407b-8407-5c92ea450419",
   "metadata": {},
   "outputs": [],
   "source": [
    "for columns in colunas:\n",
    "    # Remove a parte da hora\n",
    "    data_sem_hora = columns.split(' ')[0]\n",
    "    \n",
    "    # Formata para o formato DD-MM-YYYY\n",
    "    ano, mes, dia = data_sem_hora.split('-')\n",
    "    novo_nome = f'{dia}-{mes}-{ano}'\n",
    "    novas_colunas_MPE.append(novo_nome)"
   ]
  },
  {
   "cell_type": "code",
   "execution_count": null,
   "id": "76c4b11f-fdb3-45b3-9644-973fbee36d1d",
   "metadata": {},
   "outputs": [],
   "source": [
    "novas_colunas_MPE"
   ]
  },
  {
   "cell_type": "markdown",
   "id": "a68620c8-1ff9-4331-87cb-b4bb23f59df9",
   "metadata": {},
   "source": [
    "### PASSO 4 renomeando colunas e acrescentando o novo formato "
   ]
  },
  {
   "cell_type": "markdown",
   "id": "b2069b69-89fa-4833-8eb0-0db52479a81c",
   "metadata": {},
   "source": [
    "copie as colunas que escolheu para renomear, e cole o formato novo no lugar das velhas"
   ]
  },
  {
   "cell_type": "code",
   "execution_count": null,
   "id": "fc2e6524-99e1-4606-87c7-929d41752125",
   "metadata": {},
   "outputs": [],
   "source": [
    "# Adicionando as datas formatadas as colunas, copiando e colando"
   ]
  },
  {
   "cell_type": "code",
   "execution_count": null,
   "id": "3c51cc7e-be96-4a4e-b7aa-2e5d6fe0f6db",
   "metadata": {},
   "outputs": [],
   "source": [
    "for columns in dataMPE.columns:\n",
    "    print (columns)"
   ]
  },
  {
   "cell_type": "code",
   "execution_count": null,
   "id": "7d5a43a3-f5ec-4c2a-ba20-3c8e50118714",
   "metadata": {},
   "outputs": [],
   "source": [
    "dataMPE.columns = [\n",
    "'CATEGORIA',\n",
    "'MODALIDADE',\n",
    "'DIA DA SEMANA',\n",
    "'HORÁRIO',\n",
    "'TURNO',\n",
    "'PROFESSOR',\n",
    "'01-10-2024',\n",
    "'02-10-2024',\n",
    "'03-10-2024',\n",
    "'04-10-2024',\n",
    "'07-10-2024',\n",
    "'08-10-2024',\n",
    "'09-10-2024',\n",
    "'10-10-2024',\n",
    "'11-10-2024',\n",
    "'14-10-2024',\n",
    "'15-10-2024',\n",
    "'16-10-2024',\n",
    "'17-10-2024',\n",
    "'18-10-2024',\n",
    "'21-10-2024',\n",
    "'22-10-2024',\n",
    "'23-10-2024',\n",
    "'24-10-2024',\n",
    "'25-10-2024',\n",
    "'28-10-2024',\n",
    "'29-10-2024',\n",
    "'30-10-2024',\n",
    "'31-10-2024',\n",
    "'Aulas/mês',\n",
    "'Média',\n",
    "'Alunos/professor',\n",
    "'Ocupação Máxima',\n",
    "'Professor'\n",
    "]"
   ]
  },
  {
   "cell_type": "markdown",
   "id": "0af9e70f-71fe-4e2f-8ee7-0a63b404db87",
   "metadata": {},
   "source": [
    "### 5 PASSO: Usar o Loop for para substitituir os valores das frequencia de 'x' e 'X' por zero, com o método do pd.to_numeric) "
   ]
  },
  {
   "cell_type": "code",
   "execution_count": null,
   "id": "ee2721f2-9964-4eba-98e3-814300e87b94",
   "metadata": {},
   "outputs": [],
   "source": [
    "colunas = [\n",
    "'01-10-2024',\n",
    "'02-10-2024',\n",
    "'03-10-2024',\n",
    "'04-10-2024',\n",
    "'07-10-2024',\n",
    "'08-10-2024',\n",
    "'09-10-2024',\n",
    "'10-10-2024',\n",
    "'11-10-2024',\n",
    "'14-10-2024',\n",
    "'15-10-2024',\n",
    "'16-10-2024',\n",
    "'17-10-2024',\n",
    "'18-10-2024',\n",
    "'21-10-2024',\n",
    "'22-10-2024',\n",
    "'23-10-2024',\n",
    "'24-10-2024',\n",
    "'25-10-2024',\n",
    "'28-10-2024',\n",
    "'29-10-2024',\n",
    "'30-10-2024',\n",
    "'31-10-2024'\n",
    "]"
   ]
  },
  {
   "cell_type": "markdown",
   "id": "af7111be-9418-43fe-bdbf-9367f1c79ede",
   "metadata": {},
   "source": [
    "Fazendo a limpeza profunda, formatando valores para numeros, preenchendo com zeros os nulos e transformando em inteiros"
   ]
  },
  {
   "cell_type": "code",
   "execution_count": null,
   "id": "6c60f26e-04b8-45ca-b97b-48c7274e56ca",
   "metadata": {},
   "outputs": [],
   "source": [
    "for columns in colunas:\n",
    "    # dataMES[columns] = pd.to_numeric(dataMES[columns], errors='coerce')\n",
    "    dataMPE[columns] = pd.to_numeric(dataMPE[columns], errors='coerce').fillna(0).astype(int)"
   ]
  },
  {
   "cell_type": "markdown",
   "id": "a6274c9e-c224-48f9-991a-f88e37d59958",
   "metadata": {},
   "source": [
    "### PASSO 6: MELT derretendo as colunas em formato de datas"
   ]
  },
  {
   "cell_type": "markdown",
   "id": "026d9403-2956-4ebe-9bed-a2ee790cdcc2",
   "metadata": {},
   "source": [
    "o MELT ele pega as colunas que estão na horizontal e cria uma coluna de categorias, e depois ele cria outra coluna com os valores dessas colunas que foram transformadas em dados categóricos"
   ]
  },
  {
   "cell_type": "code",
   "execution_count": null,
   "id": "037c7675-37b2-4191-af9b-7bc80a3de158",
   "metadata": {},
   "outputs": [],
   "source": [
    "colunas_para_melt = [\n",
    "'01-10-2024',\n",
    "'02-10-2024',\n",
    "'03-10-2024',\n",
    "'04-10-2024',\n",
    "'07-10-2024',\n",
    "'08-10-2024',\n",
    "'09-10-2024',\n",
    "'10-10-2024',\n",
    "'11-10-2024',\n",
    "'14-10-2024',\n",
    "'15-10-2024',\n",
    "'16-10-2024',\n",
    "'17-10-2024',\n",
    "'18-10-2024',\n",
    "'21-10-2024',\n",
    "'22-10-2024',\n",
    "'23-10-2024',\n",
    "'24-10-2024',\n",
    "'25-10-2024',\n",
    "'28-10-2024',\n",
    "'29-10-2024',\n",
    "'30-10-2024',\n",
    "'31-10-2024'\n",
    "]"
   ]
  },
  {
   "cell_type": "markdown",
   "id": "a1ccdb84-95ad-4ba2-8921-7c6b7ebcd9ec",
   "metadata": {},
   "source": [
    "#### Indentificando as colunas que Eu quero manter em meu dataframe"
   ]
  },
  {
   "cell_type": "code",
   "execution_count": null,
   "id": "f913b8ec-d91a-4e2d-af4f-cfe8fff735b3",
   "metadata": {},
   "outputs": [],
   "source": [
    "# Identifica as colunas que você quer manter como identificadoras (id_vars)\n",
    "# São as colunas que não serão \"unpivoted\"\n",
    "id_vars_cols = [columns for columns in dataMPE.columns if columns not in colunas_para_melt]"
   ]
  },
  {
   "cell_type": "code",
   "execution_count": null,
   "id": "4646691b-bff0-4100-b5a5-37b7f745d1c8",
   "metadata": {},
   "outputs": [],
   "source": [
    "dataMPE_melted = pd.melt(dataMPE,\n",
    "                      id_vars=id_vars_cols, #colunas que Eu deixei, que ficaram.\n",
    "                      value_vars=colunas_para_melt, #colunas que vão se transformar.\n",
    "                      var_name='Dias de Aulas', # nome da coluna categorica\n",
    "                      value_name='Frequencia de Alunos') # nome da coluna de valores"
   ]
  },
  {
   "cell_type": "code",
   "execution_count": null,
   "id": "a8aa274d-0083-43d9-969d-4873e83c5b43",
   "metadata": {},
   "outputs": [],
   "source": [
    "dataMPE_melted.head(2)"
   ]
  },
  {
   "cell_type": "code",
   "execution_count": null,
   "id": "20407cf2-fc31-4a6f-9f08-67f0fa3ea375",
   "metadata": {},
   "outputs": [],
   "source": [
    "dataMPE_melted['Frequencia de Alunos'].sum()"
   ]
  },
  {
   "cell_type": "markdown",
   "id": "1454e142-6bd6-4b90-b683-249d4cdd4e1c",
   "metadata": {},
   "source": [
    "# MARAPONGA [MAR] - PREPROCESSING 10"
   ]
  },
  {
   "cell_type": "code",
   "execution_count": null,
   "id": "a90a506c-4d35-46cc-9114-ff7bbed4d4c6",
   "metadata": {},
   "outputs": [],
   "source": [
    "data10 = pd.read_excel('Frequencia de Alunos Green Life Academias - outubro de 2024.xlsx', sheet_name='MAR', skiprows=1, nrows=86)"
   ]
  },
  {
   "cell_type": "code",
   "execution_count": null,
   "id": "34c515c8-43f3-4288-bc07-aca8c452d1ec",
   "metadata": {},
   "outputs": [],
   "source": [
    "dataMAR = data10.copy()"
   ]
  },
  {
   "cell_type": "markdown",
   "id": "28ce4492-2dc0-4b13-854c-7e583595688f",
   "metadata": {},
   "source": [
    "### 1 PASSO: Removendo colunas desnecessárias"
   ]
  },
  {
   "cell_type": "code",
   "execution_count": null,
   "id": "210a7736-27ae-4861-b935-b48f24c1bbb3",
   "metadata": {},
   "outputs": [],
   "source": [
    "dataMAR.tail(3)"
   ]
  },
  {
   "cell_type": "code",
   "execution_count": null,
   "id": "0f404dff-4584-4fcc-8fac-558547655519",
   "metadata": {},
   "outputs": [],
   "source": [
    "dataMAR.iloc[-1]"
   ]
  },
  {
   "cell_type": "code",
   "execution_count": null,
   "id": "d1bf5177-aa34-46af-8304-479000ed5109",
   "metadata": {},
   "outputs": [],
   "source": [
    "dropColumns = ['Unnamed: 0', 'Unnamed: 1', 'Unnamed: 2', 'AUX 2', 'AUX 3', 'HORÁRIO']   "
   ]
  },
  {
   "cell_type": "code",
   "execution_count": null,
   "id": "65544420-b383-4037-a61d-c61fe72677ee",
   "metadata": {},
   "outputs": [],
   "source": [
    "dataMAR.drop(columns=dropColumns, inplace=True)"
   ]
  },
  {
   "cell_type": "markdown",
   "id": "7681432d-223f-4ba0-90f1-c16d481b586c",
   "metadata": {},
   "source": [
    "- PRECISAMOS RENOMEAR A COLUNA AUX.1 COMO HORARIO"
   ]
  },
  {
   "cell_type": "code",
   "execution_count": null,
   "id": "0ba4927e-40c3-47f7-94dd-1833bc0c25cb",
   "metadata": {},
   "outputs": [],
   "source": [
    "dataMAR.rename(columns={'AUX.1': 'HORÁRIO'}, inplace=True) "
   ]
  },
  {
   "cell_type": "code",
   "execution_count": null,
   "id": "1960aeaa-8fd4-4749-9446-48451d02a0bf",
   "metadata": {},
   "outputs": [],
   "source": [
    "dataMAR.head(2)"
   ]
  },
  {
   "cell_type": "markdown",
   "id": "c8daca21-b982-4ac3-a468-2e4f0df949c2",
   "metadata": {},
   "source": [
    "### 2 PASSO: Renomeando strings de datas, para que o pandas possa aceitar como colunas"
   ]
  },
  {
   "cell_type": "code",
   "execution_count": null,
   "id": "3b2d7180-f74b-4aac-b010-edee2663143b",
   "metadata": {},
   "outputs": [],
   "source": [
    "for columns in dataMAR.columns:\n",
    "    print(columns)"
   ]
  },
  {
   "cell_type": "code",
   "execution_count": null,
   "id": "79556fe0-c035-4290-ba60-1714287f7367",
   "metadata": {},
   "outputs": [],
   "source": [
    "dataMAR.columns = [\n",
    "'CATEGORIA',\n",
    "'MODALIDADE',\n",
    "'DIA DA SEMANA',\n",
    "'HORÁRIO',\n",
    "'TURNO',\n",
    "'PROFESSOR',\n",
    "'2024-10-01 00:00:00',\n",
    "'2024-10-02 00:00:00',\n",
    "'2024-10-03 00:00:00',\n",
    "'2024-10-04 00:00:00',\n",
    "'2024-10-07 00:00:00',\n",
    "'2024-10-08 00:00:00',\n",
    "'2024-10-09 00:00:00',\n",
    "'2024-10-10 00:00:00',\n",
    "'2024-10-11 00:00:00',\n",
    "'2024-10-14 00:00:00',\n",
    "'2024-10-15 00:00:00',\n",
    "'2024-10-16 00:00:00',\n",
    "'2024-10-17 00:00:00',\n",
    "'2024-10-18 00:00:00',\n",
    "'2024-10-21 00:00:00',\n",
    "'2024-10-22 00:00:00',\n",
    "'2024-10-23 00:00:00',\n",
    "'2024-10-24 00:00:00',\n",
    "'2024-10-25 00:00:00',\n",
    "'2024-10-28 00:00:00',\n",
    "'2024-10-29 00:00:00',\n",
    "'2024-10-30 00:00:00',\n",
    "'2024-10-31 00:00:00',\n",
    "'Média alunos p/ professor',\n",
    "'Média',\n",
    "'Alunos/professor',\n",
    "'Ocupação Máxima',\n",
    "'Professor',\n",
    "]"
   ]
  },
  {
   "cell_type": "code",
   "execution_count": null,
   "id": "2e847c3c-1c7e-47ac-832b-095235f4ef01",
   "metadata": {},
   "outputs": [],
   "source": [
    "dataMAR.columns"
   ]
  },
  {
   "cell_type": "markdown",
   "id": "7dfc596a-5b4c-44a3-8602-80b5a8c494d6",
   "metadata": {},
   "source": [
    "### PASSO 3: Escolhendo colunas com o nome de 'datas', para renomear pelo o tipo dia, mês e ano. e removendo os 00 de horas"
   ]
  },
  {
   "cell_type": "code",
   "execution_count": null,
   "id": "6f27fd88-6a87-4d0a-a7c4-07b20a56e98c",
   "metadata": {},
   "outputs": [],
   "source": [
    "colunas = [\n",
    "'2024-10-01 00:00:00',\n",
    "'2024-10-02 00:00:00',\n",
    "'2024-10-03 00:00:00',\n",
    "'2024-10-04 00:00:00',\n",
    "'2024-10-07 00:00:00',\n",
    "'2024-10-08 00:00:00',\n",
    "'2024-10-09 00:00:00',\n",
    "'2024-10-10 00:00:00',\n",
    "'2024-10-11 00:00:00',\n",
    "'2024-10-14 00:00:00',\n",
    "'2024-10-15 00:00:00',\n",
    "'2024-10-16 00:00:00',\n",
    "'2024-10-17 00:00:00',\n",
    "'2024-10-18 00:00:00',\n",
    "'2024-10-21 00:00:00',\n",
    "'2024-10-22 00:00:00',\n",
    "'2024-10-23 00:00:00',\n",
    "'2024-10-24 00:00:00',\n",
    "'2024-10-25 00:00:00',\n",
    "'2024-10-28 00:00:00',\n",
    "'2024-10-29 00:00:00',\n",
    "'2024-10-30 00:00:00',\n",
    "'2024-10-31 00:00:00',\n",
    "]"
   ]
  },
  {
   "cell_type": "code",
   "execution_count": null,
   "id": "0ead7c07-2133-4ead-9cb8-30c0bf1ac2e9",
   "metadata": {},
   "outputs": [],
   "source": [
    "novas_colunas_MAR = []"
   ]
  },
  {
   "cell_type": "code",
   "execution_count": null,
   "id": "37b87a5e-cf7a-44ec-a73e-bf1b6afd8f20",
   "metadata": {},
   "outputs": [],
   "source": [
    "for columns in colunas:\n",
    "    # Remove a parte da hora\n",
    "    data_sem_hora = columns.split(' ')[0]\n",
    "    \n",
    "    # Formata para o formato DD-MM-YYYY\n",
    "    ano, mes, dia = data_sem_hora.split('-')\n",
    "    novo_nome = f'{dia}-{mes}-{ano}'\n",
    "    novas_colunas_MAR.append(novo_nome)"
   ]
  },
  {
   "cell_type": "code",
   "execution_count": null,
   "id": "d8728430-6b37-46f6-b753-3012f16b3d9c",
   "metadata": {},
   "outputs": [],
   "source": [
    "novas_colunas_MAR"
   ]
  },
  {
   "cell_type": "markdown",
   "id": "4ff0d392-c23e-47f2-a246-cef8a7f5e2ae",
   "metadata": {},
   "source": [
    "### PASSO 4 renomeando colunas e acrescentando o novo formato "
   ]
  },
  {
   "cell_type": "markdown",
   "id": "4d376d8a-8b01-4a34-9111-e9ff3af484d7",
   "metadata": {},
   "source": [
    "copie as colunas que escolheu para renomear, e cole o formato novo no lugar das velhas"
   ]
  },
  {
   "cell_type": "code",
   "execution_count": null,
   "id": "6fde1834-fd84-4f38-8ff1-4a576a6f39a2",
   "metadata": {},
   "outputs": [],
   "source": [
    "# Adicionando as datas formatadas as colunas, copiando e colando"
   ]
  },
  {
   "cell_type": "code",
   "execution_count": null,
   "id": "04638f70-5ce3-4740-a85b-1a88eee7a7d9",
   "metadata": {},
   "outputs": [],
   "source": [
    "for columns in dataMAR.columns:\n",
    "    print (columns)"
   ]
  },
  {
   "cell_type": "code",
   "execution_count": null,
   "id": "39b0b1ca-5d66-40b0-9523-064ebba0070e",
   "metadata": {},
   "outputs": [],
   "source": [
    "dataMAR.columns = [\n",
    "'CATEGORIA',\n",
    "'MODALIDADE',\n",
    "'DIA DA SEMANA',\n",
    "'HORÁRIO',\n",
    "'TURNO',\n",
    "'PROFESSOR',\n",
    "'01-10-2024',\n",
    "'02-10-2024',\n",
    "'03-10-2024',\n",
    "'04-10-2024',\n",
    "'07-10-2024',\n",
    "'08-10-2024',\n",
    "'09-10-2024',\n",
    "'10-10-2024',\n",
    "'11-10-2024',\n",
    "'14-10-2024',\n",
    "'15-10-2024',\n",
    "'16-10-2024',\n",
    "'17-10-2024',\n",
    "'18-10-2024',\n",
    "'21-10-2024',\n",
    "'22-10-2024',\n",
    "'23-10-2024',\n",
    "'24-10-2024',\n",
    "'25-10-2024',\n",
    "'28-10-2024',\n",
    "'29-10-2024',\n",
    "'30-10-2024',\n",
    "'31-10-2024',\n",
    "'Média alunos p/ professor',\n",
    "'Média',\n",
    "'Alunos/professor',\n",
    "'Ocupação Máxima',\n",
    "'Professor'\n",
    "]"
   ]
  },
  {
   "cell_type": "markdown",
   "id": "cd8a5b52-091b-408f-b0f0-fcadf206b279",
   "metadata": {},
   "source": [
    "### 5 PASSO: Usar o Loop for para substitituir os valores das frequencia de 'x' e 'X' por zero, com o método do pd.to_numeric) "
   ]
  },
  {
   "cell_type": "code",
   "execution_count": null,
   "id": "e2b6a51d-842f-44ea-b8b3-e7e6ee7883bf",
   "metadata": {},
   "outputs": [],
   "source": [
    "colunas = [\n",
    "'01-10-2024',\n",
    "'02-10-2024',\n",
    "'03-10-2024',\n",
    "'04-10-2024',\n",
    "'07-10-2024',\n",
    "'08-10-2024',\n",
    "'09-10-2024',\n",
    "'10-10-2024',\n",
    "'11-10-2024',\n",
    "'14-10-2024',\n",
    "'15-10-2024',\n",
    "'16-10-2024',\n",
    "'17-10-2024',\n",
    "'18-10-2024',\n",
    "'21-10-2024',\n",
    "'22-10-2024',\n",
    "'23-10-2024',\n",
    "'24-10-2024',\n",
    "'25-10-2024',\n",
    "'28-10-2024',\n",
    "'29-10-2024',\n",
    "'30-10-2024',\n",
    "'31-10-2024'\n",
    "]"
   ]
  },
  {
   "cell_type": "markdown",
   "id": "66776ee9-7cf8-4937-893d-88cd7072ad5f",
   "metadata": {},
   "source": [
    "Fazendo a limpeza profunda, formatando valores para numeros, preenchendo com zeros os nulos e transformando em inteiros"
   ]
  },
  {
   "cell_type": "code",
   "execution_count": null,
   "id": "5ab20093-a2aa-42fc-ac0b-c76af301f7de",
   "metadata": {},
   "outputs": [],
   "source": [
    "for columns in colunas:\n",
    "    # dataMES[columns] = pd.to_numeric(dataMES[columns], errors='coerce')\n",
    "    dataMAR[columns] = pd.to_numeric(dataMAR[columns], errors='coerce').fillna(0).astype(int)"
   ]
  },
  {
   "cell_type": "markdown",
   "id": "f93cbebd-04bb-4cfa-a06a-f6a8c623ecce",
   "metadata": {},
   "source": [
    "### PASSO 6: MELT derretendo as colunas em formato de datas"
   ]
  },
  {
   "cell_type": "markdown",
   "id": "b1e85dda-23d4-45cb-b916-a506db6b1474",
   "metadata": {},
   "source": [
    "o MELT ele pega as colunas que estão na horizontal e cria uma coluna de categorias, e depois ele cria outra coluna com os valores dessas colunas que foram transformadas em dados categóricos"
   ]
  },
  {
   "cell_type": "code",
   "execution_count": null,
   "id": "ce31849e-e2e1-4c63-babd-7a02f2c08027",
   "metadata": {},
   "outputs": [],
   "source": [
    "colunas_para_melt = [\n",
    "'01-10-2024',\n",
    "'02-10-2024',\n",
    "'03-10-2024',\n",
    "'04-10-2024',\n",
    "'07-10-2024',\n",
    "'08-10-2024',\n",
    "'09-10-2024',\n",
    "'10-10-2024',\n",
    "'11-10-2024',\n",
    "'14-10-2024',\n",
    "'15-10-2024',\n",
    "'16-10-2024',\n",
    "'17-10-2024',\n",
    "'18-10-2024',\n",
    "'21-10-2024',\n",
    "'22-10-2024',\n",
    "'23-10-2024',\n",
    "'24-10-2024',\n",
    "'25-10-2024',\n",
    "'28-10-2024',\n",
    "'29-10-2024',\n",
    "'30-10-2024',\n",
    "'31-10-2024'\n",
    "]"
   ]
  },
  {
   "cell_type": "markdown",
   "id": "3f7e9a15-5ae8-4a73-b88e-5417dfa924d9",
   "metadata": {},
   "source": [
    "#### Indentificando as colunas que Eu quero manter em meu dataframe"
   ]
  },
  {
   "cell_type": "code",
   "execution_count": null,
   "id": "af4046cf-771c-4663-9ee0-6272c0bc5149",
   "metadata": {},
   "outputs": [],
   "source": [
    "# Identifica as colunas que você quer manter como identificadoras (id_vars)\n",
    "# São as colunas que não serão \"unpivoted\"\n",
    "id_vars_cols = [columns for columns in dataMAR.columns if columns not in colunas_para_melt]"
   ]
  },
  {
   "cell_type": "code",
   "execution_count": null,
   "id": "740a299f-cbed-4911-8637-b43ec2da943e",
   "metadata": {},
   "outputs": [],
   "source": [
    "dataMAR_melted = pd.melt(dataMAR,\n",
    "                      id_vars=id_vars_cols, #colunas que Eu deixei, que ficaram.\n",
    "                      value_vars=colunas_para_melt, #colunas que vão se transformar.\n",
    "                      var_name='Dias de Aulas', # nome da coluna categorica\n",
    "                      value_name='Frequencia de Alunos') # nome da coluna de valores"
   ]
  },
  {
   "cell_type": "code",
   "execution_count": null,
   "id": "dafd7345-4f4b-48a0-abd8-dc2cfd172e13",
   "metadata": {},
   "outputs": [],
   "source": [
    "dataMAR_melted.head(2)"
   ]
  },
  {
   "cell_type": "code",
   "execution_count": null,
   "id": "a95125fa-5f84-47ff-84f9-6e781c14fd45",
   "metadata": {},
   "outputs": [],
   "source": [
    "dataMAR_melted['Frequencia de Alunos'].sum()"
   ]
  },
  {
   "cell_type": "markdown",
   "id": "ef54b813-11b2-4165-a044-544b55c60a78",
   "metadata": {},
   "source": [
    "# SUL [SUL] - PREPROCESSING 11"
   ]
  },
  {
   "cell_type": "code",
   "execution_count": null,
   "id": "ef5c8c83-c602-4200-b0fa-4e153037d716",
   "metadata": {},
   "outputs": [],
   "source": [
    "data11 = pd.read_excel('Frequencia de Alunos Green Life Academias - outubro de 2024.xlsx', sheet_name='SUL', skiprows=1, nrows=110)"
   ]
  },
  {
   "cell_type": "code",
   "execution_count": null,
   "id": "60736a25-c9a8-4ab6-b4a0-545aa2d35ac4",
   "metadata": {},
   "outputs": [],
   "source": [
    "dataSUL = data11.copy()"
   ]
  },
  {
   "cell_type": "markdown",
   "id": "39db6959-0158-46da-8034-04cb705ea12e",
   "metadata": {},
   "source": [
    "### 1 PASSO: Removendo colunas desnecessárias"
   ]
  },
  {
   "cell_type": "code",
   "execution_count": null,
   "id": "7d47efe5-cb50-497b-a09b-14e09fc58ab3",
   "metadata": {},
   "outputs": [],
   "source": [
    "dataSUL.tail(2)"
   ]
  },
  {
   "cell_type": "code",
   "execution_count": null,
   "id": "652c5a34-18b4-4018-9756-383520a0331c",
   "metadata": {},
   "outputs": [],
   "source": [
    "dataSUL.iloc[-1]"
   ]
  },
  {
   "cell_type": "code",
   "execution_count": null,
   "id": "6953782f-d688-4985-9d91-38d2b7b9cf4e",
   "metadata": {},
   "outputs": [],
   "source": [
    "dataSUL.iloc[0]"
   ]
  },
  {
   "cell_type": "code",
   "execution_count": null,
   "id": "2a46382f-bdc0-4a43-9a80-1dcd2121885d",
   "metadata": {},
   "outputs": [],
   "source": [
    "dropColumns = ['Unnamed: 0' , 'Unnamed: 1', 'Unnamed: 2', 'Unnamed: 40',\n",
    "               'HORÁRIO', 'AUX 2', 'AUX 3']"
   ]
  },
  {
   "cell_type": "code",
   "execution_count": null,
   "id": "44cc3378-05b1-49d1-9f3e-d6dc627bf82f",
   "metadata": {},
   "outputs": [],
   "source": [
    "dataSUL.drop(columns=dropColumns, inplace=True)"
   ]
  },
  {
   "cell_type": "markdown",
   "id": "efbe09b1-ac5e-41fb-b3ec-153c6f81ffa2",
   "metadata": {},
   "source": [
    "- PRECISAMOS RENOMEAR A COLUNA AUX.1 COMO HORARIO"
   ]
  },
  {
   "cell_type": "code",
   "execution_count": null,
   "id": "eff114f7-c4e7-43d7-9f6b-15d63189c37f",
   "metadata": {},
   "outputs": [],
   "source": [
    "dataSUL.rename(columns={'AUX.1': 'HORÁRIO'}, inplace=True)"
   ]
  },
  {
   "cell_type": "markdown",
   "id": "d4c73b8d-0877-4e91-a0b2-e3a6fa8ec129",
   "metadata": {},
   "source": [
    "### 2 PASSO: Renomeando strings de datas, para que o pandas possa aceitar como colunas"
   ]
  },
  {
   "cell_type": "code",
   "execution_count": null,
   "id": "c79c8479-b73a-4798-8b03-f67661522507",
   "metadata": {},
   "outputs": [],
   "source": [
    "for columns in dataSUL.columns:\n",
    "    print(columns)"
   ]
  },
  {
   "cell_type": "code",
   "execution_count": null,
   "id": "98d907c7-fb3a-45c7-9a6e-0fbdc13a024a",
   "metadata": {},
   "outputs": [],
   "source": [
    "dataSUL.columns = [\n",
    "'CATEGORIA',\n",
    "'MODALIDADE',\n",
    "'DIA DA SEMANA',\n",
    "'HORÁRIO',\n",
    "'TURNO',\n",
    "'PROFESSOR',\n",
    "'2024-10-01 00:00:00',\n",
    "'2024-10-02 00:00:00',\n",
    "'2024-10-03 00:00:00',\n",
    "'2024-10-04 00:00:00',\n",
    "'2024-10-07 00:00:00',\n",
    "'2024-10-08 00:00:00',\n",
    "'2024-10-09 00:00:00',\n",
    "'2024-10-10 00:00:00',\n",
    "'2024-10-11 00:00:00',\n",
    "'2024-10-14 00:00:00',\n",
    "'2024-10-15 00:00:00',\n",
    "'2024-10-16 00:00:00',\n",
    "'2024-10-17 00:00:00',\n",
    "'2024-10-18 00:00:00',\n",
    "'2024-10-21 00:00:00',\n",
    "'2024-10-22 00:00:00',\n",
    "'2024-10-23 00:00:00',\n",
    "'2024-10-24 00:00:00',\n",
    "'2024-10-25 00:00:00',\n",
    "'2024-10-28 00:00:00',\n",
    "'2024-10-29 00:00:00',\n",
    "'2024-10-30 00:00:00',\n",
    "'2024-10-31 00:00:00',\n",
    "'Média alunos p/ professor',\n",
    "'Média',\n",
    "'Alunos/professor',\n",
    "'Ocupação Máxima',\n",
    "'Professor'\n",
    "]"
   ]
  },
  {
   "cell_type": "code",
   "execution_count": null,
   "id": "8834a11c-41a4-4d53-88b3-bd63d2137dbb",
   "metadata": {},
   "outputs": [],
   "source": [
    "dataSUL.columns"
   ]
  },
  {
   "cell_type": "code",
   "execution_count": null,
   "id": "7695777c-4708-414c-b75f-631dea359d72",
   "metadata": {},
   "outputs": [],
   "source": [
    "colunas = [\n",
    "'2024-10-01 00:00:00',\n",
    "'2024-10-02 00:00:00',\n",
    "'2024-10-03 00:00:00',\n",
    "'2024-10-04 00:00:00',\n",
    "'2024-10-07 00:00:00',\n",
    "'2024-10-08 00:00:00',\n",
    "'2024-10-09 00:00:00',\n",
    "'2024-10-10 00:00:00',\n",
    "'2024-10-11 00:00:00',\n",
    "'2024-10-14 00:00:00',\n",
    "'2024-10-15 00:00:00',\n",
    "'2024-10-16 00:00:00',\n",
    "'2024-10-17 00:00:00',\n",
    "'2024-10-18 00:00:00',\n",
    "'2024-10-21 00:00:00',\n",
    "'2024-10-22 00:00:00',\n",
    "'2024-10-23 00:00:00',\n",
    "'2024-10-24 00:00:00',\n",
    "'2024-10-25 00:00:00',\n",
    "'2024-10-28 00:00:00',\n",
    "'2024-10-29 00:00:00',\n",
    "'2024-10-30 00:00:00',\n",
    "'2024-10-31 00:00:00',\n",
    "]"
   ]
  },
  {
   "cell_type": "code",
   "execution_count": null,
   "id": "63ebb360-29f7-4e28-913a-d6981c77080b",
   "metadata": {},
   "outputs": [],
   "source": [
    "novas_colunas_SUL = []"
   ]
  },
  {
   "cell_type": "code",
   "execution_count": null,
   "id": "654e2034-b903-47f4-ac1a-4b9997074719",
   "metadata": {},
   "outputs": [],
   "source": [
    "for columns in colunas:\n",
    "    # Remove a parte da hora\n",
    "    data_sem_hora = columns.split(' ')[0]\n",
    "    \n",
    "    # Formata para o formato DD-MM-YYYY\n",
    "    ano, mes, dia = data_sem_hora.split('-')\n",
    "    novo_nome = f'{dia}-{mes}-{ano}'\n",
    "    novas_colunas_SUL.append(novo_nome)"
   ]
  },
  {
   "cell_type": "code",
   "execution_count": null,
   "id": "6dc7c337-e432-4e09-8aa0-7c735c9bd034",
   "metadata": {},
   "outputs": [],
   "source": [
    "novas_colunas_SUL"
   ]
  },
  {
   "cell_type": "markdown",
   "id": "87228fb7-b386-4520-b487-54ab727c3bc3",
   "metadata": {},
   "source": [
    "### PASSO 4 renomeando colunas e acrescentando o novo formato "
   ]
  },
  {
   "cell_type": "markdown",
   "id": "b74e7efd-3c38-4239-af94-c5863b0353a6",
   "metadata": {},
   "source": [
    "copie as colunas que escolheu para renomear, e cole o formato novo no lugar das velhas"
   ]
  },
  {
   "cell_type": "code",
   "execution_count": null,
   "id": "494aca86-eea0-49d0-9f82-10b7c3f6e561",
   "metadata": {},
   "outputs": [],
   "source": [
    "# Adicionando as datas formatadas as colunas, copiando e colando"
   ]
  },
  {
   "cell_type": "code",
   "execution_count": null,
   "id": "d5747728-4a6f-43b8-8b22-45c940b1435e",
   "metadata": {},
   "outputs": [],
   "source": [
    "for columns in dataSUL.columns:\n",
    "    print (columns)"
   ]
  },
  {
   "cell_type": "code",
   "execution_count": null,
   "id": "a510990e-1b6a-430f-8a8e-ff0884eef0d6",
   "metadata": {},
   "outputs": [],
   "source": [
    "dataSUL.columns = [\n",
    "'CATEGORIA',\n",
    "'MODALIDADE',\n",
    "'DIA DA SEMANA',\n",
    "'HORÁRIO',\n",
    "'TURNO',\n",
    "'PROFESSOR',\n",
    "'01-10-2024',\n",
    "'02-10-2024',\n",
    "'03-10-2024',\n",
    "'04-10-2024',\n",
    "'07-10-2024',\n",
    "'08-10-2024',\n",
    "'09-10-2024',\n",
    "'10-10-2024',\n",
    "'11-10-2024',\n",
    "'14-10-2024',\n",
    "'15-10-2024',\n",
    "'16-10-2024',\n",
    "'17-10-2024',\n",
    "'18-10-2024',\n",
    "'21-10-2024',\n",
    "'22-10-2024',\n",
    "'23-10-2024',\n",
    "'24-10-2024',\n",
    "'25-10-2024',\n",
    "'28-10-2024',\n",
    "'29-10-2024',\n",
    "'30-10-2024',\n",
    "'31-10-2024',\n",
    "'Média alunos p/ professor',\n",
    "'Média',\n",
    "'Alunos/professor',\n",
    "'Ocupação Máxima',\n",
    "'Professor',\n",
    "]"
   ]
  },
  {
   "cell_type": "markdown",
   "id": "8e42a6fc-96e6-4a36-8154-f543ae5d1dd3",
   "metadata": {},
   "source": [
    "### 5 PASSO: Usar o Loop for para substitituir os valores das frequencia de 'x' e 'X' por zero, com o método do pd.to_numeric) "
   ]
  },
  {
   "cell_type": "code",
   "execution_count": null,
   "id": "6f2390ab-5833-4ecd-bf03-072881e3b7f6",
   "metadata": {},
   "outputs": [],
   "source": [
    "colunas = [\n",
    "'01-10-2024',\n",
    "'02-10-2024',\n",
    "'03-10-2024',\n",
    "'04-10-2024',\n",
    "'07-10-2024',\n",
    "'08-10-2024',\n",
    "'09-10-2024',\n",
    "'10-10-2024',\n",
    "'11-10-2024',\n",
    "'14-10-2024',\n",
    "'15-10-2024',\n",
    "'16-10-2024',\n",
    "'17-10-2024',\n",
    "'18-10-2024',\n",
    "'21-10-2024',\n",
    "'22-10-2024',\n",
    "'23-10-2024',\n",
    "'24-10-2024',\n",
    "'25-10-2024',\n",
    "'28-10-2024',\n",
    "'29-10-2024',\n",
    "'30-10-2024',\n",
    "'31-10-2024',\n",
    "]"
   ]
  },
  {
   "cell_type": "markdown",
   "id": "13200922-80c3-4cd0-b467-5ec95fdd5e81",
   "metadata": {},
   "source": [
    "Fazendo a limpeza profunda, formatando valores para numeros, preenchendo com zeros os nulos e transformando em inteiros"
   ]
  },
  {
   "cell_type": "code",
   "execution_count": null,
   "id": "c6b742bc-c460-4d4c-a34f-32a3ba6460dc",
   "metadata": {},
   "outputs": [],
   "source": [
    "for columns in colunas:\n",
    "    # dataMES[columns] = pd.to_numeric(dataMES[columns], errors='coerce')\n",
    "    dataSUL[columns] = pd.to_numeric(dataSUL[columns], errors='coerce').fillna(0).astype(int)"
   ]
  },
  {
   "cell_type": "markdown",
   "id": "e9441a64-62d2-4a1e-9b0b-d0d82567437a",
   "metadata": {},
   "source": [
    "### PASSO 6: MELT derretendo as colunas em formato de datas"
   ]
  },
  {
   "cell_type": "markdown",
   "id": "4c37bb8d-0f2c-4abd-919b-16a8054a6f1a",
   "metadata": {},
   "source": [
    "o MELT ele pega as colunas que estão na horizontal e cria uma coluna de categorias, e depois ele cria outra coluna com os valores dessas colunas que foram transformadas em dados categóricos"
   ]
  },
  {
   "cell_type": "code",
   "execution_count": null,
   "id": "0ae0c93f-86a1-41b4-93b3-b2fa704c6d45",
   "metadata": {},
   "outputs": [],
   "source": [
    "colunas_para_melt = [\n",
    "'01-10-2024',\n",
    "'02-10-2024',\n",
    "'03-10-2024',\n",
    "'04-10-2024',\n",
    "'07-10-2024',\n",
    "'08-10-2024',\n",
    "'09-10-2024',\n",
    "'10-10-2024',\n",
    "'11-10-2024',\n",
    "'14-10-2024',\n",
    "'15-10-2024',\n",
    "'16-10-2024',\n",
    "'17-10-2024',\n",
    "'18-10-2024',\n",
    "'21-10-2024',\n",
    "'22-10-2024',\n",
    "'23-10-2024',\n",
    "'24-10-2024',\n",
    "'25-10-2024',\n",
    "'28-10-2024',\n",
    "'29-10-2024',\n",
    "'30-10-2024',\n",
    "'31-10-2024',\n",
    "]"
   ]
  },
  {
   "cell_type": "markdown",
   "id": "9d566f92-c311-4b4d-a08e-8118d194e78c",
   "metadata": {},
   "source": [
    "#### Indentificando as colunas que Eu quero manter em meu dataframe"
   ]
  },
  {
   "cell_type": "code",
   "execution_count": null,
   "id": "9f929b9a-8fef-49b3-9587-6c85091904e6",
   "metadata": {},
   "outputs": [],
   "source": [
    "# Identifica as colunas que você quer manter como identificadoras (id_vars)\n",
    "# São as colunas que não serão \"unpivoted\"\n",
    "id_vars_cols = [columns for columns in dataSUL.columns if columns not in colunas_para_melt]"
   ]
  },
  {
   "cell_type": "code",
   "execution_count": null,
   "id": "c8bd3a95-7d99-41d3-a586-cd8edaa15825",
   "metadata": {},
   "outputs": [],
   "source": [
    "dataSUL_melted = pd.melt(dataSUL,\n",
    "                      id_vars=id_vars_cols, #colunas que Eu deixei, que ficaram.\n",
    "                      value_vars=colunas_para_melt, #colunas que vão se transformar.\n",
    "                      var_name='Dias de Aulas', # nome da coluna categorica\n",
    "                      value_name='Frequencia de Alunos') # nome da coluna de valores"
   ]
  },
  {
   "cell_type": "code",
   "execution_count": null,
   "id": "1ada7234-9473-40d0-abe4-f4f9f9e9f297",
   "metadata": {},
   "outputs": [],
   "source": [
    "dataSUL_melted.head(2)"
   ]
  },
  {
   "cell_type": "code",
   "execution_count": null,
   "id": "9f2baba1-a305-487d-af0b-841913e62213",
   "metadata": {},
   "outputs": [],
   "source": [
    "dataSUL_melted['Frequencia de Alunos'].sum()"
   ]
  },
  {
   "cell_type": "markdown",
   "id": "94f6b094-2f9f-4ae7-9120-5d045990b584",
   "metadata": {
    "tags": []
   },
   "source": [
    "# RUI BARBOSA [RUI] - PREPROCESSING 12"
   ]
  },
  {
   "cell_type": "code",
   "execution_count": null,
   "id": "b8051bed-5d61-4692-8304-2fd048eb2b7d",
   "metadata": {},
   "outputs": [],
   "source": [
    "data12 = pd.read_excel('Frequencia de Alunos Green Life Academias - outubro de 2024.xlsx', sheet_name='RUI', skiprows=1, nrows=88)"
   ]
  },
  {
   "cell_type": "code",
   "execution_count": null,
   "id": "b63f8c8e-e3e7-4339-b7c2-d344fd1fcd43",
   "metadata": {},
   "outputs": [],
   "source": [
    "dataRUI = data12.copy()"
   ]
  },
  {
   "cell_type": "markdown",
   "id": "6a71630d-9137-40e9-a588-f3ff7e3f93b9",
   "metadata": {},
   "source": [
    "### 1 PASSO: Removendo colunas desnecessárias"
   ]
  },
  {
   "cell_type": "code",
   "execution_count": null,
   "id": "ee95a500-7e54-4fca-a291-d084a38b8a6e",
   "metadata": {},
   "outputs": [],
   "source": [
    "dataRUI.head(2)"
   ]
  },
  {
   "cell_type": "code",
   "execution_count": null,
   "id": "4d8f73fe-4a11-4b2f-873a-2a11b9fdf5e5",
   "metadata": {},
   "outputs": [],
   "source": [
    "dataRUI.iloc[0]"
   ]
  },
  {
   "cell_type": "code",
   "execution_count": null,
   "id": "07cfc068-58e1-4a5e-9c64-119d29938145",
   "metadata": {},
   "outputs": [],
   "source": [
    "dataRUI.iloc[-1]"
   ]
  },
  {
   "cell_type": "code",
   "execution_count": null,
   "id": "c9ea1f22-45c2-49b6-bbaf-7fb28b9fdacf",
   "metadata": {},
   "outputs": [],
   "source": [
    "dropColumns = ['Unnamed: 0', 'Unnamed: 1', 'Unnamed: 2', 'AUX 2',\n",
    "               'AUX 3', 'HORÁRIO']"
   ]
  },
  {
   "cell_type": "code",
   "execution_count": null,
   "id": "8ef36fb9-c9eb-4908-87d8-ccc6597b72eb",
   "metadata": {},
   "outputs": [],
   "source": [
    "dataRUI.drop(columns=dropColumns, inplace=True)"
   ]
  },
  {
   "cell_type": "markdown",
   "id": "dbf99fd3-d110-4132-bd2d-d5addfad5f93",
   "metadata": {},
   "source": [
    "- PRECISAMOS RENOMEAR A COLUNA AUX.1 COMO HORARIO"
   ]
  },
  {
   "cell_type": "code",
   "execution_count": null,
   "id": "67580531-0a1a-4ea2-a24b-e8852739ceb0",
   "metadata": {},
   "outputs": [],
   "source": [
    "dataRUI.rename(columns={'AUX.1': 'HORÁRIO'}, inplace=True)"
   ]
  },
  {
   "cell_type": "markdown",
   "id": "ce8410c2-d07b-4d78-9c85-72d441aac201",
   "metadata": {},
   "source": [
    "### 2 PASSO: Renomeando strings de datas, para que o pandas possa aceitar como colunas"
   ]
  },
  {
   "cell_type": "code",
   "execution_count": null,
   "id": "8bd01326-18f7-4c71-80f2-79e5ce0f22ce",
   "metadata": {},
   "outputs": [],
   "source": [
    "for columns in dataRUI.columns:\n",
    "    print(columns)"
   ]
  },
  {
   "cell_type": "code",
   "execution_count": null,
   "id": "819ced85-36f5-409a-9462-f1a7c2e87616",
   "metadata": {},
   "outputs": [],
   "source": [
    "dataRUI.columns=[\n",
    "'CATEGORIA',\n",
    "'MODALIDADE',\n",
    "'DIA DA SEMANA',\n",
    "'HORÁRIO',\n",
    "'TURNO',\n",
    "'PROFESSOR',\n",
    "'2024-10-01 00:00:00',\n",
    "'2024-10-02 00:00:00',\n",
    "'2024-10-03 00:00:00',\n",
    "'2024-10-04 00:00:00',\n",
    "'2024-10-07 00:00:00',\n",
    "'2024-10-08 00:00:00',\n",
    "'2024-10-09 00:00:00',\n",
    "'2024-10-10 00:00:00',\n",
    "'2024-10-11 00:00:00',\n",
    "'2024-10-14 00:00:00',\n",
    "'2024-10-15 00:00:00',\n",
    "'2024-10-16 00:00:00',\n",
    "'2024-10-17 00:00:00',\n",
    "'2024-10-18 00:00:00',\n",
    "'2024-10-21 00:00:00',\n",
    "'2024-10-22 00:00:00',\n",
    "'2024-10-23 00:00:00',\n",
    "'2024-10-24 00:00:00',\n",
    "'2024-10-25 00:00:00',\n",
    "'2024-10-28 00:00:00',\n",
    "'2024-10-29 00:00:00',\n",
    "'2024-10-30 00:00:00',\n",
    "'2024-10-31 00:00:00',\n",
    "'Média alunos p/ professor',\n",
    "'Média',\n",
    "'Alunos/professor',\n",
    "'Ocupação Máxima',\n",
    "'Professor',\n",
    "]"
   ]
  },
  {
   "cell_type": "code",
   "execution_count": null,
   "id": "f58a5cec-47d2-4a0d-8e87-7419e55d362f",
   "metadata": {},
   "outputs": [],
   "source": [
    "dataRUI.columns"
   ]
  },
  {
   "cell_type": "markdown",
   "id": "4cf708f7-0e2f-49e2-bf0f-d9a5ef9255a5",
   "metadata": {},
   "source": [
    "### PASSO 3: Escolhendo colunas com o nome de 'datas', para renomear pelo o tipo dia, mês e ano. e removendo os 00 de horas"
   ]
  },
  {
   "cell_type": "code",
   "execution_count": null,
   "id": "e541b703-b6de-43ca-9623-8e2e8ca2e13d",
   "metadata": {},
   "outputs": [],
   "source": [
    "colunas = [\n",
    "'2024-10-01 00:00:00',\n",
    "'2024-10-02 00:00:00',\n",
    "'2024-10-03 00:00:00',\n",
    "'2024-10-04 00:00:00',\n",
    "'2024-10-07 00:00:00',\n",
    "'2024-10-08 00:00:00',\n",
    "'2024-10-09 00:00:00',\n",
    "'2024-10-10 00:00:00',\n",
    "'2024-10-11 00:00:00',\n",
    "'2024-10-14 00:00:00',\n",
    "'2024-10-15 00:00:00',\n",
    "'2024-10-16 00:00:00',\n",
    "'2024-10-17 00:00:00',\n",
    "'2024-10-18 00:00:00',\n",
    "'2024-10-21 00:00:00',\n",
    "'2024-10-22 00:00:00',\n",
    "'2024-10-23 00:00:00',\n",
    "'2024-10-24 00:00:00',\n",
    "'2024-10-25 00:00:00',\n",
    "'2024-10-28 00:00:00',\n",
    "'2024-10-29 00:00:00',\n",
    "'2024-10-30 00:00:00',\n",
    "'2024-10-31 00:00:00',\n",
    "]\n"
   ]
  },
  {
   "cell_type": "code",
   "execution_count": null,
   "id": "a5300ca5-10ba-413c-8836-9898850b6a40",
   "metadata": {},
   "outputs": [],
   "source": [
    "novas_colunas_RUI = []"
   ]
  },
  {
   "cell_type": "code",
   "execution_count": null,
   "id": "674a1c68-4ac5-473a-838a-34fa1670412b",
   "metadata": {},
   "outputs": [],
   "source": [
    "for columns in colunas:\n",
    "    # Remove a parte da hora\n",
    "    data_sem_hora = columns.split(' ')[0]\n",
    "    \n",
    "    # Formata para o formato DD-MM-YYYY\n",
    "    ano, mes, dia = data_sem_hora.split('-')\n",
    "    novo_nome = f'{dia}-{mes}-{ano}'\n",
    "    novas_colunas_RUI.append(novo_nome)"
   ]
  },
  {
   "cell_type": "code",
   "execution_count": null,
   "id": "3d27b139-3e10-47ff-a68d-8fd27f336a81",
   "metadata": {},
   "outputs": [],
   "source": [
    "novas_colunas_RUI"
   ]
  },
  {
   "cell_type": "markdown",
   "id": "a11c3d32-20aa-4875-95ae-9dde460e4898",
   "metadata": {},
   "source": [
    "### PASSO 4 renomeando colunas e acrescentando o novo formato "
   ]
  },
  {
   "cell_type": "markdown",
   "id": "6193652a-629e-42eb-90e6-91dc1802852a",
   "metadata": {},
   "source": [
    "copie as colunas que escolheu para renomear, e cole o formato novo no lugar das velhas"
   ]
  },
  {
   "cell_type": "code",
   "execution_count": null,
   "id": "e2967f6e-e8bc-44c8-b058-97f3cee30906",
   "metadata": {},
   "outputs": [],
   "source": [
    "# Adicionando as datas formatadas as colunas, copiando e colando"
   ]
  },
  {
   "cell_type": "code",
   "execution_count": null,
   "id": "64c3736f-8090-4063-a0c0-3a9a52dced32",
   "metadata": {},
   "outputs": [],
   "source": [
    "for columns in dataRUI.columns:\n",
    "    print (columns)"
   ]
  },
  {
   "cell_type": "code",
   "execution_count": null,
   "id": "1421d029-0a62-4227-b904-511a90b87260",
   "metadata": {},
   "outputs": [],
   "source": [
    "dataRUI.columns = [\n",
    "'CATEGORIA',\n",
    "'MODALIDADE',\n",
    "'DIA DA SEMANA',\n",
    "'HORÁRIO',\n",
    "'TURNO',\n",
    "'PROFESSOR',\n",
    "'01-10-2024',\n",
    "'02-10-2024',\n",
    "'03-10-2024',\n",
    "'04-10-2024',\n",
    "'07-10-2024',\n",
    "'08-10-2024',\n",
    "'09-10-2024',\n",
    "'10-10-2024',\n",
    "'11-10-2024',\n",
    "'14-10-2024',\n",
    "'15-10-2024',\n",
    "'16-10-2024',\n",
    "'17-10-2024',\n",
    "'18-10-2024',\n",
    "'21-10-2024',\n",
    "'22-10-2024',\n",
    "'23-10-2024',\n",
    "'24-10-2024',\n",
    "'25-10-2024',\n",
    "'28-10-2024',\n",
    "'29-10-2024',\n",
    "'30-10-2024',\n",
    "'31-10-2024',\n",
    "'Média alunos p/ professor',\n",
    "'Média',\n",
    "'Alunos/professor',\n",
    "'Ocupação Máxima',\n",
    "'Professor'\n",
    "]"
   ]
  },
  {
   "cell_type": "markdown",
   "id": "1b64dfa6-232c-4948-81fb-0fc3b8d2c60f",
   "metadata": {},
   "source": [
    "### 5 PASSO: Usar o Loop for para substitituir os valores das frequencia de 'x' e 'X' por zero, com o método do pd.to_numeric) "
   ]
  },
  {
   "cell_type": "code",
   "execution_count": null,
   "id": "67ca2212-4613-4108-ade7-7b3d4e6962d8",
   "metadata": {},
   "outputs": [],
   "source": [
    "colunas = [\n",
    "'01-10-2024',\n",
    "'02-10-2024',\n",
    "'03-10-2024',\n",
    "'04-10-2024',\n",
    "'07-10-2024',\n",
    "'08-10-2024',\n",
    "'09-10-2024',\n",
    "'10-10-2024',\n",
    "'11-10-2024',\n",
    "'14-10-2024',\n",
    "'15-10-2024',\n",
    "'16-10-2024',\n",
    "'17-10-2024',\n",
    "'18-10-2024',\n",
    "'21-10-2024',\n",
    "'22-10-2024',\n",
    "'23-10-2024',\n",
    "'24-10-2024',\n",
    "'25-10-2024',\n",
    "'28-10-2024',\n",
    "'29-10-2024',\n",
    "'30-10-2024',\n",
    "'31-10-2024',\n",
    "]"
   ]
  },
  {
   "cell_type": "markdown",
   "id": "6e4881bd-49ec-4d0d-bfc8-8ee71e129d80",
   "metadata": {},
   "source": [
    "Fazendo a limpeza profunda, formatando valores para numeros, preenchendo com zeros os nulos e transformando em inteiros"
   ]
  },
  {
   "cell_type": "code",
   "execution_count": null,
   "id": "a5366c49-5102-4f48-8386-da9be49b10b4",
   "metadata": {},
   "outputs": [],
   "source": [
    "for columns in colunas:\n",
    "    # dataMES[columns] = pd.to_numeric(dataMES[columns], errors='coerce')\n",
    "    dataRUI[columns] = pd.to_numeric(dataRUI[columns], errors='coerce').fillna(0).astype(int)"
   ]
  },
  {
   "cell_type": "markdown",
   "id": "4d0ec9eb-f417-4ff1-a47e-9c0f0632b4b5",
   "metadata": {},
   "source": [
    "### PASSO 6: MELT derretendo as colunas em formato de datas"
   ]
  },
  {
   "cell_type": "markdown",
   "id": "bc5e9170-400a-4f6e-a7aa-8783486f5d8d",
   "metadata": {},
   "source": [
    "o MELT ele pega as colunas que estão na horizontal e cria uma coluna de categorias, e depois ele cria outra coluna com os valores dessas colunas que foram transformadas em dados categóricos"
   ]
  },
  {
   "cell_type": "code",
   "execution_count": null,
   "id": "88194eec-c6f4-49a4-a15f-b5ef53ae301d",
   "metadata": {},
   "outputs": [],
   "source": [
    "colunas_para_melt = [\n",
    "'01-10-2024',\n",
    "'02-10-2024',\n",
    "'03-10-2024',\n",
    "'04-10-2024',\n",
    "'07-10-2024',\n",
    "'08-10-2024',\n",
    "'09-10-2024',\n",
    "'10-10-2024',\n",
    "'11-10-2024',\n",
    "'14-10-2024',\n",
    "'15-10-2024',\n",
    "'16-10-2024',\n",
    "'17-10-2024',\n",
    "'18-10-2024',\n",
    "'21-10-2024',\n",
    "'22-10-2024',\n",
    "'23-10-2024',\n",
    "'24-10-2024',\n",
    "'25-10-2024',\n",
    "'28-10-2024',\n",
    "'29-10-2024',\n",
    "'30-10-2024',\n",
    "'31-10-2024',\n",
    "]"
   ]
  },
  {
   "cell_type": "markdown",
   "id": "3c6e888f-aac8-4abb-8712-b1dd596e181c",
   "metadata": {},
   "source": [
    "#### Indentificando as colunas que Eu quero manter em meu dataframe"
   ]
  },
  {
   "cell_type": "code",
   "execution_count": null,
   "id": "4d43519f-96c3-4b40-a8a2-7bfb788a2bd8",
   "metadata": {},
   "outputs": [],
   "source": [
    "# Identifica as colunas que você quer manter como identificadoras (id_vars)\n",
    "# São as colunas que não serão \"unpivoted\"\n",
    "id_vars_cols = [columns for columns in dataRUI.columns if columns not in colunas_para_melt]"
   ]
  },
  {
   "cell_type": "code",
   "execution_count": null,
   "id": "4ce7dd98-d8ba-49c8-b386-94a0a0bee4d2",
   "metadata": {},
   "outputs": [],
   "source": [
    "dataRUI_melted = pd.melt(dataRUI,\n",
    "                      id_vars=id_vars_cols, #colunas que Eu deixei, que ficaram.\n",
    "                      value_vars=colunas_para_melt, #colunas que vão se transformar.\n",
    "                      var_name='Dias de Aulas', # nome da coluna categorica\n",
    "                      value_name='Frequencia de Alunos') # nome da coluna de valores"
   ]
  },
  {
   "cell_type": "code",
   "execution_count": null,
   "id": "901209dc-6913-4af3-b329-48e9ead438db",
   "metadata": {},
   "outputs": [],
   "source": [
    "dataRUI_melted.head(2)"
   ]
  },
  {
   "cell_type": "code",
   "execution_count": null,
   "id": "35ba4435-eca7-4a6e-8f2a-5d25b7b86b85",
   "metadata": {},
   "outputs": [],
   "source": [
    "dataRUI_melted['Frequencia de Alunos'].sum()"
   ]
  },
  {
   "cell_type": "markdown",
   "id": "a12552fa-bef3-449c-b0bf-2d9055bcc922",
   "metadata": {
    "tags": []
   },
   "source": [
    "# PASSARÉ [PAS] - PREPROCESSING 13"
   ]
  },
  {
   "cell_type": "code",
   "execution_count": null,
   "id": "e2a11cd7-8519-4177-9744-c59f0317fe40",
   "metadata": {},
   "outputs": [],
   "source": [
    "data13 = pd.read_excel('Frequencia de Alunos Green Life Academias - outubro de 2024.xlsx', sheet_name='PAS', skiprows=1, nrows=89)"
   ]
  },
  {
   "cell_type": "code",
   "execution_count": null,
   "id": "4651b873-bac1-4909-b167-a4ce03237134",
   "metadata": {},
   "outputs": [],
   "source": [
    "dataPAS = data13.copy()"
   ]
  },
  {
   "cell_type": "markdown",
   "id": "864185ac-3d65-4233-8d9f-13070f85cb4c",
   "metadata": {},
   "source": [
    "### 1 PASSO: Removendo colunas desnecessárias"
   ]
  },
  {
   "cell_type": "code",
   "execution_count": null,
   "id": "c5d04c06-ca8a-4a0f-9461-4a43221650dc",
   "metadata": {},
   "outputs": [],
   "source": [
    "dataPAS.head(2)"
   ]
  },
  {
   "cell_type": "code",
   "execution_count": null,
   "id": "4c483f7b-ec80-416b-bea0-c19740f729b3",
   "metadata": {},
   "outputs": [],
   "source": [
    "dataPAS.iloc[0]"
   ]
  },
  {
   "cell_type": "code",
   "execution_count": null,
   "id": "03459142-e188-405c-9e7d-f93bfc7dde90",
   "metadata": {},
   "outputs": [],
   "source": [
    "dataPAS.iloc[-1]"
   ]
  },
  {
   "cell_type": "code",
   "execution_count": null,
   "id": "9ef3ea06-70bf-4f58-b25e-fcb8b3fe86f1",
   "metadata": {},
   "outputs": [],
   "source": [
    "dropColumns = ['Unnamed: 0', 'Unnamed: 1', 'Unnamed: 2', 'HORÁRIO',\n",
    "               'AUX 2', 'AUX 3', 'Unnamed: 40']"
   ]
  },
  {
   "cell_type": "code",
   "execution_count": null,
   "id": "ec716c7a-4cc8-4d0c-86e1-0c2ac6e59609",
   "metadata": {},
   "outputs": [],
   "source": [
    "dataPAS.drop(columns=dropColumns, inplace=True)"
   ]
  },
  {
   "cell_type": "markdown",
   "id": "1ba6a6a1-cc59-49b0-b6d8-b796c378760c",
   "metadata": {},
   "source": [
    "- PRECISAMOS RENOMEAR A COLUNA AUX.1 COMO HORARIO"
   ]
  },
  {
   "cell_type": "code",
   "execution_count": null,
   "id": "fa3c448c-cf4c-4e3b-8d8e-b95e4ec66748",
   "metadata": {},
   "outputs": [],
   "source": [
    "dataPAS.rename(columns={'AUX.1': 'HORÁRIO'}, inplace=True)"
   ]
  },
  {
   "cell_type": "markdown",
   "id": "82321486-ba76-4f40-aa59-04ff727f75ff",
   "metadata": {},
   "source": [
    "### 2 PASSO: Renomeando strings de datas, para que o pandas possa aceitar como colunas"
   ]
  },
  {
   "cell_type": "code",
   "execution_count": null,
   "id": "0b8b834c-cd4a-4692-af05-b8a600664e57",
   "metadata": {},
   "outputs": [],
   "source": [
    "for columns in dataPAS.columns:\n",
    "    print(columns)"
   ]
  },
  {
   "cell_type": "code",
   "execution_count": null,
   "id": "c088bf37-8164-4128-b182-7d833c788818",
   "metadata": {},
   "outputs": [],
   "source": [
    "dataPAS.columns = [\n",
    "'CATEGORIA',\n",
    "'MODALIDADE',\n",
    "'DIA DA SEMANA',\n",
    "'HORÁRIO',\n",
    "'TURNO',\n",
    "'PROFESSOR',\n",
    "'2024-10-01 00:00:00',\n",
    "'2024-10-02 00:00:00',\n",
    "'2024-10-03 00:00:00',\n",
    "'2024-10-04 00:00:00',\n",
    "'2024-10-07 00:00:00',\n",
    "'2024-10-08 00:00:00',\n",
    "'2024-10-09 00:00:00',\n",
    "'2024-10-10 00:00:00',\n",
    "'2024-10-11 00:00:00',\n",
    "'2024-10-14 00:00:00',\n",
    "'2024-10-15 00:00:00',\n",
    "'2024-10-16 00:00:00',\n",
    "'2024-10-17 00:00:00',\n",
    "'2024-10-18 00:00:00',\n",
    "'2024-10-21 00:00:00',\n",
    "'2024-10-22 00:00:00',\n",
    "'2024-10-23 00:00:00',\n",
    "'2024-10-24 00:00:00',\n",
    "'2024-10-25 00:00:00',\n",
    "'2024-10-28 00:00:00',\n",
    "'2024-10-29 00:00:00',\n",
    "'2024-10-30 00:00:00',\n",
    "'2024-10-31 00:00:00',\n",
    "'Média alunos p/ professor',\n",
    "'Média',\n",
    "'Alunos/professor',\n",
    "'Ocupação Máxima',\n",
    "'Professor'\n",
    "]"
   ]
  },
  {
   "cell_type": "code",
   "execution_count": null,
   "id": "46ffb681-aa6e-43c9-a3b5-1fbddb0c3368",
   "metadata": {},
   "outputs": [],
   "source": [
    "dataPAS.columns"
   ]
  },
  {
   "cell_type": "markdown",
   "id": "d171e464-ea19-4af0-9e48-f298b650abf5",
   "metadata": {},
   "source": [
    "### PASSO 3: Escolhendo colunas com o nome de 'datas', para renomear pelo o tipo dia, mês e ano. e removendo os 00 de horas"
   ]
  },
  {
   "cell_type": "code",
   "execution_count": null,
   "id": "fab8646c-2da0-4dbd-8659-0e8bd4bb3ad2",
   "metadata": {},
   "outputs": [],
   "source": [
    "colunas = [\n",
    "'2024-10-01 00:00:00',\n",
    "'2024-10-02 00:00:00',\n",
    "'2024-10-03 00:00:00',\n",
    "'2024-10-04 00:00:00',\n",
    "'2024-10-07 00:00:00',\n",
    "'2024-10-08 00:00:00',\n",
    "'2024-10-09 00:00:00',\n",
    "'2024-10-10 00:00:00',\n",
    "'2024-10-11 00:00:00',\n",
    "'2024-10-14 00:00:00',\n",
    "'2024-10-15 00:00:00',\n",
    "'2024-10-16 00:00:00',\n",
    "'2024-10-17 00:00:00',\n",
    "'2024-10-18 00:00:00',\n",
    "'2024-10-21 00:00:00',\n",
    "'2024-10-22 00:00:00',\n",
    "'2024-10-23 00:00:00',\n",
    "'2024-10-24 00:00:00',\n",
    "'2024-10-25 00:00:00',\n",
    "'2024-10-28 00:00:00',\n",
    "'2024-10-29 00:00:00',\n",
    "'2024-10-30 00:00:00',\n",
    "'2024-10-31 00:00:00'\n",
    "]"
   ]
  },
  {
   "cell_type": "code",
   "execution_count": null,
   "id": "3d4e9bfe-3b4e-4b38-951d-4f14f129e9bc",
   "metadata": {},
   "outputs": [],
   "source": [
    "novas_colunas_PAS = []"
   ]
  },
  {
   "cell_type": "code",
   "execution_count": null,
   "id": "b52ae172-1769-49e2-b645-25a622554084",
   "metadata": {},
   "outputs": [],
   "source": [
    "for columns in colunas:\n",
    "    # Remove a parte da hora\n",
    "    data_sem_hora = columns.split(' ')[0]\n",
    "    \n",
    "    # Formata para o formato DD-MM-YYYY\n",
    "    ano, mes, dia = data_sem_hora.split('-')\n",
    "    novo_nome = f'{dia}-{mes}-{ano}'\n",
    "    novas_colunas_PAS.append(novo_nome)"
   ]
  },
  {
   "cell_type": "code",
   "execution_count": null,
   "id": "00ff2e3a-6a8d-4d75-a966-ea9a4bfa2226",
   "metadata": {},
   "outputs": [],
   "source": [
    "novas_colunas_PAS"
   ]
  },
  {
   "cell_type": "markdown",
   "id": "9ddf481e-d398-4590-b432-7513b99372f3",
   "metadata": {},
   "source": [
    "### PASSO 4 renomeando colunas e acrescentando o novo formato "
   ]
  },
  {
   "cell_type": "markdown",
   "id": "15f1daf9-3be4-4e9e-819a-23a4d0164f8d",
   "metadata": {},
   "source": [
    "copie as colunas que escolheu para renomear, e cole o formato novo no lugar das velhas"
   ]
  },
  {
   "cell_type": "code",
   "execution_count": null,
   "id": "52b64b30-25b3-43a7-ae0d-c4f5eaa52b12",
   "metadata": {},
   "outputs": [],
   "source": [
    "# Adicionando as datas formatadas as colunas, copiando e colando"
   ]
  },
  {
   "cell_type": "code",
   "execution_count": null,
   "id": "3d69f992-1ba1-4c74-b805-139c7dac3580",
   "metadata": {},
   "outputs": [],
   "source": [
    "for columns in dataPAS.columns:\n",
    "    print (columns)"
   ]
  },
  {
   "cell_type": "code",
   "execution_count": null,
   "id": "b9917b9d-1337-40e1-9062-703e9127a63c",
   "metadata": {},
   "outputs": [],
   "source": [
    "dataPAS.columns = [\n",
    "'CATEGORIA',\n",
    "'MODALIDADE',\n",
    "'DIA DA SEMANA',\n",
    "'HORÁRIO',\n",
    "'TURNO',\n",
    "'PROFESSOR',\n",
    "'01-10-2024',\n",
    "'02-10-2024',\n",
    "'03-10-2024',\n",
    "'04-10-2024',\n",
    "'07-10-2024',\n",
    "'08-10-2024',\n",
    "'09-10-2024',\n",
    "'10-10-2024',\n",
    "'11-10-2024',\n",
    "'14-10-2024',\n",
    "'15-10-2024',\n",
    "'16-10-2024',\n",
    "'17-10-2024',\n",
    "'18-10-2024',\n",
    "'21-10-2024',\n",
    "'22-10-2024',\n",
    "'23-10-2024',\n",
    "'24-10-2024',\n",
    "'25-10-2024',\n",
    "'28-10-2024',\n",
    "'29-10-2024',\n",
    "'30-10-2024',\n",
    "'31-10-2024', \n",
    "'Média alunos p/ professor',\n",
    "'Média',\n",
    "'Alunos/professor',\n",
    "'Ocupação Máxima',\n",
    "'Professor']"
   ]
  },
  {
   "cell_type": "markdown",
   "id": "9b8b7b06-a61b-4f31-af15-cf81043f9032",
   "metadata": {},
   "source": [
    "### 5 PASSO: Usar o Loop for para substitituir os valores das frequencia de 'x' e 'X' por zero, com o método do pd.to_numeric) "
   ]
  },
  {
   "cell_type": "code",
   "execution_count": null,
   "id": "42f622ae-048f-4bb1-adb0-acf10c22c044",
   "metadata": {},
   "outputs": [],
   "source": [
    "colunas = [\n",
    "'01-10-2024',\n",
    "'02-10-2024',\n",
    "'03-10-2024',\n",
    "'04-10-2024',\n",
    "'07-10-2024',\n",
    "'08-10-2024',\n",
    "'09-10-2024',\n",
    "'10-10-2024',\n",
    "'11-10-2024',\n",
    "'14-10-2024',\n",
    "'15-10-2024',\n",
    "'16-10-2024',\n",
    "'17-10-2024',\n",
    "'18-10-2024',\n",
    "'21-10-2024',\n",
    "'22-10-2024',\n",
    "'23-10-2024',\n",
    "'24-10-2024',\n",
    "'25-10-2024',\n",
    "'28-10-2024',\n",
    "'29-10-2024',\n",
    "'30-10-2024',\n",
    "'31-10-2024',\n",
    "]"
   ]
  },
  {
   "cell_type": "markdown",
   "id": "1afa8135-f57d-4d32-96b9-c879e4abe165",
   "metadata": {},
   "source": [
    "Fazendo a limpeza profunda, formatando valores para numeros, preenchendo com zeros os nulos e transformando em inteiros"
   ]
  },
  {
   "cell_type": "code",
   "execution_count": null,
   "id": "957e4152-cbb1-4c5d-a302-21ca49b72e27",
   "metadata": {},
   "outputs": [],
   "source": [
    "for columns in colunas:\n",
    "    # dataMES[columns] = pd.to_numeric(dataMES[columns], errors='coerce')\n",
    "    dataPAS[columns] = pd.to_numeric(dataPAS[columns], errors='coerce').fillna(0).astype(int)"
   ]
  },
  {
   "cell_type": "markdown",
   "id": "b1c78c71-931d-4e11-b01f-0a5fc9f1991f",
   "metadata": {},
   "source": [
    "### PASSO 6: MELT derretendo as colunas em formato de datas"
   ]
  },
  {
   "cell_type": "markdown",
   "id": "e0dc5dee-12a7-43fd-b4ba-79027800c0a6",
   "metadata": {},
   "source": [
    "o MELT ele pega as colunas que estão na horizontal e cria uma coluna de categorias, e depois ele cria outra coluna com os valores dessas colunas que foram transformadas em dados categóricos"
   ]
  },
  {
   "cell_type": "code",
   "execution_count": null,
   "id": "5991a45b-8348-45ce-8c41-dd12891bd7b0",
   "metadata": {},
   "outputs": [],
   "source": [
    "colunas_para_melt = [\n",
    "'01-10-2024',\n",
    "'02-10-2024',\n",
    "'03-10-2024',\n",
    "'04-10-2024',\n",
    "'07-10-2024',\n",
    "'08-10-2024',\n",
    "'09-10-2024',\n",
    "'10-10-2024',\n",
    "'11-10-2024',\n",
    "'14-10-2024',\n",
    "'15-10-2024',\n",
    "'16-10-2024',\n",
    "'17-10-2024',\n",
    "'18-10-2024',\n",
    "'21-10-2024',\n",
    "'22-10-2024',\n",
    "'23-10-2024',\n",
    "'24-10-2024',\n",
    "'25-10-2024',\n",
    "'28-10-2024',\n",
    "'29-10-2024',\n",
    "'30-10-2024',\n",
    "'31-10-2024'\n",
    "]"
   ]
  },
  {
   "cell_type": "markdown",
   "id": "dc717f14-e735-4560-a45e-69b2afbcd3b0",
   "metadata": {},
   "source": [
    "#### Indentificando as colunas que Eu quero manter em meu dataframe"
   ]
  },
  {
   "cell_type": "code",
   "execution_count": null,
   "id": "e2257ef9-592d-4caf-bc4a-92b0ceb025a4",
   "metadata": {},
   "outputs": [],
   "source": [
    "# Identifica as colunas que você quer manter como identificadoras (id_vars)\n",
    "# São as colunas que não serão \"unpivoted\"\n",
    "id_vars_cols = [columns for columns in dataPAS.columns if columns not in colunas_para_melt]"
   ]
  },
  {
   "cell_type": "code",
   "execution_count": null,
   "id": "3f17423e-df3b-46f6-89b7-27c6a5a01d69",
   "metadata": {},
   "outputs": [],
   "source": [
    "dataPAS_melted = pd.melt(dataPAS,\n",
    "                      id_vars=id_vars_cols, #colunas que Eu deixei, que ficaram.\n",
    "                      value_vars=colunas_para_melt, #colunas que vão se transformar.\n",
    "                      var_name='Dias de Aulas', # nome da coluna categorica\n",
    "                      value_name='Frequencia de Alunos') # nome da coluna de valores"
   ]
  },
  {
   "cell_type": "code",
   "execution_count": null,
   "id": "0f3f1681-fac2-4009-9b4d-12567b6a9672",
   "metadata": {},
   "outputs": [],
   "source": [
    "dataPAS_melted.head(2)"
   ]
  },
  {
   "cell_type": "code",
   "execution_count": null,
   "id": "b670a7d3-5f74-40f2-8bdc-a302c623a287",
   "metadata": {},
   "outputs": [],
   "source": [
    "dataPAS_melted['Frequencia de Alunos'].sum()"
   ]
  },
  {
   "cell_type": "markdown",
   "id": "7f9c1f71-7e0a-42c8-91ad-86d67dc1059a",
   "metadata": {},
   "source": [
    "# PARQUELÂNDIA [PARQ] - PREPROCESSING 14"
   ]
  },
  {
   "cell_type": "code",
   "execution_count": null,
   "id": "18de50cc-6156-49cd-a85e-1ff9dfd25fa6",
   "metadata": {},
   "outputs": [],
   "source": [
    "data14 = pd.read_excel('Frequencia de Alunos Green Life Academias - outubro de 2024.xlsx', sheet_name='PARQ', skiprows=1, nrows=66)"
   ]
  },
  {
   "cell_type": "code",
   "execution_count": null,
   "id": "b4003c18-ab57-4e5b-b0be-c47a628071e4",
   "metadata": {},
   "outputs": [],
   "source": [
    "dataPARQ = data14.copy()"
   ]
  },
  {
   "cell_type": "markdown",
   "id": "344cab16-6bd6-4345-a16e-ad0d284a6a7d",
   "metadata": {},
   "source": [
    "### 1 PASSO: Removendo colunas desnecessárias"
   ]
  },
  {
   "cell_type": "code",
   "execution_count": null,
   "id": "93276041-d1d4-4fd0-9e60-d5b4cf2cb2b3",
   "metadata": {},
   "outputs": [],
   "source": [
    "dataPARQ.head(2)"
   ]
  },
  {
   "cell_type": "code",
   "execution_count": null,
   "id": "5ef6148a-14c7-40aa-a2e9-1955a42de649",
   "metadata": {},
   "outputs": [],
   "source": [
    "dataPARQ.iloc[0]"
   ]
  },
  {
   "cell_type": "code",
   "execution_count": null,
   "id": "b00bf0d0-bad7-4095-9f7e-c4517a8f724e",
   "metadata": {},
   "outputs": [],
   "source": [
    "dataPARQ.iloc[-1]"
   ]
  },
  {
   "cell_type": "code",
   "execution_count": null,
   "id": "e61e5421-c2b6-4cdf-8b46-2460f61c8835",
   "metadata": {},
   "outputs": [],
   "source": [
    "dropColumns = ['Unnamed: 0', 'Unnamed: 1', 'Unnamed: 2', 'Unnamed: 3',\n",
    " 'HORÁRIO', 'AUX 2', 'AUX 3', 'Unnamed: 41', 'Unnamed: 42',\n",
    " 'Unnamed: 43', 'Unnamed: 44', 'Unnamed: 45', 'Unnamed: 46',\n",
    " 'Unnamed: 47', 'Unnamed: 48']"
   ]
  },
  {
   "cell_type": "code",
   "execution_count": null,
   "id": "2492dd98-9569-4c4d-8f0e-5a5b36ad4722",
   "metadata": {},
   "outputs": [],
   "source": [
    "dataPARQ.drop(columns=dropColumns, inplace=True)"
   ]
  },
  {
   "cell_type": "markdown",
   "id": "e62e2861-cab7-4fc8-835b-f098c23e72f9",
   "metadata": {},
   "source": [
    "- PRECISAMOS RENOMEAR A COLUNA AUX.1 COMO HORARIO"
   ]
  },
  {
   "cell_type": "code",
   "execution_count": null,
   "id": "0d8c2cc7-a281-404b-bbdb-223b0aadad74",
   "metadata": {},
   "outputs": [],
   "source": [
    "dataPARQ.rename(columns={'AUX.1': 'HORÁRIO'}, inplace=True)"
   ]
  },
  {
   "cell_type": "markdown",
   "id": "65bcbc70-6295-403f-b28f-5f1fb3131c7f",
   "metadata": {},
   "source": [
    "### 2 PASSO: Renomeando strings de datas, para que o pandas possa aceitar como colunas"
   ]
  },
  {
   "cell_type": "code",
   "execution_count": null,
   "id": "f8bd9f05-379b-415b-8c93-3aa2f1a8c151",
   "metadata": {},
   "outputs": [],
   "source": [
    "for columns in dataPARQ.columns:\n",
    "    print(columns)"
   ]
  },
  {
   "cell_type": "code",
   "execution_count": null,
   "id": "18627a58-aaab-4390-a9bd-ceb1f9f4ad76",
   "metadata": {},
   "outputs": [],
   "source": [
    "dataPARQ.columns = [\n",
    "'CATEGORIA',\n",
    "'MODALIDADE',\n",
    "'DIA DA SEMANA',\n",
    "'HORÁRIO',\n",
    "'TURNO',\n",
    "'PROFESSOR',\n",
    "'2024-10-01 00:00:00',\n",
    "'2024-10-02 00:00:00',\n",
    "'2024-10-03 00:00:00',\n",
    "'2024-10-04 00:00:00',\n",
    "'2024-10-07 00:00:00',\n",
    "'2024-10-08 00:00:00',\n",
    "'2024-10-09 00:00:00',\n",
    "'2024-10-10 00:00:00',\n",
    "'2024-10-11 00:00:00',\n",
    "'2024-10-14 00:00:00',\n",
    "'2024-10-15 00:00:00',\n",
    "'2024-10-16 00:00:00',\n",
    "'2024-10-17 00:00:00',\n",
    "'2024-10-18 00:00:00',\n",
    "'2024-10-21 00:00:00',\n",
    "'2024-10-22 00:00:00',\n",
    "'2024-10-23 00:00:00',\n",
    "'2024-10-24 00:00:00',\n",
    "'2024-10-25 00:00:00',\n",
    "'2024-10-28 00:00:00',\n",
    "'2024-10-29 00:00:00',\n",
    "'2024-10-30 00:00:00',\n",
    "'2024-10-31 00:00:00',\n",
    "'Média alunos p/ professor',\n",
    "'Média',\n",
    "'Alunos/professor',\n",
    "'Ocupação Máxima',\n",
    "'Professor']"
   ]
  },
  {
   "cell_type": "code",
   "execution_count": null,
   "id": "6634ce6d-c3ab-44a5-b2c1-d2b5f4a4e1a7",
   "metadata": {},
   "outputs": [],
   "source": [
    "dataPARQ.columns"
   ]
  },
  {
   "cell_type": "markdown",
   "id": "6e244ab1-f0c2-45c3-a85a-329e6fdabdfd",
   "metadata": {},
   "source": [
    "### PASSO 3: Escolhendo colunas com o nome de 'datas', para renomear pelo o tipo dia, mês e ano. e removendo os 00 de horas"
   ]
  },
  {
   "cell_type": "code",
   "execution_count": null,
   "id": "ef6dc480-97ea-498c-a4cd-b7f910364ad8",
   "metadata": {},
   "outputs": [],
   "source": [
    "colunas = [\n",
    "'2024-10-01 00:00:00',\n",
    "'2024-10-02 00:00:00',\n",
    "'2024-10-03 00:00:00',\n",
    "'2024-10-04 00:00:00',\n",
    "'2024-10-07 00:00:00',\n",
    "'2024-10-08 00:00:00',\n",
    "'2024-10-09 00:00:00',\n",
    "'2024-10-10 00:00:00',\n",
    "'2024-10-11 00:00:00',\n",
    "'2024-10-14 00:00:00',\n",
    "'2024-10-15 00:00:00',\n",
    "'2024-10-16 00:00:00',\n",
    "'2024-10-17 00:00:00',\n",
    "'2024-10-18 00:00:00',\n",
    "'2024-10-21 00:00:00',\n",
    "'2024-10-22 00:00:00',\n",
    "'2024-10-23 00:00:00',\n",
    "'2024-10-24 00:00:00',\n",
    "'2024-10-25 00:00:00',\n",
    "'2024-10-28 00:00:00',\n",
    "'2024-10-29 00:00:00',\n",
    "'2024-10-30 00:00:00',\n",
    "'2024-10-31 00:00:00',]"
   ]
  },
  {
   "cell_type": "code",
   "execution_count": null,
   "id": "a53ee76d-db32-4796-9d4e-1f9d40795f48",
   "metadata": {},
   "outputs": [],
   "source": [
    "novas_colunas_PARQ = []"
   ]
  },
  {
   "cell_type": "code",
   "execution_count": null,
   "id": "8e1817ac-b760-4ee6-b53d-060c32982912",
   "metadata": {},
   "outputs": [],
   "source": [
    "for columns in colunas:\n",
    "    # Remove a parte da hora\n",
    "    data_sem_hora = columns.split(' ')[0]\n",
    "    \n",
    "    # Formata para o formato DD-MM-YYYY\n",
    "    ano, mes, dia = data_sem_hora.split('-')\n",
    "    novo_nome = f'{dia}-{mes}-{ano}'\n",
    "    novas_colunas_PARQ.append(novo_nome)"
   ]
  },
  {
   "cell_type": "code",
   "execution_count": null,
   "id": "1c39deff-f9b9-445b-ac02-4888d4843f2e",
   "metadata": {},
   "outputs": [],
   "source": [
    "novas_colunas_PARQ"
   ]
  },
  {
   "cell_type": "markdown",
   "id": "871f9bb1-b101-4a44-81f2-175710626857",
   "metadata": {},
   "source": [
    "### PASSO 4 renomeando colunas e acrescentando o novo formato "
   ]
  },
  {
   "cell_type": "markdown",
   "id": "06d5d582-7dbe-4d57-8efc-482073b5e4d3",
   "metadata": {},
   "source": [
    "copie as colunas que escolheu para renomear, e cole o formato novo no lugar das velhas"
   ]
  },
  {
   "cell_type": "code",
   "execution_count": null,
   "id": "26decd53-a536-403d-83f7-1f2ffcad98a3",
   "metadata": {},
   "outputs": [],
   "source": [
    "# Adicionando as datas formatadas as colunas, copiando e colando"
   ]
  },
  {
   "cell_type": "code",
   "execution_count": null,
   "id": "f9b0ae20-fa64-4624-8563-940bdc06c63c",
   "metadata": {},
   "outputs": [],
   "source": [
    "for columns in dataPARQ.columns:\n",
    "    print (columns)"
   ]
  },
  {
   "cell_type": "code",
   "execution_count": null,
   "id": "feb2215c-0a14-4f80-bb76-8d4ecaf8af83",
   "metadata": {},
   "outputs": [],
   "source": [
    "dataPARQ.columns = [\n",
    "'CATEGORIA',\n",
    "'MODALIDADE',\n",
    "'DIA DA SEMANA',\n",
    "'HORÁRIO',\n",
    "'TURNO',\n",
    "'PROFESSOR',\n",
    "'01-10-2024',\n",
    "'02-10-2024',\n",
    "'03-10-2024',\n",
    "'04-10-2024',\n",
    "'07-10-2024',\n",
    "'08-10-2024',\n",
    "'09-10-2024',\n",
    "'10-10-2024',\n",
    "'11-10-2024',\n",
    "'14-10-2024',\n",
    "'15-10-2024',\n",
    "'16-10-2024',\n",
    "'17-10-2024',\n",
    "'18-10-2024',\n",
    "'21-10-2024',\n",
    "'22-10-2024',\n",
    "'23-10-2024',\n",
    "'24-10-2024',\n",
    "'25-10-2024',\n",
    "'28-10-2024',\n",
    "'29-10-2024',\n",
    "'30-10-2024',\n",
    "'31-10-2024',\n",
    "'Média alunos p/ professor',\n",
    "'Média',\n",
    "'Alunos/professor',\n",
    "'Ocupação Máxima',\n",
    "'Professor',\n",
    "]"
   ]
  },
  {
   "cell_type": "markdown",
   "id": "7a78d8ca-6e7c-469c-bea1-2c481870e9b6",
   "metadata": {},
   "source": [
    "### 5 PASSO: Usar o Loop for para substitituir os valores das frequencia de 'x' e 'X' por zero, com o método do pd.to_numeric) "
   ]
  },
  {
   "cell_type": "code",
   "execution_count": null,
   "id": "f4a2eb5e-974d-4783-9861-a6fa32e138de",
   "metadata": {},
   "outputs": [],
   "source": [
    "colunas = [\n",
    "'01-10-2024',\n",
    "'02-10-2024',\n",
    "'03-10-2024',\n",
    "'04-10-2024',\n",
    "'07-10-2024',\n",
    "'08-10-2024',\n",
    "'09-10-2024',\n",
    "'10-10-2024',\n",
    "'11-10-2024',\n",
    "'14-10-2024',\n",
    "'15-10-2024',\n",
    "'16-10-2024',\n",
    "'17-10-2024',\n",
    "'18-10-2024',\n",
    "'21-10-2024',\n",
    "'22-10-2024',\n",
    "'23-10-2024',\n",
    "'24-10-2024',\n",
    "'25-10-2024',\n",
    "'28-10-2024',\n",
    "'29-10-2024',\n",
    "'30-10-2024',\n",
    "'31-10-2024',\n",
    "]"
   ]
  },
  {
   "cell_type": "markdown",
   "id": "7a375f21-0d9f-4a68-afff-18144013efc8",
   "metadata": {},
   "source": [
    "Fazendo a limpeza profunda, formatando valores para numeros, preenchendo com zeros os nulos e transformando em inteiros"
   ]
  },
  {
   "cell_type": "code",
   "execution_count": null,
   "id": "20e1c344-c1ad-4e71-bbe7-a4100dd5fdce",
   "metadata": {},
   "outputs": [],
   "source": [
    "for columns in colunas:\n",
    "    # dataMES[columns] = pd.to_numeric(dataMES[columns], errors='coerce')\n",
    "    dataPARQ[columns] = pd.to_numeric(dataPARQ[columns], errors='coerce').fillna(0).astype(int)"
   ]
  },
  {
   "cell_type": "markdown",
   "id": "ef37bf80-721d-4303-ab9b-e59a25c4a8df",
   "metadata": {},
   "source": [
    "### PASSO 6: MELT derretendo as colunas em formato de datas"
   ]
  },
  {
   "cell_type": "markdown",
   "id": "12fb2186-32e7-4b26-b6d7-ce4f1f3dd0ee",
   "metadata": {},
   "source": [
    "o MELT ele pega as colunas que estão na horizontal e cria uma coluna de categorias, e depois ele cria outra coluna com os valores dessas colunas que foram transformadas em dados categóricosM"
   ]
  },
  {
   "cell_type": "code",
   "execution_count": null,
   "id": "2d349980-7868-4fb2-b20c-bacc1d72db29",
   "metadata": {},
   "outputs": [],
   "source": [
    "colunas_para_melt = [\n",
    "'01-10-2024',\n",
    "'02-10-2024',\n",
    "'03-10-2024',\n",
    "'04-10-2024',\n",
    "'07-10-2024',\n",
    "'08-10-2024',\n",
    "'09-10-2024',\n",
    "'10-10-2024',\n",
    "'11-10-2024',\n",
    "'14-10-2024',\n",
    "'15-10-2024',\n",
    "'16-10-2024',\n",
    "'17-10-2024',\n",
    "'18-10-2024',\n",
    "'21-10-2024',\n",
    "'22-10-2024',\n",
    "'23-10-2024',\n",
    "'24-10-2024',\n",
    "'25-10-2024',\n",
    "'28-10-2024',\n",
    "'29-10-2024',\n",
    "'30-10-2024',\n",
    "'31-10-2024',\n",
    "]"
   ]
  },
  {
   "cell_type": "markdown",
   "id": "e06a6393-8d79-4c1a-b1ed-ceafe40230bd",
   "metadata": {},
   "source": [
    "#### Indentificando as colunas que Eu quero manter em meu dataframe"
   ]
  },
  {
   "cell_type": "code",
   "execution_count": null,
   "id": "a98c09a9-97c1-4ac7-accb-264d90cf28f9",
   "metadata": {},
   "outputs": [],
   "source": [
    "# Identifica as colunas que você quer manter como identificadoras (id_vars)\n",
    "# São as colunas que não serão \"unpivoted\"\n",
    "id_vars_cols = [columns for columns in dataPARQ.columns if columns not in colunas_para_melt]"
   ]
  },
  {
   "cell_type": "code",
   "execution_count": null,
   "id": "3f30476e-fd10-4b65-bfc3-6f7dc2b4d08d",
   "metadata": {},
   "outputs": [],
   "source": [
    "dataPARQ_melted = pd.melt(dataPARQ,\n",
    "                      id_vars=id_vars_cols, #colunas que Eu deixei, que ficaram.\n",
    "                      value_vars=colunas_para_melt, #colunas que vão se transformar.\n",
    "                      var_name='Dias de Aulas', # nome da coluna categorica\n",
    "                      value_name='Frequencia de Alunos') # nome da coluna de valores"
   ]
  },
  {
   "cell_type": "code",
   "execution_count": null,
   "id": "15270e3c-1cf8-4161-b386-047a727938e6",
   "metadata": {},
   "outputs": [],
   "source": [
    "dataPARQ_melted.head(2)"
   ]
  },
  {
   "cell_type": "code",
   "execution_count": null,
   "id": "8ac02773-187d-49dd-951d-f7bf1249b7fb",
   "metadata": {},
   "outputs": [],
   "source": [
    "dataPARQ_melted['Frequencia de Alunos'].sum()"
   ]
  },
  {
   "cell_type": "markdown",
   "id": "795ff8c9-343a-4efc-b89f-d93902c785bd",
   "metadata": {},
   "source": [
    "# PERSONAL [PERS] - PREPROCESSING 15"
   ]
  },
  {
   "cell_type": "code",
   "execution_count": null,
   "id": "b9f6ca55-9f56-4b6d-afa3-dc5d09aa1a85",
   "metadata": {},
   "outputs": [],
   "source": [
    "data15 = pd.read_excel('Frequencia de Alunos Green Life Academias - outubro de 2024.xlsx', sheet_name='PERS', skiprows=2, nrows=180)"
   ]
  },
  {
   "cell_type": "code",
   "execution_count": null,
   "id": "16d7e117-11af-4abc-87da-ad17efcfbe77",
   "metadata": {},
   "outputs": [],
   "source": [
    "dataPERS = data15.copy()"
   ]
  },
  {
   "cell_type": "markdown",
   "id": "787ebf13-e80d-4dc5-9a81-edb0b1d1cb6b",
   "metadata": {},
   "source": [
    "### 1 PASSO: Removendo colunas desnecessárias"
   ]
  },
  {
   "cell_type": "code",
   "execution_count": null,
   "id": "c4f30753-877a-40e8-8f80-d0986b129c37",
   "metadata": {},
   "outputs": [],
   "source": [
    "dataPERS.head(2)"
   ]
  },
  {
   "cell_type": "code",
   "execution_count": null,
   "id": "46e76a84-4ab7-4664-b879-3ea4c768cc8e",
   "metadata": {},
   "outputs": [],
   "source": [
    "dataPERS.iloc[0]"
   ]
  },
  {
   "cell_type": "code",
   "execution_count": null,
   "id": "518f55c1-7eef-4b6b-a32b-a0efa44b9b3d",
   "metadata": {},
   "outputs": [],
   "source": [
    "dataPERS.iloc[-1]"
   ]
  },
  {
   "cell_type": "code",
   "execution_count": null,
   "id": "57269a3a-25ea-4912-a076-92da688919f0",
   "metadata": {},
   "outputs": [],
   "source": [
    "dropColumns = [\n",
    "'Unnamed: 0', 'Unnamed: 1', 'Unnamed: 2', 'HORÁRIO',\n",
    "'AUX 2', 'AUX 3', 'Unnamed: 37', 'Unnamed: 38']"
   ]
  },
  {
   "cell_type": "code",
   "execution_count": null,
   "id": "9cd13579-d36a-47d7-b349-e27128c6ac70",
   "metadata": {},
   "outputs": [],
   "source": [
    "dataPERS.drop(columns=dropColumns, inplace=True)"
   ]
  },
  {
   "cell_type": "markdown",
   "id": "3b84b0c2-8199-4ee2-ab02-9222817d176b",
   "metadata": {},
   "source": [
    "- PRECISAMOS RENOMEAR A COLUNA AUX.1 COMO HORARIO"
   ]
  },
  {
   "cell_type": "code",
   "execution_count": null,
   "id": "7b8a7008-8582-449a-aaa1-ee77e00e7844",
   "metadata": {},
   "outputs": [],
   "source": [
    "dataPERS.rename(columns={'AUX.1': 'HORÁRIO'}, inplace=True)"
   ]
  },
  {
   "cell_type": "markdown",
   "id": "f273833c-dbdb-4a79-a699-b8d82c3795c1",
   "metadata": {},
   "source": [
    "### 2 PASSO: Renomeando strings de datas, para que o pandas possa aceitar como colunas"
   ]
  },
  {
   "cell_type": "code",
   "execution_count": null,
   "id": "f552ae2f-aca2-4c3b-ba0c-18fb803ee6df",
   "metadata": {},
   "outputs": [],
   "source": [
    "for columns in dataPERS.columns:\n",
    "    print(columns)"
   ]
  },
  {
   "cell_type": "code",
   "execution_count": null,
   "id": "f94cd533-5958-4673-8b72-1b7559a0baed",
   "metadata": {},
   "outputs": [],
   "source": [
    "dataPERS.columns = [\n",
    "'CATEGORIA',\n",
    "'MODALIDADE',\n",
    "'DIA DA SEMANA',\n",
    "'HORÁRIO',\n",
    "'TURNO',\n",
    "'PROFESSOR',\n",
    "'2024-10-01 00:00:00',\n",
    "'2024-10-02 00:00:00',\n",
    "'2024-10-03 00:00:00',\n",
    "'2024-10-04 00:00:00',\n",
    "'2024-10-07 00:00:00',\n",
    "'2024-10-08 00:00:00',\n",
    "'2024-10-09 00:00:00',\n",
    "'2024-10-10 00:00:00',\n",
    "'2024-10-11 00:00:00',\n",
    "'2024-10-14 00:00:00',\n",
    "'2024-10-15 00:00:00',\n",
    "'2024-10-16 00:00:00',\n",
    "'2024-10-17 00:00:00',\n",
    "'2024-10-18 00:00:00',\n",
    "'2024-10-21 00:00:00',\n",
    "'2024-10-22 00:00:00',\n",
    "'2024-10-23 00:00:00',\n",
    "'2024-10-24 00:00:00',\n",
    "'2024-10-25 00:00:00',\n",
    "'2024-10-28 00:00:00',\n",
    "'2024-10-29 00:00:00',\n",
    "'2024-10-30 00:00:00',\n",
    "'2024-10-31 00:00:00',\n",
    "'Média alunos p/ professor',\n",
    "'Média',\n",
    "'0']"
   ]
  },
  {
   "cell_type": "code",
   "execution_count": null,
   "id": "d3b72894-620b-438f-9e74-5523e12730ec",
   "metadata": {},
   "outputs": [],
   "source": [
    "dataPERS['0'].unique()"
   ]
  },
  {
   "cell_type": "code",
   "execution_count": null,
   "id": "15fb079a-4c90-404a-b665-433afe4cc752",
   "metadata": {},
   "outputs": [],
   "source": [
    "dataPERS.columns"
   ]
  },
  {
   "cell_type": "code",
   "execution_count": null,
   "id": "876c57e7-3e20-49da-a46f-534bd283368f",
   "metadata": {},
   "outputs": [],
   "source": [
    "search = (dataPERS['0'] == 'Professor')\n",
    "dataPERS[search]"
   ]
  },
  {
   "cell_type": "markdown",
   "id": "da306cf2-6f95-447e-99d6-1e15bc1e54ab",
   "metadata": {},
   "source": [
    "### PASSO 3: Escolhendo colunas com o nome de 'datas', para renomear pelo o tipo dia, mês e ano. e removendo os 00 de horas"
   ]
  },
  {
   "cell_type": "code",
   "execution_count": null,
   "id": "f46f4e58-fadc-4314-bfeb-57322dd305ca",
   "metadata": {},
   "outputs": [],
   "source": [
    "colunas = [\n",
    "'2024-10-01 00:00:00',\n",
    "'2024-10-02 00:00:00',\n",
    "'2024-10-03 00:00:00',\n",
    "'2024-10-04 00:00:00',\n",
    "'2024-10-07 00:00:00',\n",
    "'2024-10-08 00:00:00',\n",
    "'2024-10-09 00:00:00',\n",
    "'2024-10-10 00:00:00',\n",
    "'2024-10-11 00:00:00',\n",
    "'2024-10-14 00:00:00',\n",
    "'2024-10-15 00:00:00',\n",
    "'2024-10-16 00:00:00',\n",
    "'2024-10-17 00:00:00',\n",
    "'2024-10-18 00:00:00',\n",
    "'2024-10-21 00:00:00',\n",
    "'2024-10-22 00:00:00',\n",
    "'2024-10-23 00:00:00',\n",
    "'2024-10-24 00:00:00',\n",
    "'2024-10-25 00:00:00',\n",
    "'2024-10-28 00:00:00',\n",
    "'2024-10-29 00:00:00',\n",
    "'2024-10-30 00:00:00',\n",
    "'2024-10-31 00:00:00',\n",
    "]"
   ]
  },
  {
   "cell_type": "code",
   "execution_count": null,
   "id": "c148f10f-1b95-41e1-be0d-39a753c113b5",
   "metadata": {},
   "outputs": [],
   "source": [
    "novas_colunas_PERS = []"
   ]
  },
  {
   "cell_type": "code",
   "execution_count": null,
   "id": "aece2886-bfe7-4d35-881a-323b6e51c091",
   "metadata": {},
   "outputs": [],
   "source": [
    "for columns in colunas:\n",
    "    # Remove a parte da hora\n",
    "    data_sem_hora = columns.split(' ')[0]\n",
    "    \n",
    "    # Formata para o formato DD-MM-YYYY\n",
    "    ano, mes, dia = data_sem_hora.split('-')\n",
    "    novo_nome = f'{dia}-{mes}-{ano}'\n",
    "    novas_colunas_PERS.append(novo_nome)"
   ]
  },
  {
   "cell_type": "code",
   "execution_count": null,
   "id": "c5aae134-54cc-4637-a2b5-740ae9a1889e",
   "metadata": {},
   "outputs": [],
   "source": [
    "novas_colunas_PERS"
   ]
  },
  {
   "cell_type": "markdown",
   "id": "a0f83893-1856-4760-9c2f-cf6c0b90ff11",
   "metadata": {},
   "source": [
    "### PASSO 4 renomeando colunas e acrescentando o novo formato "
   ]
  },
  {
   "cell_type": "markdown",
   "id": "9fc54169-5185-4bc2-ac41-472722fa715c",
   "metadata": {},
   "source": [
    "copie as colunas que escolheu para renomear, e cole o formato novo no lugar das velhas"
   ]
  },
  {
   "cell_type": "code",
   "execution_count": null,
   "id": "cf16fb1a-00b9-423b-868f-2bf10e782e5a",
   "metadata": {},
   "outputs": [],
   "source": [
    "# Adicionando as datas formatadas as colunas, copiando e colando"
   ]
  },
  {
   "cell_type": "code",
   "execution_count": null,
   "id": "011f403b-d798-4b9a-9817-d944050ad63a",
   "metadata": {},
   "outputs": [],
   "source": [
    "for columns in dataPERS.columns:\n",
    "    print (columns)"
   ]
  },
  {
   "cell_type": "code",
   "execution_count": null,
   "id": "5df988a5-cca8-4003-9b94-6369fd3cc85e",
   "metadata": {},
   "outputs": [],
   "source": [
    "dataPERS.columns = [\n",
    "'CATEGORIA',\n",
    "'MODALIDADE',\n",
    "'DIA DA SEMANA',\n",
    "'HORÁRIO',\n",
    "'TURNO',\n",
    "'PROFESSOR',\n",
    "'2024-10-01',\n",
    "'2024-10-02',\n",
    "'2024-10-03',\n",
    "'2024-10-04',\n",
    "'2024-10-07',\n",
    "'2024-10-08',\n",
    "'2024-10-09',\n",
    "'2024-10-10',\n",
    "'2024-10-11',\n",
    "'2024-10-14',\n",
    "'2024-10-15',\n",
    "'2024-10-16',\n",
    "'2024-10-17',\n",
    "'2024-10-18',\n",
    "'2024-10-21',\n",
    "'2024-10-22',\n",
    "'2024-10-23',\n",
    "'2024-10-24',\n",
    "'2024-10-25',\n",
    "'2024-10-28',\n",
    "'2024-10-29',\n",
    "'2024-10-30',\n",
    "'2024-10-31',\n",
    "'Média alunos p/ professor',\n",
    "'Média',\n",
    "'0']"
   ]
  },
  {
   "cell_type": "markdown",
   "id": "0fcb0cab-7e6e-42c8-ac31-d43fbc17c14c",
   "metadata": {},
   "source": [
    "### 5 PASSO: Usar o Loop for para substitituir os valores das frequencia de 'x' e 'X' por zero, com o método do pd.to_numeric) "
   ]
  },
  {
   "cell_type": "code",
   "execution_count": null,
   "id": "d6314e42-282d-47c4-afd4-e597eecf6df0",
   "metadata": {},
   "outputs": [],
   "source": [
    "colunas = [\n",
    "'2024-10-01',\n",
    "'2024-10-02',\n",
    "'2024-10-03',\n",
    "'2024-10-04',\n",
    "'2024-10-07',\n",
    "'2024-10-08',\n",
    "'2024-10-09',\n",
    "'2024-10-10',\n",
    "'2024-10-11',\n",
    "'2024-10-14',\n",
    "'2024-10-15',\n",
    "'2024-10-16',\n",
    "'2024-10-17',\n",
    "'2024-10-18',\n",
    "'2024-10-21',\n",
    "'2024-10-22',\n",
    "'2024-10-23',\n",
    "'2024-10-24',\n",
    "'2024-10-25',\n",
    "'2024-10-28',\n",
    "'2024-10-29',\n",
    "'2024-10-30',\n",
    "'2024-10-31',\n",
    "]"
   ]
  },
  {
   "cell_type": "markdown",
   "id": "bcf9414d-3f3a-4f9a-86b2-0bb9a46b0a22",
   "metadata": {},
   "source": [
    "Fazendo a limpeza profunda, formatando valores para numeros, preenchendo com zeros os nulos e transformando em inteiros"
   ]
  },
  {
   "cell_type": "code",
   "execution_count": null,
   "id": "92be3ff4-5045-4a7f-8506-9829bf42566b",
   "metadata": {},
   "outputs": [],
   "source": [
    "for columns in colunas:\n",
    "    # dataMES[columns] = pd.to_numeric(dataMES[columns], errors='coerce')\n",
    "    dataPERS[columns] = pd.to_numeric(dataPERS[columns], errors='coerce').fillna(0).astype(int)"
   ]
  },
  {
   "cell_type": "markdown",
   "id": "bf836b6c-0aad-4b63-a3c5-64f2cc316df0",
   "metadata": {},
   "source": [
    "### PASSO 6: MELT derretendo as colunas em formato de datas"
   ]
  },
  {
   "cell_type": "markdown",
   "id": "0b40de59-6186-4f99-9577-7a9815225133",
   "metadata": {},
   "source": [
    "o MELT ele pega as colunas que estão na horizontal e cria uma coluna de categorias, e depois ele cria outra coluna com os valores dessas colunas que foram transformadas em dados categóricos"
   ]
  },
  {
   "cell_type": "code",
   "execution_count": null,
   "id": "8bff8264-4e6c-4828-b15c-a7c05a523aa1",
   "metadata": {},
   "outputs": [],
   "source": [
    "colunas_para_melt = [\n",
    "'2024-10-01',\n",
    "'2024-10-02',\n",
    "'2024-10-03',\n",
    "'2024-10-04',\n",
    "'2024-10-07',\n",
    "'2024-10-08',\n",
    "'2024-10-09',\n",
    "'2024-10-10',\n",
    "'2024-10-11',\n",
    "'2024-10-14',\n",
    "'2024-10-15',\n",
    "'2024-10-16',\n",
    "'2024-10-17',\n",
    "'2024-10-18',\n",
    "'2024-10-21',\n",
    "'2024-10-22',\n",
    "'2024-10-23',\n",
    "'2024-10-24',\n",
    "'2024-10-25',\n",
    "'2024-10-28',\n",
    "'2024-10-29',\n",
    "'2024-10-30',\n",
    "'2024-10-31',\n",
    "]"
   ]
  },
  {
   "cell_type": "markdown",
   "id": "8d1025ae-4de4-4de9-89b0-7d854f9ab09d",
   "metadata": {},
   "source": [
    "#### Indentificando as colunas que Eu quero manter em meu dataframe"
   ]
  },
  {
   "cell_type": "code",
   "execution_count": null,
   "id": "857d1ad0-933c-487b-b689-402f7b41fc7b",
   "metadata": {},
   "outputs": [],
   "source": [
    "# Identifica as colunas que você quer manter como identificadoras (id_vars)\n",
    "# São as colunas que não serão \"unpivoted\"\n",
    "id_vars_cols = [columns for columns in dataPERS.columns if columns not in colunas_para_melt]"
   ]
  },
  {
   "cell_type": "code",
   "execution_count": null,
   "id": "5cdbf96e-59c8-4ade-9cd4-1d78bac4c49e",
   "metadata": {},
   "outputs": [],
   "source": [
    "dataPERS_melted = pd.melt(dataPERS,\n",
    "                      id_vars=id_vars_cols, #colunas que Eu deixei, que ficaram.\n",
    "                      value_vars=colunas_para_melt, #colunas que vão se transformar.\n",
    "                      var_name='Dias de Aulas', # nome da coluna categorica\n",
    "                      value_name='Frequencia de Alunos') # nome da coluna de valores"
   ]
  },
  {
   "cell_type": "code",
   "execution_count": null,
   "id": "c620486a-89bc-4eaf-b7a6-4080d95cb4bb",
   "metadata": {},
   "outputs": [],
   "source": [
    "dataPERS_melted.head(2)"
   ]
  },
  {
   "cell_type": "code",
   "execution_count": null,
   "id": "6a7d800c-fc02-4e51-bfc0-30f8da2ac1be",
   "metadata": {},
   "outputs": [],
   "source": [
    "del dataPERS_melted['0']"
   ]
  },
  {
   "cell_type": "code",
   "execution_count": null,
   "id": "bc3795b3-6e3c-4cbb-bfa7-357e3e03ce47",
   "metadata": {},
   "outputs": [],
   "source": [
    "dataPERS_melted['Frequencia de Alunos'].sum()"
   ]
  },
  {
   "cell_type": "markdown",
   "id": "f43fc27a-6abc-4287-800f-f1c6f3757a6b",
   "metadata": {},
   "source": [
    "# JÓQUEI [JÓQ] - PREPROCESSING 16"
   ]
  },
  {
   "cell_type": "code",
   "execution_count": null,
   "id": "4807ade6-b18b-4d13-9431-0d107576b3a7",
   "metadata": {},
   "outputs": [],
   "source": [
    "data16 = pd.read_excel('Frequencia de Alunos Green Life Academias - outubro de 2024.xlsx', sheet_name='JÓQ', skiprows=1, nrows=106)"
   ]
  },
  {
   "cell_type": "code",
   "execution_count": null,
   "id": "e9d40ecc-e7db-45d4-9719-101619e5407a",
   "metadata": {},
   "outputs": [],
   "source": [
    "dataJOQ = data16.copy()"
   ]
  },
  {
   "cell_type": "markdown",
   "id": "cb6f9ddb-3362-408e-a5b3-c83e5b1d7681",
   "metadata": {},
   "source": [
    "### 1 PASSO: Removendo colunas desnecessárias"
   ]
  },
  {
   "cell_type": "code",
   "execution_count": null,
   "id": "c636f94c-e8b4-461b-9047-69467861c811",
   "metadata": {},
   "outputs": [],
   "source": [
    "dataJOQ.head(2)"
   ]
  },
  {
   "cell_type": "code",
   "execution_count": null,
   "id": "f5f744ab-2e9c-4230-b191-822afc6b2976",
   "metadata": {},
   "outputs": [],
   "source": [
    "dataJOQ.iloc[0]"
   ]
  },
  {
   "cell_type": "code",
   "execution_count": null,
   "id": "53226c97-62d7-459e-8686-829b30e09ea3",
   "metadata": {},
   "outputs": [],
   "source": [
    "dataJOQ.iloc[-1]"
   ]
  },
  {
   "cell_type": "code",
   "execution_count": null,
   "id": "92e2bcf6-885c-4fec-8eac-2b8f85b45237",
   "metadata": {},
   "outputs": [],
   "source": [
    "dropColumns = [\n",
    "'Unnamed: 0', 'Unnamed: 1', 'Unnamed: 2', 'HORÁRIO',\n",
    "'AUX 2', 'AUX 3']"
   ]
  },
  {
   "cell_type": "code",
   "execution_count": null,
   "id": "912a9410-6018-4448-994b-b1b1be21aac3",
   "metadata": {},
   "outputs": [],
   "source": [
    "dataJOQ.drop(columns=dropColumns, inplace=True)"
   ]
  },
  {
   "cell_type": "markdown",
   "id": "00dfa1f9-a414-44e4-b708-d9f76b869d09",
   "metadata": {},
   "source": [
    "- PRECISAMOS RENOMEAR A COLUNA AUX.1 COMO HORARIO"
   ]
  },
  {
   "cell_type": "code",
   "execution_count": null,
   "id": "ab90ead4-2019-4d16-af6d-d95fa9e0408c",
   "metadata": {},
   "outputs": [],
   "source": [
    "dataJOQ.rename(columns={'AUX.1': 'HORÁRIO'}, inplace=True)"
   ]
  },
  {
   "cell_type": "markdown",
   "id": "2306cda3-0107-4917-834a-f4bec797792b",
   "metadata": {},
   "source": [
    "### 2 PASSO: Renomeando strings de datas, para que o pandas possa aceitar como colunas"
   ]
  },
  {
   "cell_type": "code",
   "execution_count": null,
   "id": "796a0d24-356a-49a7-90f2-0950fc9c63ee",
   "metadata": {},
   "outputs": [],
   "source": [
    "for columns in dataJOQ.columns:\n",
    "    print(columns)"
   ]
  },
  {
   "cell_type": "code",
   "execution_count": null,
   "id": "a5222e6b-d9cb-4baa-bf7d-e331e73118bf",
   "metadata": {},
   "outputs": [],
   "source": [
    "dataJOQ.columns = [\n",
    "'CATEGORIA',\n",
    "'MODALIDADE',\n",
    "'DIA DA SEMANA',\n",
    "'HORÁRIO',\n",
    "'TURNO',\n",
    "'PROFESSOR',\n",
    "'2024-10-01 00:00:00',\n",
    "'2024-10-02 00:00:00',\n",
    "'2024-10-03 00:00:00',\n",
    "'2024-10-04 00:00:00',\n",
    "'2024-10-07 00:00:00',\n",
    "'2024-10-08 00:00:00',\n",
    "'2024-10-09 00:00:00',\n",
    "'2024-10-10 00:00:00',\n",
    "'2024-10-11 00:00:00',\n",
    "'2024-10-14 00:00:00',\n",
    "'2024-10-15 00:00:00',\n",
    "'2024-10-16 00:00:00',\n",
    "'2024-10-17 00:00:00',\n",
    "'2024-10-18 00:00:00',\n",
    "'2024-10-21 00:00:00',\n",
    "'2024-10-22 00:00:00',\n",
    "'2024-10-23 00:00:00',\n",
    "'2024-10-24 00:00:00',\n",
    "'2024-10-25 00:00:00',\n",
    "'2024-10-28 00:00:00',\n",
    "'2024-10-29 00:00:00',\n",
    "'2024-10-30 00:00:00',\n",
    "'2024-10-31 00:00:00',\n",
    "'Aulas/mês',\n",
    "'Média',\n",
    "'Alunos/professor',\n",
    "'Ocupação Máxima',\n",
    "'Professor']"
   ]
  },
  {
   "cell_type": "code",
   "execution_count": null,
   "id": "a42278d6-e062-4d7d-976c-04c9c2888613",
   "metadata": {},
   "outputs": [],
   "source": [
    "dataJOQ.columns"
   ]
  },
  {
   "cell_type": "markdown",
   "id": "69fe6524-1172-4228-97ca-231413366491",
   "metadata": {},
   "source": [
    "### PASSO 3: Escolhendo colunas com o nome de 'datas', para renomear pelo o tipo dia, mês e ano. e removendo os 00 de horas"
   ]
  },
  {
   "cell_type": "code",
   "execution_count": null,
   "id": "8c696286-c244-4869-b3f6-98b5877ff45e",
   "metadata": {},
   "outputs": [],
   "source": [
    "colunas = [\n",
    "'2024-10-01 00:00:00',\n",
    "'2024-10-02 00:00:00',\n",
    "'2024-10-03 00:00:00',\n",
    "'2024-10-04 00:00:00',\n",
    "'2024-10-07 00:00:00',\n",
    "'2024-10-08 00:00:00',\n",
    "'2024-10-09 00:00:00',\n",
    "'2024-10-10 00:00:00',\n",
    "'2024-10-11 00:00:00',\n",
    "'2024-10-14 00:00:00',\n",
    "'2024-10-15 00:00:00',\n",
    "'2024-10-16 00:00:00',\n",
    "'2024-10-17 00:00:00',\n",
    "'2024-10-18 00:00:00',\n",
    "'2024-10-21 00:00:00',\n",
    "'2024-10-22 00:00:00',\n",
    "'2024-10-23 00:00:00',\n",
    "'2024-10-24 00:00:00',\n",
    "'2024-10-25 00:00:00',\n",
    "'2024-10-28 00:00:00',\n",
    "'2024-10-29 00:00:00',\n",
    "'2024-10-30 00:00:00',\n",
    "'2024-10-31 00:00:00']"
   ]
  },
  {
   "cell_type": "code",
   "execution_count": null,
   "id": "5c1196a1-026e-45e7-8532-98e2abcd1786",
   "metadata": {},
   "outputs": [],
   "source": [
    "novas_colunas_JOQ = []"
   ]
  },
  {
   "cell_type": "code",
   "execution_count": null,
   "id": "c62f0018-0c31-43da-b814-de0ff3bbb15c",
   "metadata": {},
   "outputs": [],
   "source": [
    "for columns in colunas:\n",
    "    # Remove a parte da hora\n",
    "    data_sem_hora = columns.split(' ')[0]\n",
    "    \n",
    "    # Formata para o formato DD-MM-YYYY\n",
    "    ano, mes, dia = data_sem_hora.split('-')\n",
    "    novo_nome = f'{dia}-{mes}-{ano}'\n",
    "    novas_colunas_JOQ.append(novo_nome)"
   ]
  },
  {
   "cell_type": "code",
   "execution_count": null,
   "id": "1adada7c-bd57-4f53-8d02-d7f510db173f",
   "metadata": {},
   "outputs": [],
   "source": [
    "novas_colunas_JOQ"
   ]
  },
  {
   "cell_type": "markdown",
   "id": "8ed72960-8494-4a65-929c-00050a481e16",
   "metadata": {},
   "source": [
    "### PASSO 4 renomeando colunas e acrescentando o novo formato "
   ]
  },
  {
   "cell_type": "markdown",
   "id": "c5b4c990-7327-4deb-aa18-0a1e132e48f0",
   "metadata": {},
   "source": [
    "copie as colunas que escolheu para renomear, e cole o formato novo no lugar das velhas"
   ]
  },
  {
   "cell_type": "code",
   "execution_count": null,
   "id": "1c612b77-4cfa-482f-87e2-1b14000e3650",
   "metadata": {},
   "outputs": [],
   "source": [
    "# Adicionando as datas formatadas as colunas, copiando e colando"
   ]
  },
  {
   "cell_type": "code",
   "execution_count": null,
   "id": "2aba338d-2d30-4ed6-ab91-37c14cad33bc",
   "metadata": {},
   "outputs": [],
   "source": [
    "for columns in dataJOQ.columns:\n",
    "    print (columns)"
   ]
  },
  {
   "cell_type": "code",
   "execution_count": null,
   "id": "55b044e6-8227-44c6-9bd3-bb67efd721c6",
   "metadata": {},
   "outputs": [],
   "source": [
    "dataJOQ.columns = [\n",
    "'CATEGORIA',\n",
    "'MODALIDADE',\n",
    "'DIA DA SEMANA',\n",
    "'HORÁRIO',\n",
    "'TURNO',\n",
    "'PROFESSOR',\n",
    "'01-10-2024',\n",
    "'02-10-2024',\n",
    "'03-10-2024',\n",
    "'04-10-2024',\n",
    "'07-10-2024',\n",
    "'08-10-2024',\n",
    "'09-10-2024',\n",
    "'10-10-2024',\n",
    "'11-10-2024',\n",
    "'14-10-2024',\n",
    "'15-10-2024',\n",
    "'16-10-2024',\n",
    "'17-10-2024',\n",
    "'18-10-2024',\n",
    "'21-10-2024',\n",
    "'22-10-2024',\n",
    "'23-10-2024',\n",
    "'24-10-2024',\n",
    "'25-10-2024',\n",
    "'28-10-2024',\n",
    "'29-10-2024',\n",
    "'30-10-2024',\n",
    "'31-10-2024', \n",
    "'Aulas/mês',\n",
    "'Média',\n",
    "'Alunos/professor',\n",
    "'Ocupação Máxima',\n",
    "'Professor']"
   ]
  },
  {
   "cell_type": "code",
   "execution_count": null,
   "id": "7fdc1de4-7a0a-44bd-8100-51de1087849e",
   "metadata": {},
   "outputs": [],
   "source": [
    "dataJOQ.columns"
   ]
  },
  {
   "cell_type": "markdown",
   "id": "abc5638b-e9b9-481d-bd4d-c47e1514f28e",
   "metadata": {},
   "source": [
    "### 5 PASSO: Usar o Loop for para substitituir os valores das frequencia de 'x' e 'X' por zero, com o método do pd.to_numeric) "
   ]
  },
  {
   "cell_type": "code",
   "execution_count": null,
   "id": "5c7fe218-040d-43bf-be0c-f477ae4b51ea",
   "metadata": {},
   "outputs": [],
   "source": [
    "colunas = [\n",
    "'01-10-2024',\n",
    "'02-10-2024',\n",
    "'03-10-2024',\n",
    "'04-10-2024',\n",
    "'07-10-2024',\n",
    "'08-10-2024',\n",
    "'09-10-2024',\n",
    "'10-10-2024',\n",
    "'11-10-2024',\n",
    "'14-10-2024',\n",
    "'15-10-2024',\n",
    "'16-10-2024',\n",
    "'17-10-2024',\n",
    "'18-10-2024',\n",
    "'21-10-2024',\n",
    "'22-10-2024',\n",
    "'23-10-2024',\n",
    "'24-10-2024',\n",
    "'25-10-2024',\n",
    "'28-10-2024',\n",
    "'29-10-2024',\n",
    "'30-10-2024',\n",
    "'31-10-2024'\n",
    "]"
   ]
  },
  {
   "cell_type": "markdown",
   "id": "d2173535-9672-4e4e-8827-7a8b6c203c21",
   "metadata": {},
   "source": [
    "Fazendo a limpeza profunda, formatando valores para numeros, preenchendo com zeros os nulos e transformando em inteiros"
   ]
  },
  {
   "cell_type": "code",
   "execution_count": null,
   "id": "bbc0bd3b-90ca-4168-b069-bda40504372b",
   "metadata": {},
   "outputs": [],
   "source": [
    "for columns in colunas:\n",
    "    # dataMES[columns] = pd.to_numeric(dataMES[columns], errors='coerce')\n",
    "    dataJOQ[columns] = pd.to_numeric(dataJOQ[columns], errors='coerce').fillna(0).astype(int)"
   ]
  },
  {
   "cell_type": "markdown",
   "id": "55748776-8f69-4728-9ae5-76306b817bb1",
   "metadata": {},
   "source": [
    "### PASSO 6: MELT derretendo as colunas em formato de datas"
   ]
  },
  {
   "cell_type": "markdown",
   "id": "ead0a981-c46a-409c-af7b-dfed4df7c68d",
   "metadata": {},
   "source": [
    "o MELT ele pega as colunas que estão na horizontal e cria uma coluna de categorias, e depois ele cria outra coluna com os valores dessas colunas que foram transformadas em dados categóricos"
   ]
  },
  {
   "cell_type": "code",
   "execution_count": null,
   "id": "66c4ec3e-38bd-40ca-92f8-e9178d1e11f4",
   "metadata": {},
   "outputs": [],
   "source": [
    "colunas_para_melt = [\n",
    "'01-10-2024',\n",
    "'02-10-2024',\n",
    "'03-10-2024',\n",
    "'04-10-2024',\n",
    "'07-10-2024',\n",
    "'08-10-2024',\n",
    "'09-10-2024',\n",
    "'10-10-2024',\n",
    "'11-10-2024',\n",
    "'14-10-2024',\n",
    "'15-10-2024',\n",
    "'16-10-2024',\n",
    "'17-10-2024',\n",
    "'18-10-2024',\n",
    "'21-10-2024',\n",
    "'22-10-2024',\n",
    "'23-10-2024',\n",
    "'24-10-2024',\n",
    "'25-10-2024',\n",
    "'28-10-2024',\n",
    "'29-10-2024',\n",
    "'30-10-2024',\n",
    "'31-10-2024']"
   ]
  },
  {
   "cell_type": "markdown",
   "id": "1a9b335a-135d-4754-a04d-6bdb44a7e42e",
   "metadata": {},
   "source": [
    "#### Indentificando as colunas que Eu quero manter em meu dataframe"
   ]
  },
  {
   "cell_type": "code",
   "execution_count": null,
   "id": "2e8b8bb4-5784-42a9-8ed5-513c743772fa",
   "metadata": {},
   "outputs": [],
   "source": [
    "# Identifica as colunas que você quer manter como identificadoras (id_vars)\n",
    "# São as colunas que não serão \"unpivoted\"\n",
    "id_vars_cols = [columns for columns in dataJOQ.columns if columns not in colunas_para_melt]"
   ]
  },
  {
   "cell_type": "code",
   "execution_count": null,
   "id": "58bbf645-809b-4401-bab0-4539870b9674",
   "metadata": {},
   "outputs": [],
   "source": [
    "dataJOQ_melted = pd.melt(dataJOQ,\n",
    "                      id_vars=id_vars_cols, #colunas que Eu deixei, que ficaram.\n",
    "                      value_vars=colunas_para_melt, #colunas que vão se transformar.\n",
    "                      var_name='Dias de Aulas', # nome da coluna categorica\n",
    "                      value_name='Frequencia de Alunos') # nome da coluna de valores"
   ]
  },
  {
   "cell_type": "code",
   "execution_count": null,
   "id": "1b918c16-c3c5-47ad-834c-aafced5850aa",
   "metadata": {},
   "outputs": [],
   "source": [
    "dataJOQ_melted.head(2)"
   ]
  },
  {
   "cell_type": "code",
   "execution_count": null,
   "id": "d03ee4b9-6d9a-465a-983d-028cca3c7d7d",
   "metadata": {},
   "outputs": [],
   "source": [
    "dataJOQ_melted['Frequencia de Alunos'].sum()"
   ]
  },
  {
   "cell_type": "markdown",
   "id": "4b690f6f-10ef-4fdb-9a39-c280e5526444",
   "metadata": {},
   "source": [
    "## RIOMAR [RIOMAR] - PREPROCESSING 17"
   ]
  },
  {
   "cell_type": "code",
   "execution_count": null,
   "id": "0894e763-8420-4ce2-8e93-a767a96add40",
   "metadata": {},
   "outputs": [],
   "source": [
    "data17 = pd.read_excel('Frequencia de Alunos Green Life Academias - outubro de 2024.xlsx', sheet_name='RIOMAR', skiprows=1, nrows=211)"
   ]
  },
  {
   "cell_type": "code",
   "execution_count": null,
   "id": "44e5fb58-520e-4cd1-9b3a-a92cf75361cf",
   "metadata": {},
   "outputs": [],
   "source": [
    "dataRIOMAR = data17.copy()"
   ]
  },
  {
   "cell_type": "markdown",
   "id": "4d470aee-46ed-44c7-bd21-4759d6516e20",
   "metadata": {},
   "source": [
    "### 1 PASSO: Removendo colunas desnecessárias"
   ]
  },
  {
   "cell_type": "code",
   "execution_count": null,
   "id": "68f56be1-7d6e-4f82-8a9c-be41d7e1bd60",
   "metadata": {},
   "outputs": [],
   "source": [
    "dataRIOMAR.head(2)"
   ]
  },
  {
   "cell_type": "code",
   "execution_count": null,
   "id": "55bd06d8-179b-406a-9ebb-ae64528dbf4a",
   "metadata": {},
   "outputs": [],
   "source": [
    "dataRIOMAR.iloc[0]"
   ]
  },
  {
   "cell_type": "code",
   "execution_count": null,
   "id": "d690b78d-d570-4174-a24e-38a7c72aa208",
   "metadata": {},
   "outputs": [],
   "source": [
    "dataRIOMAR.iloc[-1]"
   ]
  },
  {
   "cell_type": "code",
   "execution_count": null,
   "id": "6aba4f5f-d7d1-4abf-9f82-6dd43bde65b9",
   "metadata": {},
   "outputs": [],
   "source": [
    "dropColumns = ['Unnamed: 0', 'AUX 2', 'AUX 3', 'HORÁRIO']"
   ]
  },
  {
   "cell_type": "code",
   "execution_count": null,
   "id": "69ff4456-4a7e-4a07-bb92-fd7a10b84bd5",
   "metadata": {},
   "outputs": [],
   "source": [
    "dataRIOMAR.drop(columns=dropColumns, inplace=True)"
   ]
  },
  {
   "cell_type": "markdown",
   "id": "4f01c08e-f5ba-4d15-87f2-5b8dbc2dd040",
   "metadata": {},
   "source": [
    "- PRECISAMOS RENOMEAR A COLUNA AUX.1 COMO HORARIO"
   ]
  },
  {
   "cell_type": "code",
   "execution_count": null,
   "id": "ff71b8d9-a778-49b8-b4f2-986bb6b82f1c",
   "metadata": {},
   "outputs": [],
   "source": [
    "dataRIOMAR.rename(columns={'TURNO': 'HORÁRIO'}, inplace=True)\n",
    "dataRIOMAR.rename(columns={'AUX 1': 'TURNO'}, inplace=True)"
   ]
  },
  {
   "cell_type": "code",
   "execution_count": null,
   "id": "bec0d82f-c85d-4953-9658-cb776aeb31d9",
   "metadata": {},
   "outputs": [],
   "source": [
    "dataRIOMAR[['TURNO', 'HORÁRIO']].head(2)"
   ]
  },
  {
   "cell_type": "markdown",
   "id": "fa865c0c-fbed-471d-8f92-6865a7ecc86d",
   "metadata": {},
   "source": [
    "### 2 PASSO: Renomeando strings de datas, para que o pandas possa aceitar como colunas"
   ]
  },
  {
   "cell_type": "code",
   "execution_count": null,
   "id": "75baa022-728e-496f-bbb1-5fabef435d8a",
   "metadata": {},
   "outputs": [],
   "source": [
    "for columns in dataRIOMAR.columns:\n",
    "    print(columns)"
   ]
  },
  {
   "cell_type": "code",
   "execution_count": null,
   "id": "4d4d95f3-a8e0-4a79-9c2f-424b904831b6",
   "metadata": {},
   "outputs": [],
   "source": [
    "dataRIOMAR.columns = [\n",
    "'CATEGORIA',\n",
    "'MODALIDADE',\n",
    "'DIA DA SEMANA',\n",
    "'HORÁRIO',\n",
    "'TURNO',\n",
    "'PROFESSOR',\n",
    "'2024-10-01 00:00:00',\n",
    "'2024-10-02 00:00:00',\n",
    "'2024-10-03 00:00:00',\n",
    "'2024-10-04 00:00:00',\n",
    "'2024-10-07 00:00:00',\n",
    "'2024-10-08 00:00:00',\n",
    "'2024-10-09 00:00:00',\n",
    "'2024-10-10 00:00:00',\n",
    "'2024-10-11 00:00:00',\n",
    "'2024-10-14 00:00:00',\n",
    "'2024-10-15 00:00:00',\n",
    "'2024-10-16 00:00:00',\n",
    "'2024-10-17 00:00:00',\n",
    "'2024-10-18 00:00:00',\n",
    "'2024-10-21 00:00:00',\n",
    "'2024-10-22 00:00:00',\n",
    "'2024-10-23 00:00:00',\n",
    "'2024-10-24 00:00:00',\n",
    "'2024-10-25 00:00:00',\n",
    "'2024-10-28 00:00:00',\n",
    "'2024-10-29 00:00:00',\n",
    "'2024-10-30 00:00:00',\n",
    "'2024-10-31 00:00:00',\n",
    "'Média alunos p/ professor',\n",
    "'Média',\n",
    "'Alunos/professor',\n",
    "'Ocupação Máxima',\n",
    "'Professor']"
   ]
  },
  {
   "cell_type": "markdown",
   "id": "f835483d-6e7e-4fd0-80ec-d6c7a9929193",
   "metadata": {},
   "source": [
    "### PASSO 3: Escolhendo colunas com o nome de 'datas', para renomear pelo o tipo dia, mês e ano. e removendo os 00 de horas"
   ]
  },
  {
   "cell_type": "code",
   "execution_count": null,
   "id": "698899c5-c605-4cd7-a833-d99a55afa219",
   "metadata": {},
   "outputs": [],
   "source": [
    "colunas = [\n",
    "'2024-10-01 00:00:00',\n",
    "'2024-10-02 00:00:00',\n",
    "'2024-10-03 00:00:00',\n",
    "'2024-10-04 00:00:00',\n",
    "'2024-10-07 00:00:00',\n",
    "'2024-10-08 00:00:00',\n",
    "'2024-10-09 00:00:00',\n",
    "'2024-10-10 00:00:00',\n",
    "'2024-10-11 00:00:00',\n",
    "'2024-10-14 00:00:00',\n",
    "'2024-10-15 00:00:00',\n",
    "'2024-10-16 00:00:00',\n",
    "'2024-10-17 00:00:00',\n",
    "'2024-10-18 00:00:00',\n",
    "'2024-10-21 00:00:00',\n",
    "'2024-10-22 00:00:00',\n",
    "'2024-10-23 00:00:00',\n",
    "'2024-10-24 00:00:00',\n",
    "'2024-10-25 00:00:00',\n",
    "'2024-10-28 00:00:00',\n",
    "'2024-10-29 00:00:00',\n",
    "'2024-10-30 00:00:00',\n",
    "'2024-10-31 00:00:00']"
   ]
  },
  {
   "cell_type": "code",
   "execution_count": null,
   "id": "19df6af5-c3c2-4b35-a6c8-7f67d641f74f",
   "metadata": {},
   "outputs": [],
   "source": [
    "novas_colunas_RIOMAR = []"
   ]
  },
  {
   "cell_type": "code",
   "execution_count": null,
   "id": "6f4bc09c-a844-45fb-8bf8-aa4e3fb5d042",
   "metadata": {},
   "outputs": [],
   "source": [
    "for columns in colunas:\n",
    "    # Remove a parte da hora\n",
    "    data_sem_hora = columns.split(' ')[0]\n",
    "    \n",
    "    # Formata para o formato DD-MM-YYYY\n",
    "    ano, mes, dia = data_sem_hora.split('-')\n",
    "    novo_nome = f'{dia}-{mes}-{ano}'\n",
    "    novas_colunas_RIOMAR.append(novo_nome)"
   ]
  },
  {
   "cell_type": "code",
   "execution_count": null,
   "id": "4bfc3881-17f4-41e9-9885-626f35d4d71d",
   "metadata": {},
   "outputs": [],
   "source": [
    "novas_colunas_RIOMAR"
   ]
  },
  {
   "cell_type": "markdown",
   "id": "f96c9a60-97f6-4ff2-88c6-2baebde9c865",
   "metadata": {},
   "source": [
    "### PASSO 4 renomeando colunas e acrescentando o novo formato "
   ]
  },
  {
   "cell_type": "markdown",
   "id": "4647b12a-4a14-4315-b4f3-5d535a8e2d2e",
   "metadata": {},
   "source": [
    "copie as colunas que escolheu para renomear, e cole o formato novo no lugar das velhas"
   ]
  },
  {
   "cell_type": "code",
   "execution_count": null,
   "id": "f21955d9-9890-4c20-ac9b-79019713b86b",
   "metadata": {},
   "outputs": [],
   "source": [
    "# Adicionando as datas formatadas as colunas, copiando e colando"
   ]
  },
  {
   "cell_type": "code",
   "execution_count": null,
   "id": "6067ebf1-e86d-488a-a054-da22c4e78cc9",
   "metadata": {},
   "outputs": [],
   "source": [
    "for columns in dataRIOMAR.columns:\n",
    "    print (columns)"
   ]
  },
  {
   "cell_type": "code",
   "execution_count": null,
   "id": "358ff8b4-960f-4a9a-9bcf-aa7711ecf798",
   "metadata": {},
   "outputs": [],
   "source": [
    "dataRIOMAR.columns = [\n",
    "'CATEGORIA',\n",
    "'MODALIDADE',\n",
    "'DIA DA SEMANA',\n",
    "'HORÁRIO',\n",
    "'TURNO',\n",
    "'PROFESSOR',\n",
    "'01-10-2024',\n",
    "'02-10-2024',\n",
    "'03-10-2024',\n",
    "'04-10-2024',\n",
    "'07-10-2024',\n",
    "'08-10-2024',\n",
    "'09-10-2024',\n",
    "'10-10-2024',\n",
    "'11-10-2024',\n",
    "'14-10-2024',\n",
    "'15-10-2024',\n",
    "'16-10-2024',\n",
    "'17-10-2024',\n",
    "'18-10-2024',\n",
    "'21-10-2024',\n",
    "'22-10-2024',\n",
    "'23-10-2024',\n",
    "'24-10-2024',\n",
    "'25-10-2024',\n",
    "'28-10-2024',\n",
    "'29-10-2024',\n",
    "'30-10-2024',\n",
    "'31-10-2024',\n",
    "'Média alunos p/ professor',\n",
    "'Média',\n",
    "'Alunos/professor',\n",
    "'Ocupação Máxima',\n",
    "'Professor']"
   ]
  },
  {
   "cell_type": "code",
   "execution_count": null,
   "id": "751af0be-3168-49c9-b9d1-3d0d10e38996",
   "metadata": {},
   "outputs": [],
   "source": [
    "dataRIOMAR.columns"
   ]
  },
  {
   "cell_type": "markdown",
   "id": "79553492-dd46-437c-b249-6bf1cc850b5b",
   "metadata": {},
   "source": [
    "### 5 PASSO: Usar o Loop for para substitituir os valores das frequencia de 'x' e 'X' por zero, com o método do pd.to_numeric) "
   ]
  },
  {
   "cell_type": "code",
   "execution_count": null,
   "id": "47f040e7-63b7-4d5f-ad78-5986499de671",
   "metadata": {},
   "outputs": [],
   "source": [
    "colunas = [\n",
    "'01-10-2024',\n",
    "'02-10-2024',\n",
    "'03-10-2024',\n",
    "'04-10-2024',\n",
    "'07-10-2024',\n",
    "'08-10-2024',\n",
    "'09-10-2024',\n",
    "'10-10-2024',\n",
    "'11-10-2024',\n",
    "'14-10-2024',\n",
    "'15-10-2024',\n",
    "'16-10-2024',\n",
    "'17-10-2024',\n",
    "'18-10-2024',\n",
    "'21-10-2024',\n",
    "'22-10-2024',\n",
    "'23-10-2024',\n",
    "'24-10-2024',\n",
    "'25-10-2024',\n",
    "'28-10-2024',\n",
    "'29-10-2024',\n",
    "'30-10-2024',\n",
    "'31-10-2024']"
   ]
  },
  {
   "cell_type": "markdown",
   "id": "dfde3f66-6887-4921-b4a3-0fce43470c08",
   "metadata": {},
   "source": [
    "Fazendo a limpeza profunda, formatando valores para numeros, preenchendo com zeros os nulos e transformando em inteiros"
   ]
  },
  {
   "cell_type": "code",
   "execution_count": null,
   "id": "66134cd8-37f3-4a46-89f3-fc3498114a2d",
   "metadata": {},
   "outputs": [],
   "source": [
    "for columns in colunas:\n",
    "    # dataMES[columns] = pd.to_numeric(dataMES[columns], errors='coerce')\n",
    "    dataRIOMAR[columns] = pd.to_numeric(dataRIOMAR[columns], errors='coerce').fillna(0).astype(int)"
   ]
  },
  {
   "cell_type": "markdown",
   "id": "34575361-6df5-4824-ab7c-1c19731e38f5",
   "metadata": {},
   "source": [
    "### PASSO 6: MELT derretendo as colunas em formato de datas"
   ]
  },
  {
   "cell_type": "markdown",
   "id": "0d6557cf-3e1d-408a-8127-29e63d8a345d",
   "metadata": {},
   "source": [
    "o MELT ele pega as colunas que estão na horizontal e cria uma coluna de categorias, e depois ele cria outra coluna com os valores dessas colunas que foram transformadas em dados categóricos"
   ]
  },
  {
   "cell_type": "code",
   "execution_count": null,
   "id": "377040b6-d05e-4a1f-92b2-55d7324e54b1",
   "metadata": {},
   "outputs": [],
   "source": [
    "colunas_para_melt = [\n",
    "'01-10-2024',\n",
    "'02-10-2024',\n",
    "'03-10-2024',\n",
    "'04-10-2024',\n",
    "'07-10-2024',\n",
    "'08-10-2024',\n",
    "'09-10-2024',\n",
    "'10-10-2024',\n",
    "'11-10-2024',\n",
    "'14-10-2024',\n",
    "'15-10-2024',\n",
    "'16-10-2024',\n",
    "'17-10-2024',\n",
    "'18-10-2024',\n",
    "'21-10-2024',\n",
    "'22-10-2024',\n",
    "'23-10-2024',\n",
    "'24-10-2024',\n",
    "'25-10-2024',\n",
    "'28-10-2024',\n",
    "'29-10-2024',\n",
    "'30-10-2024',\n",
    "'31-10-2024']"
   ]
  },
  {
   "cell_type": "markdown",
   "id": "d130e519-15f7-4e83-a6b6-9c81cf600f26",
   "metadata": {},
   "source": [
    "#### Indentificando as colunas que Eu quero manter em meu dataframe"
   ]
  },
  {
   "cell_type": "code",
   "execution_count": null,
   "id": "e4ba6011-8301-458e-a461-37802ca9b814",
   "metadata": {},
   "outputs": [],
   "source": [
    "# Identifica as colunas que você quer manter como identificadoras (id_vars)\n",
    "# São as colunas que não serão \"unpivoted\"\n",
    "id_vars_cols = [columns for columns in dataRIOMAR.columns if columns not in colunas_para_melt]"
   ]
  },
  {
   "cell_type": "code",
   "execution_count": null,
   "id": "948a8954-c3ab-42b4-939b-38b4046530d1",
   "metadata": {},
   "outputs": [],
   "source": [
    "dataRIOMAR_melted = pd.melt(dataRIOMAR,\n",
    "                      id_vars=id_vars_cols, #colunas que Eu deixei, que ficaram.\n",
    "                      value_vars=colunas_para_melt, #colunas que vão se transformar.\n",
    "                      var_name='Dias de Aulas', # nome da coluna categorica\n",
    "                      value_name='Frequencia de Alunos') # nome da coluna de valores"
   ]
  },
  {
   "cell_type": "code",
   "execution_count": null,
   "id": "efe809d2-f5db-4961-8b71-aec734b8bc8a",
   "metadata": {},
   "outputs": [],
   "source": [
    "dataRIOMAR_melted.head(2)"
   ]
  },
  {
   "cell_type": "code",
   "execution_count": null,
   "id": "3df37f63-0244-40e9-a039-fa070768acd3",
   "metadata": {},
   "outputs": [],
   "source": [
    "dataRIOMAR_melted['Frequencia de Alunos'].sum()"
   ]
  },
  {
   "cell_type": "markdown",
   "id": "3d3c1bf7-49fc-4f45-903b-540a673b4ec6",
   "metadata": {},
   "source": [
    "# ULTIMOS AJUSTES PARA CONCATENÇÃO E EXPORTAÇÃO"
   ]
  },
  {
   "cell_type": "markdown",
   "id": "8b01afc2-c321-4965-86d7-d163fac58a4a",
   "metadata": {},
   "source": [
    "checando, são as todas as colunas e as quantidades das frequencias\n",
    "- CATEGORIA\n",
    "- MODALIDADE\n",
    "- DIA DA SEMANA\n",
    "- HORÁRIO\n",
    "- TURNO\n",
    "- PROFESSOR\n",
    "\n"
   ]
  },
  {
   "cell_type": "markdown",
   "id": "00e377b6-ee39-4597-ae6b-94dff2311f94",
   "metadata": {},
   "source": [
    "1. MESSAJANA [MES]\n",
    "- Colunas: OK\n",
    "- Soma das Frequencias: OK"
   ]
  },
  {
   "cell_type": "markdown",
   "id": "1e5cd0d8-9192-48e0-8cd9-a08a974ca2bc",
   "metadata": {},
   "source": [
    "### Concatenação Final"
   ]
  },
  {
   "cell_type": "code",
   "execution_count": null,
   "id": "99647cd7-b33d-4e13-ad83-bcfe98076aa6",
   "metadata": {},
   "outputs": [],
   "source": [
    "# Suponha que seus DataFrames (dataMES_melted, etc.) já estejam definidos\n",
    "\n",
    "lista_de_dataframes = [\n",
    "    dataMES_melted, dataALD_melted, dataFAT_melted, dataBOOT_melted, dataCAMB_melted,\n",
    "    dataEUS_melted, dataGUA_melted, dataKEN_melted, dataMPE_melted, dataMAR_melted,\n",
    "    dataSUL_melted, dataRUI_melted, dataPAS_melted, dataPARQ_melted, dataPERS_melted,\n",
    "    dataJOQ_melted, dataRIOMAR_melted]"
   ]
  },
  {
   "cell_type": "code",
   "execution_count": null,
   "id": "ece330e9-174f-494f-b89d-69061775cf4f",
   "metadata": {},
   "outputs": [],
   "source": [
    "nomes_unidades = [\n",
    "    'MESSEJANA', 'ALDEOTA', 'FATIMA', 'BOOTCAMP', 'CAMBEBA',\n",
    "    'EUSÉBIO', 'GUARARÁPES', 'KENNEDY', 'MARANGUAPE', 'MARAPONGA',\n",
    "    'SUL', 'RUI BARBOSA', 'PASSARÉ', 'PARQUELÂNDIA', 'PERSONAL',\n",
    "    'JÓQUEI', 'RIOMAR'\n",
    "]"
   ]
  },
  {
   "cell_type": "code",
   "execution_count": null,
   "id": "61af807a-a1ac-4ab2-bd6b-6a18e8aad6c0",
   "metadata": {},
   "outputs": [],
   "source": [
    "dataframe_concatenado = pd.concat(lista_de_dataframes, keys=nomes_unidades, names=['Unidade'], ignore_index=False)\n"
   ]
  },
  {
   "cell_type": "code",
   "execution_count": null,
   "id": "8c10bda3-a579-43f4-a14d-799d66cf7e4d",
   "metadata": {},
   "outputs": [],
   "source": [
    "dataframe_concatenado = dataframe_concatenado.reset_index(level='Unidade')"
   ]
  },
  {
   "cell_type": "code",
   "execution_count": null,
   "id": "e2d6c963-9d47-4bd0-862b-21ea578777b6",
   "metadata": {},
   "outputs": [],
   "source": [
    "dataframe_concatenado.head(2)"
   ]
  },
  {
   "cell_type": "markdown",
   "id": "66a26abb-5679-4a4a-9195-d19551e445e0",
   "metadata": {},
   "source": [
    "#### Exportando"
   ]
  },
  {
   "cell_type": "code",
   "execution_count": null,
   "id": "3fd25f41-b421-4960-907b-c0d8f6d5d3b2",
   "metadata": {},
   "outputs": [],
   "source": [
    "dataframe_concatenado.to_excel('frequencia_concatenado_limpo_08-04-2025.xlsx', index=False)"
   ]
  },
  {
   "cell_type": "code",
   "execution_count": null,
   "id": "04cecb95-67d8-4732-8890-7a6dfb051050",
   "metadata": {},
   "outputs": [],
   "source": []
  }
 ],
 "metadata": {
  "kernelspec": {
   "display_name": "Python [conda env:base] *",
   "language": "python",
   "name": "conda-base-py"
  },
  "language_info": {
   "codemirror_mode": {
    "name": "ipython",
    "version": 3
   },
   "file_extension": ".py",
   "mimetype": "text/x-python",
   "name": "python",
   "nbconvert_exporter": "python",
   "pygments_lexer": "ipython3",
   "version": "3.13.5"
  },
  "toc-autonumbering": false,
  "toc-showcode": false,
  "toc-showtags": true
 },
 "nbformat": 4,
 "nbformat_minor": 5
}
